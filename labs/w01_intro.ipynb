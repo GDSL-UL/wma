{
 "cells": [
  {
   "cell_type": "raw",
   "id": "ebab586a-a927-45f1-82d7-ea3f3569a62f",
   "metadata": {},
   "source": [
    "---\n",
    "title: \"Introduction & Python Refresher\"\n",
    "author: \"Gabriele Filomena\"\n",
    "date: today\n",
    "format: \n",
    "  html: \n",
    "    code-fold: false\n",
    "---"
   ]
  },
  {
   "cell_type": "markdown",
   "id": "1d01b201-db45-4a95-af23-41bd47fe6891",
   "metadata": {},
   "source": [
    "The **Lecture slides** can be found [here](https://slides.com/gfilo/web-mapping-and-geovisualisation-envs456/fullscreen).\n",
    "\n",
    "This **lab**'s notebook can be downloaded from [here](https://github.com/GDSL-UL/wma/blob/main/labs/w01_intro.ipynb).\n",
    "\n",
    "## Part I: Powerful Web Mapping Examples\n",
    "\n",
    "This part of the lab has two main components:\n",
    "1.  The first one will require you to find a partner and work together with her/him\n",
    "2.  And the second one will involve group discussion.\n",
    "\n",
    "### Paired Activity\n",
    "\n",
    "In pairs, find **three** examples where web maps are used to communicate an idea. Complete the following sheet for each example:\n",
    "\n",
    "-   **Substantive**\n",
    "    -   `Title`: Title of the map/project\n",
    "    -   `Author`: Who is behind the project?\n",
    "    -   `Big idea`: a \"one-liner\" on what the project tries to accomplish --\n",
    "    -   `Message`: what does the map try to get accross\n",
    "\n",
    "-   **Technical**\n",
    "    -   `URL`:\n",
    "    -   `Interactivity`: does the map let you interact with it in any way? Yes/No\n",
    "    -   `Zoomable`: can you explore the map at different scales? Yes/No\n",
    "    -   `Tooltips`:\n",
    "    -   `Basemap`: Is there an underlying map providing geographical context? Yes/No. If so, who is it provided by?\n",
    "    -   `Technology`: can you guess what technology does this map rely on?\n",
    "\n",
    "Post each sheet as a separate item on the Teams channel for Lab No.1"
   ]
  },
  {
   "cell_type": "markdown",
   "id": "f9715728-8c33-47be-a30a-82ece497e085",
   "metadata": {},
   "source": [
    "#### Example\n",
    "The project \"WHO Coronavirus (COVID-19) Dashboard\"\n",
    "\n",
    "<img src=\"../labs_img/who_covid.png\" width = 70%/>\n",
    "\n",
    "-   **Substantive**\n",
    "\n",
    "    -   `Title`: WHO Coronavirus (COVID-19) Dashboard\n",
    "    -   `Author`: World Health Organization\n",
    "    -   `Big idea`: Shows confirmed COVID-19 cases and deaths by country to date\n",
    "    -   `Message`: The project displays a map of the world where COVID-19 cases are shown by country. This element is used to show which countries have had more cases (large trends). A drop down button allows us to visualise the map by a) Total per 100,000 population b) % change in the last 7 days c) newly reported in the last 7 days d) newly reported in the last 24 hours.\n",
    "\n",
    "-   **Technical**\n",
    "  \n",
    "    -   `URL`: [`https://covid19.who.int/`](https://covid19.who.int/)\n",
    "    -   `Interactivity`: Yes\n",
    "    -   `Zoomable`: Yes\n",
    "    -   `Tooltips`: Yes\n",
    "    -   `Basemap`: No\n",
    "    -   `Technology`: Unknown\n",
    "\n",
    "Here are a couple of other COVID-19 examples of web-maps that where basemaps and technology is easier to spot.\n",
    "\n",
    "-   [\"London School of Hygiene & Tropical Medicine - COVID-19 tracker\"](https://vac-lshtm.shinyapps.io/ncov_tracker/?_ga=2.246644480.501918083.1674819300-1251881958.1674819300)\n",
    "-   [\"Tracking Coronavirus in the United Kingdom: Latest Map and Case Count\"](https://www.nytimes.com/interactive/2021/world/united-kingdom-covid-cases.html)"
   ]
  },
  {
   "cell_type": "markdown",
   "id": "035f4e6b-3792-4fdc-913a-66c9a5aa995d",
   "metadata": {},
   "source": [
    "### Class discussion\n",
    "\n",
    "We will select a few examples posted and collectively discuss (some of) the following questions:\n",
    "\n",
    "1.  What makes them powerful, what \"speaks\" to us?\n",
    "2.  What could be improved, what is counter-intuitive?\n",
    "3.  What design elements do they rely on?\n",
    "4.  What technology do they use?\n",
    "\n",
    "### References\n",
    "\n",
    "-   For an excellent coverage of \"visualisation literacy\", Chapter 11 of Andy Kirk's [\"Data Visualisation\"](https://www.visualisingdata.com/book/) is a great start. Lab: Getting up to speed for web mapping\n",
    "-   A comprehensive overview of computational notebooks and how they relate to modern scientific work is available on [Ch.1 of the GDS book](https://geographicdata.science/book/notebooks/01_geo_thinking.html).\n",
    "-   A recent overview of notebooks in Geography is available in [Boeing & Arribas-Bel (2021)](https://gistbok.ucgis.org/bok-topics/gis-and-computational-notebooks)"
   ]
  },
  {
   "cell_type": "markdown",
   "id": "ff7e1366",
   "metadata": {},
   "source": [
    "## Part II: Python/Pandas (Refresher)\n",
    "\n",
    "*Gabriele Filomena has prepared this notebook by readapting material shared on this [repository](https://github.com/gboeing/ppd599/tree/main).\n",
    "Copyright (c) 2013-2023 Geoff Boeing.*"
   ]
  },
  {
   "cell_type": "markdown",
   "id": "2174ab7d-def6-4a16-9530-93741c8c032c",
   "metadata": {},
   "source": [
    "### Python\n",
    "\n",
    "A quick overview of ubiquitous programming concepts including data types, for loops, if-then-else conditionals, and functions."
   ]
  },
  {
   "cell_type": "code",
   "execution_count": null,
   "id": "534bfc7d",
   "metadata": {},
   "outputs": [],
   "source": [
    "import numpy as np\n",
    "import pandas as pd"
   ]
  },
  {
   "cell_type": "code",
   "execution_count": null,
   "id": "072511b3",
   "metadata": {},
   "outputs": [],
   "source": [
    "# integers (int)\n",
    "x = 100\n",
    "type(x)"
   ]
  },
  {
   "cell_type": "code",
   "execution_count": null,
   "id": "0fc112fe",
   "metadata": {},
   "outputs": [],
   "source": [
    "# floating-point numbers (float)\n",
    "x = 100.5\n",
    "type(x)"
   ]
  },
  {
   "cell_type": "code",
   "execution_count": null,
   "id": "4ed87307",
   "metadata": {},
   "outputs": [],
   "source": [
    "# sequence of characters (str)\n",
    "x = 'Los Angeles, CA 90089'\n",
    "len(x)"
   ]
  },
  {
   "cell_type": "code",
   "execution_count": null,
   "id": "4ecdc15e",
   "metadata": {},
   "outputs": [],
   "source": [
    "# list of items\n",
    "x = [1, 2, 3, 'USC']\n",
    "len(x)"
   ]
  },
  {
   "cell_type": "code",
   "execution_count": null,
   "id": "977c876f",
   "metadata": {},
   "outputs": [],
   "source": [
    "# sets are unique\n",
    "x = {2, 2, 3, 3, 1}\n",
    "x"
   ]
  },
  {
   "cell_type": "code",
   "execution_count": null,
   "id": "86fee0b0",
   "metadata": {},
   "outputs": [],
   "source": [
    "# tuples are immutable sequences\n",
    "latlng = (34.019425, -118.283413)\n",
    "type(latlng)"
   ]
  },
  {
   "cell_type": "code",
   "execution_count": null,
   "id": "fc209afd",
   "metadata": {},
   "outputs": [],
   "source": [
    "# you can unpack a tuple\n",
    "lat, lng = latlng\n",
    "type(lat)"
   ]
  },
  {
   "cell_type": "code",
   "execution_count": null,
   "id": "2f6ef02a",
   "metadata": {},
   "outputs": [],
   "source": [
    "# dictionary of key:value pairs\n",
    "iceland = {'Country': 'Iceland', 'Population': 372520, 'Capital': 'Reykjavík', '% Foreign Population' : 0.18 }\n",
    "type(iceland)"
   ]
  },
  {
   "cell_type": "code",
   "execution_count": null,
   "id": "4598e570",
   "metadata": {},
   "outputs": [],
   "source": [
    "# you can convert types\n",
    "x = '100'\n",
    "print(type(x))\n",
    "y = int(x)\n",
    "print(type(y))"
   ]
  },
  {
   "cell_type": "code",
   "execution_count": null,
   "id": "e0100cb4",
   "metadata": {},
   "outputs": [],
   "source": [
    "# you can loop through an iterable, such as a list or tuple\n",
    "for coord in latlng:\n",
    "    print('Current coordinate is:', coord)"
   ]
  },
  {
   "cell_type": "code",
   "execution_count": null,
   "id": "b76f8572",
   "metadata": {},
   "outputs": [],
   "source": [
    "# loop through a dictionary keys and values as tuples\n",
    "for key, value in iceland.items():\n",
    "    print(key, value)"
   ]
  },
  {
   "cell_type": "code",
   "execution_count": null,
   "id": "6acb762e",
   "metadata": {},
   "outputs": [],
   "source": [
    "# booleans are trues/falses\n",
    "x = 101\n",
    "x > 100"
   ]
  },
  {
   "cell_type": "code",
   "execution_count": null,
   "id": "da50b280",
   "metadata": {},
   "outputs": [],
   "source": [
    "# use two == for equality and one = for assignment\n",
    "x == 100"
   ]
  },
  {
   "cell_type": "code",
   "execution_count": null,
   "id": "9e2e51f1",
   "metadata": {},
   "outputs": [],
   "source": [
    "# if, elif, else for conditional branching execution\n",
    "x = 101\n",
    "if x > 100:\n",
    "    print('Value is greater than 100.')\n",
    "elif x < 100:\n",
    "    print('Value is less than 100.')\n",
    "else:\n",
    "    print('Value is 100.')"
   ]
  },
  {
   "cell_type": "code",
   "execution_count": null,
   "id": "3d786ec8",
   "metadata": {},
   "outputs": [],
   "source": [
    "# use functions to encapsulate and reuse bits of code\n",
    "def convert_items(my_list, new_type=str):\n",
    "    # convert each item in a list to a new type\n",
    "    new_list = [new_type(item) for item in my_list]\n",
    "    return new_list\n",
    "\n",
    "l = [1, 2, 3, 4]\n",
    "convert_items(l)"
   ]
  },
  {
   "cell_type": "markdown",
   "id": "167fcb51",
   "metadata": {},
   "source": [
    "### `pandas` Series and DataFrames\n",
    "\n",
    "[pandas](https://pandas.pydata.org/) has two primary data structures we will work with: `Series` and `DataFrame`.\n",
    "\n",
    "#### Pandas Series"
   ]
  },
  {
   "cell_type": "code",
   "execution_count": null,
   "id": "8db0c7d9",
   "metadata": {},
   "outputs": [],
   "source": [
    "# a pandas series is based on a numpy array: it's fast, compact, and has more functionality\n",
    "# it has an index which allows you to work naturally with tabular data\n",
    "my_list = [8, 5, 77, 2]\n",
    "my_series = pd.Series(my_list)\n",
    "my_series"
   ]
  },
  {
   "cell_type": "code",
   "execution_count": null,
   "id": "15431e1f",
   "metadata": {},
   "outputs": [],
   "source": [
    "# look at a list-representation of the index\n",
    "my_series.index.tolist()"
   ]
  },
  {
   "cell_type": "code",
   "execution_count": null,
   "id": "8a539cff",
   "metadata": {},
   "outputs": [],
   "source": [
    "# look at the series' values themselves\n",
    "my_series.values"
   ]
  },
  {
   "cell_type": "code",
   "execution_count": null,
   "id": "eaccad88",
   "metadata": {},
   "outputs": [],
   "source": [
    "# what's the data type of the series' values?\n",
    "type(my_series.values)"
   ]
  },
  {
   "cell_type": "code",
   "execution_count": null,
   "id": "c83b6d09",
   "metadata": {},
   "outputs": [],
   "source": [
    "# what's the data type of the individual values themselves?\n",
    "my_series.dtype"
   ]
  },
  {
   "cell_type": "markdown",
   "id": "499011b0",
   "metadata": {},
   "source": [
    "#### Pandas DataFrames"
   ]
  },
  {
   "cell_type": "code",
   "execution_count": null,
   "id": "f502e942",
   "metadata": {},
   "outputs": [],
   "source": [
    "# a dict can contain multiple lists and label them\n",
    "my_dict = {'hh_income'  : [75125, 22075, 31950, 115400],\n",
    "           'home_value' : [525000, 275000, 395000, 985000]}\n",
    "my_dict"
   ]
  },
  {
   "cell_type": "code",
   "execution_count": null,
   "id": "0eaf4ef1",
   "metadata": {},
   "outputs": [],
   "source": [
    "# a pandas dataframe can contain one or more columns\n",
    "# each column is a pandas series\n",
    "# each row is a pandas series\n",
    "# you can create a dataframe by passing in a list, array, series, or dict\n",
    "df = pd.DataFrame(my_dict)\n",
    "df"
   ]
  },
  {
   "cell_type": "code",
   "execution_count": null,
   "id": "da5d986e",
   "metadata": {},
   "outputs": [],
   "source": [
    "# the row labels in the index are accessed by the .index attribute of the DataFrame object\n",
    "df.index.tolist()"
   ]
  },
  {
   "cell_type": "code",
   "execution_count": null,
   "id": "c77bf3b3",
   "metadata": {},
   "outputs": [],
   "source": [
    "# the column labels are accessed by the .columns attribute of the DataFrame object\n",
    "df.columns"
   ]
  },
  {
   "cell_type": "code",
   "execution_count": null,
   "id": "77b22ff1",
   "metadata": {},
   "outputs": [],
   "source": [
    "# the data values are accessed by the .values attribute of the DataFrame object\n",
    "# this is a numpy (two-dimensional) array\n",
    "df.values"
   ]
  },
  {
   "cell_type": "markdown",
   "id": "65995f71",
   "metadata": {},
   "source": [
    "### Loading data in Pandas\n",
    "\n",
    "Usually, you'll work with data by loading a dataset file into pandas. CSV is the most common format. But pandas can also ingest tab-separated data, JSON, and proprietary file formats like Excel .xlsx files, Stata, SAS, and SPSS.\n",
    "\n",
    "Below, notice what pandas's `read_csv` function does:\n",
    "\n",
    "1. Recognize the header row and get its variable names.\n",
    "1. Read all the rows and construct a pandas DataFrame (an assembly of pandas Series rows and columns).\n",
    "1. Construct a unique index, beginning with zero.\n",
    "1. Infer the data type of each variable (i.e., column)."
   ]
  },
  {
   "cell_type": "code",
   "execution_count": null,
   "id": "c0563c12",
   "metadata": {},
   "outputs": [],
   "source": [
    "# load a data file\n",
    "# note the relative filepath! where is this file located?\n",
    "# use dtype argument if you don't want pandas to guess your data types\n",
    "df = pd.read_csv('../data/GTD_2022.csv', low_memory = False)"
   ]
  },
  {
   "cell_type": "code",
   "execution_count": null,
   "id": "6d82f2e4",
   "metadata": {},
   "outputs": [],
   "source": [
    "to_replace = [-9, -99, \"-9\", \"-99\"]\n",
    "for value in to_replace:\n",
    "    df = df.replace(value, np.NaN)\n",
    "\n",
    "df['eventid'] = df['eventid'].astype(\"Int64\")"
   ]
  },
  {
   "cell_type": "code",
   "execution_count": null,
   "id": "0b43886d",
   "metadata": {},
   "outputs": [],
   "source": [
    "# dataframe shape as rows, columns\n",
    "df.shape"
   ]
  },
  {
   "cell_type": "code",
   "execution_count": null,
   "id": "9e15c48e",
   "metadata": {},
   "outputs": [],
   "source": [
    "# or use len to just see the number of rows\n",
    "len(df)"
   ]
  },
  {
   "cell_type": "code",
   "execution_count": null,
   "id": "6d097933",
   "metadata": {},
   "outputs": [],
   "source": [
    "# view the dataframe's \"head\"\n",
    "df.head()"
   ]
  },
  {
   "cell_type": "code",
   "execution_count": null,
   "id": "7c189d86",
   "metadata": {},
   "outputs": [],
   "source": [
    "# view the dataframe's \"tail\"\n",
    "df.tail()"
   ]
  },
  {
   "cell_type": "code",
   "execution_count": null,
   "id": "243a3917",
   "metadata": {},
   "outputs": [],
   "source": [
    "# column data types\n",
    "df.dtypes"
   ]
  },
  {
   "cell_type": "code",
   "execution_count": null,
   "id": "002c9b4e",
   "metadata": {},
   "outputs": [],
   "source": [
    "# or\n",
    "for dt in df.columns[:10]:\n",
    "    print(dt, type(dt))"
   ]
  },
  {
   "cell_type": "markdown",
   "id": "9902678c",
   "metadata": {},
   "source": [
    "### Selecting and slicing data from a DataFrame"
   ]
  },
  {
   "cell_type": "code",
   "execution_count": null,
   "id": "1b337092",
   "metadata": {},
   "outputs": [],
   "source": [
    "# CHEAT SHEET OF COMMON TASKS\n",
    "# Operation                       Syntax           Result\n",
    "#------------------------------------------------------------\n",
    "# Select column by name           df[col]          Series\n",
    "# Select columns by name          df[col_list]     DataFrame\n",
    "# Select row by label             df.loc[label]    Series\n",
    "# Select row by integer location  df.iloc[loc]     Series\n",
    "# Slice rows by label             df.loc[a:c]      DataFrame\n",
    "# Select rows by boolean vector   df[mask]         DataFrame"
   ]
  },
  {
   "cell_type": "markdown",
   "id": "45fc9a07",
   "metadata": {},
   "source": [
    "#### Select DataFrame's column(s) by name"
   ]
  },
  {
   "cell_type": "code",
   "execution_count": null,
   "id": "6d6d1e5e",
   "metadata": {},
   "outputs": [],
   "source": [
    "# select a single column by column name\n",
    "# this is a pandas series\n",
    "df['country']"
   ]
  },
  {
   "cell_type": "code",
   "execution_count": null,
   "id": "3b1ca236",
   "metadata": {},
   "outputs": [],
   "source": [
    "# select multiple columns by a list of column names\n",
    "# this is a pandas dataframe that is a subset of the original\n",
    "df[['country_txt', 'year']]"
   ]
  },
  {
   "cell_type": "code",
   "execution_count": null,
   "id": "2dc55b42",
   "metadata": {},
   "outputs": [],
   "source": [
    "# create a new column by assigning df['new_col'] to some values\n",
    "# people killed every perpetrator \n",
    "df['killed_per_attacker'] = df['nkill'] / df['nperps']\n",
    "\n",
    "# inspect the results\n",
    "df[['country', 'year', 'nkill', 'nperps', 'killed_per_attacker']].head(15)"
   ]
  },
  {
   "cell_type": "markdown",
   "id": "3cf90d25",
   "metadata": {},
   "source": [
    "#### Select row(s) by label"
   ]
  },
  {
   "cell_type": "code",
   "execution_count": null,
   "id": "6ecc8217",
   "metadata": {},
   "outputs": [],
   "source": [
    "# use .loc to select by row label\n",
    "# returns the row as a series whose index is the dataframe column names\n",
    "df.loc[0]"
   ]
  },
  {
   "cell_type": "code",
   "execution_count": null,
   "id": "676941ed",
   "metadata": {},
   "outputs": [],
   "source": [
    "# use .loc to select single value by row label, column name\n",
    "df.loc[15, 'gname'] #group name"
   ]
  },
  {
   "cell_type": "code",
   "execution_count": null,
   "id": "cbf95d5b",
   "metadata": {},
   "outputs": [],
   "source": [
    "# slice of rows from label 5 to label 7, inclusive\n",
    "# this returns a pandas dataframe\n",
    "df.loc[5:7]"
   ]
  },
  {
   "cell_type": "code",
   "execution_count": null,
   "id": "7479b82a",
   "metadata": {},
   "outputs": [],
   "source": [
    "# slice of rows from label 17 to label 27, inclusive\n",
    "# slice of columns from country_txt to city, inclusive\n",
    "df.loc[17:27, 'country_txt':'city']"
   ]
  },
  {
   "cell_type": "code",
   "execution_count": null,
   "id": "1fd9f4a5",
   "metadata": {},
   "outputs": [],
   "source": [
    "# subset of rows from with labels in list\n",
    "# subset of columns with names in list\n",
    "df.loc[[1, 350], ['country', 'gname']]"
   ]
  },
  {
   "cell_type": "code",
   "execution_count": null,
   "id": "7e31cb9f",
   "metadata": {},
   "outputs": [],
   "source": [
    "# you can use a column of identifiers as the index (indices do not *need* to be unique)\n",
    "df_gname = df.set_index('gname')\n",
    "df_gname.index.is_unique"
   ]
  },
  {
   "cell_type": "code",
   "execution_count": null,
   "id": "f3354864",
   "metadata": {},
   "outputs": [],
   "source": [
    "df_gname.head(3)"
   ]
  },
  {
   "cell_type": "code",
   "execution_count": null,
   "id": "9c4ea942",
   "metadata": {},
   "outputs": [],
   "source": [
    "# .loc works by label, not by position in the dataframe\n",
    "try:\n",
    "    df_gname.loc[0]\n",
    "except KeyError as e:\n",
    "    print('label not found')"
   ]
  },
  {
   "cell_type": "code",
   "execution_count": null,
   "id": "6237b3f6",
   "metadata": {},
   "outputs": [],
   "source": [
    "# the index now contains gname values, so you have to use .loc accordingly to select by row label\n",
    "df_gname.loc['Taliban'].head()"
   ]
  },
  {
   "cell_type": "markdown",
   "id": "549d128f",
   "metadata": {},
   "source": [
    "#### Select by (integer) position - Independent from actual Index"
   ]
  },
  {
   "cell_type": "code",
   "execution_count": null,
   "id": "15291fdc",
   "metadata": {},
   "outputs": [],
   "source": [
    "# get the row in the zero-th position in the dataframe\n",
    "df.iloc[0]"
   ]
  },
  {
   "cell_type": "code",
   "execution_count": null,
   "id": "04e87da4",
   "metadata": {},
   "outputs": [],
   "source": [
    "# you can slice as well\n",
    "# note, while .loc is inclusive, .iloc is not\n",
    "# get the rows from position 0 up to but not including position 3 (ie, rows 0, 1, and 2)\n",
    "df.iloc[0:3]"
   ]
  },
  {
   "cell_type": "code",
   "execution_count": null,
   "id": "4477ef96",
   "metadata": {},
   "outputs": [],
   "source": [
    "# get the value from the row in position 3 and the column in position 2 (zero-indexed)\n",
    "df.iloc[3, 6] #country_txt"
   ]
  },
  {
   "cell_type": "markdown",
   "id": "8d276d17",
   "metadata": {},
   "source": [
    "#### Select/filter by value\n",
    "\n",
    "You can subset or filter a dataframe for based on the values in its rows/columns."
   ]
  },
  {
   "cell_type": "code",
   "execution_count": null,
   "id": "6a8bb623",
   "metadata": {},
   "outputs": [],
   "source": [
    "# filter the dataframe by urban areas with more than 25 million residents\n",
    "df[df['nkill'] > 30].head()"
   ]
  },
  {
   "cell_type": "code",
   "execution_count": null,
   "id": "c3fa4add",
   "metadata": {},
   "outputs": [],
   "source": [
    "# you can chain multiple conditions together\n",
    "# pandas logical operators are: | for or, & for and, ~ for not\n",
    "# these must be grouped by using parentheses due to order of operations\n",
    "df[['country','nkill', 'nwound']][(df['nkill'] > 200) & (df['nwound'] > 10)].head()\n",
    "# columns on the left-hand side are here used to slice the resulting output"
   ]
  },
  {
   "cell_type": "code",
   "execution_count": null,
   "id": "68a03128",
   "metadata": {},
   "outputs": [],
   "source": [
    "# ~ means not... it essentially flips trues to falses and vice-versa\n",
    "df[['country','nkill', 'nwound']][~(df['nkill'] > 200) & (df['nwound'] > 10)]"
   ]
  },
  {
   "cell_type": "markdown",
   "id": "2b2a6548",
   "metadata": {},
   "source": [
    "### Grouping and summarizing"
   ]
  },
  {
   "cell_type": "code",
   "execution_count": null,
   "id": "3d312aa9",
   "metadata": {},
   "outputs": [],
   "source": [
    "# group by terroristic group name\n",
    "groups = df.groupby('gname')"
   ]
  },
  {
   "cell_type": "code",
   "execution_count": null,
   "id": "9cb61a7e",
   "metadata": {},
   "outputs": [],
   "source": [
    "# what is the median number of people killed per event across the different groups?\n",
    "groups['nkill'].median().sort_values(ascending=False)"
   ]
  },
  {
   "cell_type": "code",
   "execution_count": null,
   "id": "4f3c7e7f",
   "metadata": {},
   "outputs": [],
   "source": [
    "# look at several columns' medians by group\n",
    "groups[['nkill', 'nwound', 'nperps']].median()"
   ]
  },
  {
   "cell_type": "code",
   "execution_count": null,
   "id": "32e5b39f",
   "metadata": {},
   "outputs": [],
   "source": [
    "# you can create a new dataFrame by directly passing columns between \"[[ ]]\", after the groupby function\n",
    "# to do so, you also need to pass a function that can deal with the values (e.g. sum..etc) \n",
    "western_europe = df[df.region_txt == 'Western Europe']\n",
    "western_europe.groupby('country_txt')[['nkill', 'nwound']].sum().sort_values('nkill', ascending = False).reset_index()"
   ]
  },
  {
   "cell_type": "markdown",
   "id": "c34867e8",
   "metadata": {},
   "source": [
    "### Indexes\n",
    "\n",
    "Each `DataFrame` has an index. Indexes do not have to be unique (but that would be for the best)"
   ]
  },
  {
   "cell_type": "code",
   "execution_count": null,
   "id": "68ac4aa3",
   "metadata": {},
   "outputs": [],
   "source": [
    "# resetting index (when loading a .csv file pandas creates an index automatically, from 0 to Nrecords-1)\n",
    "df.reset_index(drop = True).sort_index().head() # this does not assign the new index though, it just shows you a temp copy"
   ]
  },
  {
   "cell_type": "code",
   "execution_count": null,
   "id": "16fc8587",
   "metadata": {},
   "outputs": [],
   "source": [
    "#this does assign the new index to your df\n",
    "df = df.reset_index(drop = True).sort_index() \n",
    "df.head()"
   ]
  },
  {
   "cell_type": "code",
   "execution_count": null,
   "id": "11085171",
   "metadata": {},
   "outputs": [],
   "source": [
    "# index isn't unique\n",
    "df.index.is_unique"
   ]
  },
  {
   "cell_type": "code",
   "execution_count": null,
   "id": "154f19b4",
   "metadata": {},
   "outputs": [],
   "source": [
    "# you can set a new index\n",
    "# drop -> Delete columns to be used as the new index.\n",
    "# append ->  whether to append columns to existing index.\n",
    "df = df.set_index('eventid', drop=True, append=False)\n",
    "df.index.name = None # remove the index \"name\"\n",
    "df.head()\n",
    "\n",
    "# this index is not ideal, but it's the original source's id"
   ]
  },
  {
   "cell_type": "markdown",
   "id": "cad67f88",
   "metadata": {},
   "source": [
    "## Part III: Geospatial Vector data in Python\n",
    "\n",
    "*Gabriele Filomena has prepared this notebook by readapting material shared on this [repository](https://github.com/jorisvandenbossche/geopandas-tutorial).\n",
    "Copyright (c) 2018, Joris Van den Bossche.*"
   ]
  },
  {
   "cell_type": "code",
   "execution_count": null,
   "id": "0fcffe14",
   "metadata": {},
   "outputs": [],
   "source": [
    "%matplotlib inline\n",
    "\n",
    "import geopandas as gpd"
   ]
  },
  {
   "cell_type": "markdown",
   "id": "c12be63a",
   "metadata": {},
   "source": [
    "### Importing geospatial data"
   ]
  },
  {
   "cell_type": "markdown",
   "id": "94a18460",
   "metadata": {},
   "source": [
    "GeoPandas builds on Pandas types `Series` and `Dataframe`, by incorporating information about geographical space.\n",
    "\n",
    "- `GeoSeries`: a Series object designed to store shapely geometry object\n",
    "- `GeoDataFrame`: object is a pandas DataFrame that has a column with geometry (that contains a *Geoseries*)\n",
    "\n",
    "We can use the GeoPandas library to read many of GIS file formats (relying on the `fiona` library under the hood, which is an interface to GDAL/OGR), using the `gpd.read_file` function. For example, let's start by reading a shapefile with all the countries of the world (adapted from http://www.naturalearthdata.com/downloads/110m-cultural-vectors/110m-admin-0-countries/, zip file is available in the `/data` directory), and inspect the data:"
   ]
  },
  {
   "cell_type": "code",
   "execution_count": null,
   "id": "acce76f7",
   "metadata": {},
   "outputs": [],
   "source": [
    "countries = gpd.read_file(\"../data/ne_countries.zip\")\n",
    "# or if the archive is unpacked:\n",
    "# countries = gpd.read_file(\"../data/ne_countries.shp\")"
   ]
  },
  {
   "cell_type": "code",
   "execution_count": null,
   "id": "d9166508",
   "metadata": {
    "collapsed": false,
    "jupyter": {
     "outputs_hidden": false
    }
   },
   "outputs": [],
   "source": [
    "countries.head()"
   ]
  },
  {
   "cell_type": "code",
   "execution_count": null,
   "id": "bb2ba492",
   "metadata": {
    "collapsed": false,
    "jupyter": {
     "outputs_hidden": false
    }
   },
   "outputs": [],
   "source": [
    "countries.plot()"
   ]
  },
  {
   "cell_type": "markdown",
   "id": "70cb9c6d",
   "metadata": {},
   "source": [
    "We observe that:\n",
    "\n",
    "- Using `.head()` we can see the first rows of the dataset, just like we can do with Pandas.\n",
    "- There is a `geometry` column and the different countries are represented as polygons\n",
    "- We can use the `.plot()` (matplotlib) method to quickly get a *basic* visualization of the data"
   ]
  },
  {
   "cell_type": "markdown",
   "id": "49980d29",
   "metadata": {},
   "source": [
    "### What's a GeoDataFrame?\n",
    "\n",
    "We used the GeoPandas library to read in the geospatial data, and this returned us a `GeoDataFrame`:"
   ]
  },
  {
   "cell_type": "code",
   "execution_count": null,
   "id": "e431eb66",
   "metadata": {
    "collapsed": false,
    "jupyter": {
     "outputs_hidden": false
    }
   },
   "outputs": [],
   "source": [
    "type(countries)"
   ]
  },
  {
   "cell_type": "markdown",
   "id": "299f17fd",
   "metadata": {},
   "source": [
    "A GeoDataFrame contains a tabular, geospatial dataset:\n",
    "\n",
    "* It has a 'geometry' column that holds the geometry information (or features in GeoJSON).\n",
    "* The other columns are the **attributes** (or properties in GeoJSON) that describe each of the geometries.\n",
    "\n",
    "Such a `GeoDataFrame` is just like a pandas `DataFrame`, but with some additional functionality for working with geospatial data:\n",
    "* A `geometry` attribute that always returns the column with the geometry information (returning a `GeoSeries`). The column name itself does not necessarily need to be 'geometry', but it will always be accessible as the `geometry` attribute.\n",
    "* It has some extra methods for working with spatial data (area, distance, buffer, intersection, ...) [see here, for example](https://github.com/jorisvandenbossche/geopandas-tutorial/blob/main/04-spatial-operations-overlays.ipynb)."
   ]
  },
  {
   "cell_type": "code",
   "execution_count": null,
   "id": "59c7490d",
   "metadata": {
    "collapsed": false,
    "jupyter": {
     "outputs_hidden": false
    }
   },
   "outputs": [],
   "source": [
    "countries.geometry.head()"
   ]
  },
  {
   "cell_type": "code",
   "execution_count": null,
   "id": "48ad6492",
   "metadata": {
    "collapsed": false,
    "jupyter": {
     "outputs_hidden": false
    }
   },
   "outputs": [],
   "source": [
    "type(countries.geometry)"
   ]
  },
  {
   "cell_type": "code",
   "execution_count": null,
   "id": "6c0328b4",
   "metadata": {
    "collapsed": false,
    "jupyter": {
     "outputs_hidden": false
    }
   },
   "outputs": [],
   "source": [
    "countries.geometry.area"
   ]
  },
  {
   "cell_type": "markdown",
   "id": "b86a5df6",
   "metadata": {},
   "source": [
    "It's still a `DataFrame`, so we have all the `pandas` functionality available to use on the geospatial dataset, and to do data manipulations with the attributes and geometry information together. For example, we can calculate the average population over all countries (by accessing the 'pop_est' column, and calling the `mean` method on it):"
   ]
  },
  {
   "cell_type": "code",
   "execution_count": null,
   "id": "71925c2e",
   "metadata": {
    "collapsed": false,
    "jupyter": {
     "outputs_hidden": false
    }
   },
   "outputs": [],
   "source": [
    "countries['pop_est'].mean()"
   ]
  },
  {
   "cell_type": "code",
   "execution_count": null,
   "id": "17600353",
   "metadata": {},
   "outputs": [],
   "source": [
    "africa = countries[countries['continent'] == 'Africa']"
   ]
  },
  {
   "cell_type": "code",
   "execution_count": null,
   "id": "d2ae141e",
   "metadata": {
    "collapsed": false,
    "jupyter": {
     "outputs_hidden": false
    }
   },
   "outputs": [],
   "source": [
    "africa.plot();"
   ]
  },
  {
   "cell_type": "markdown",
   "id": "907054af",
   "metadata": {},
   "source": [
    "The rest of the tutorial is going to assume you already know some pandas basics, but we will try to give hints for that part for those that are not familiar."
   ]
  },
  {
   "cell_type": "markdown",
   "id": "7bab2e80",
   "metadata": {},
   "source": [
    "<div class=\"alert alert-info\" style=\"font-size:120%\">\n",
    "\n",
    "**Important:** <br>\n",
    "\n",
    "* A `GeoDataFrame` allows to perform typical tabular data analysis together with spatial operations\n",
    "* A `GeoDataFrame` (or *Feature Collection*) consists of:\n",
    "    * **Geometries** or **features**: the spatial objects\n",
    "    * **Attributes** or **properties**: columns with information about each spatial object\n",
    "\n",
    "</div>"
   ]
  },
  {
   "cell_type": "markdown",
   "id": "3fd94256",
   "metadata": {},
   "source": [
    "### Geometries: Points, Linestrings and Polygons\n",
    "\n",
    "Spatial **vector** data can consist of different types, and the 3 fundamental types are:\n",
    "\n",
    "<img src=\"../labs_img/simple_features_3_text.svg\" width=\"70%\">\n",
    "\n",
    "* **Point** data: represents a single point in space.\n",
    "* **Line** data (\"LineString\"): represented as a sequence of points that form a line.\n",
    "* **Polygon** data: represents a filled area.\n",
    "\n",
    "And each of them can also be combined in multi-part geometries (See https://shapely.readthedocs.io/en/stable/manual.html#geometric-objects for extensive overview)."
   ]
  },
  {
   "cell_type": "markdown",
   "id": "85dea254",
   "metadata": {},
   "source": [
    "For the example we have seen up to now, the individual geometry objects are Polygons:"
   ]
  },
  {
   "cell_type": "code",
   "execution_count": null,
   "id": "c13d0b85",
   "metadata": {
    "collapsed": false,
    "jupyter": {
     "outputs_hidden": false
    }
   },
   "outputs": [],
   "source": [
    "print(countries.geometry[2])"
   ]
  },
  {
   "cell_type": "markdown",
   "id": "b52b5c03",
   "metadata": {},
   "source": [
    "Let's import some other datasets with different types of geometry objects.\n",
    "\n",
    "A dateset about cities in the world (adapted from http://www.naturalearthdata.com/downloads/110m-cultural-vectors/110m-populated-places/, zip file is available in the `/data` directory), consisting of `Point` data:"
   ]
  },
  {
   "cell_type": "code",
   "execution_count": null,
   "id": "710dee6a",
   "metadata": {},
   "outputs": [],
   "source": [
    "cities = gpd.read_file(\"../data/ne_cities.zip\")"
   ]
  },
  {
   "cell_type": "code",
   "execution_count": null,
   "id": "54835809",
   "metadata": {
    "collapsed": false,
    "jupyter": {
     "outputs_hidden": false
    }
   },
   "outputs": [],
   "source": [
    "print(cities.geometry[0])"
   ]
  },
  {
   "cell_type": "markdown",
   "id": "7aec41f0",
   "metadata": {},
   "source": [
    "And a dataset of rivers in the world (from http://www.naturalearthdata.com/downloads/50m-physical-vectors/50m-rivers-lake-centerlines/, zip file is available in the `/data` directory) where each river is a `(Multi-)LineString`:"
   ]
  },
  {
   "cell_type": "code",
   "execution_count": null,
   "id": "041d3b91",
   "metadata": {},
   "outputs": [],
   "source": [
    "rivers = gpd.read_file(\"../data/ne_rivers.zip\")"
   ]
  },
  {
   "cell_type": "code",
   "execution_count": null,
   "id": "bb04c316",
   "metadata": {
    "collapsed": false,
    "jupyter": {
     "outputs_hidden": false
    }
   },
   "outputs": [],
   "source": [
    "print(rivers.geometry[0])"
   ]
  },
  {
   "cell_type": "markdown",
   "id": "c142bf0f",
   "metadata": {},
   "source": [
    "### The `shapely` library\n",
    "\n",
    "The individual geometry objects are provided by the [`shapely`](https://shapely.readthedocs.io/en/stable/) library"
   ]
  },
  {
   "cell_type": "code",
   "execution_count": null,
   "id": "1c863e1f",
   "metadata": {},
   "outputs": [],
   "source": [
    "from shapely.geometry import Point, Polygon, LineString"
   ]
  },
  {
   "cell_type": "code",
   "execution_count": null,
   "id": "77cad2d2",
   "metadata": {
    "collapsed": false,
    "jupyter": {
     "outputs_hidden": false
    }
   },
   "outputs": [],
   "source": [
    "type(countries.geometry[0])"
   ]
  },
  {
   "cell_type": "markdown",
   "id": "96f2679e",
   "metadata": {},
   "source": [
    "To construct one ourselves:"
   ]
  },
  {
   "cell_type": "code",
   "execution_count": null,
   "id": "faa824c3",
   "metadata": {},
   "outputs": [],
   "source": [
    "p = Point(0, 0)"
   ]
  },
  {
   "cell_type": "code",
   "execution_count": null,
   "id": "19cf78a4",
   "metadata": {
    "collapsed": false,
    "jupyter": {
     "outputs_hidden": false
    }
   },
   "outputs": [],
   "source": [
    "print(p)"
   ]
  },
  {
   "cell_type": "code",
   "execution_count": null,
   "id": "d2b3b3e0",
   "metadata": {},
   "outputs": [],
   "source": [
    "polygon = Polygon([(1, 1), (2,2), (2, 1)])"
   ]
  },
  {
   "cell_type": "code",
   "execution_count": null,
   "id": "47fcb84f",
   "metadata": {
    "collapsed": false,
    "jupyter": {
     "outputs_hidden": false
    }
   },
   "outputs": [],
   "source": [
    "polygon.area"
   ]
  },
  {
   "cell_type": "code",
   "execution_count": null,
   "id": "33958aa5",
   "metadata": {
    "collapsed": false,
    "jupyter": {
     "outputs_hidden": false
    }
   },
   "outputs": [],
   "source": [
    "polygon.distance(p)"
   ]
  },
  {
   "cell_type": "markdown",
   "id": "3bda7af5",
   "metadata": {},
   "source": [
    "<div class=\"alert alert-info\" style=\"font-size:120%\">\n",
    "\n",
    "**Important**: <br>\n",
    "\n",
    "Single geometries are represented by `shapely` objects:\n",
    "\n",
    "* If you access a single geometry of a GeoDataFrame, you get a shapely geometry object\n",
    "* Those objects have similar functionality as geopandas objects (GeoDataFrame/GeoSeries). For example:\n",
    "    * `single_shapely_object.distance(other_point)` -> distance between two points\n",
    "    * `geodataframe.distance(other_point)` ->  distance for each point in the geodataframe to the other point\n",
    "\n",
    "</div>"
   ]
  },
  {
   "cell_type": "markdown",
   "id": "1a44a53c",
   "metadata": {},
   "source": [
    "### Plotting"
   ]
  },
  {
   "cell_type": "code",
   "execution_count": null,
   "id": "d5798a2e",
   "metadata": {
    "collapsed": false,
    "jupyter": {
     "outputs_hidden": false
    }
   },
   "outputs": [],
   "source": [
    "%matplotlib inline\n",
    "import matplotlib\n",
    "import matplotlib.pyplot as plt\n",
    "\n",
    "fig, ax = plt.subplots(1, 1, figsize=(15, 10))\n",
    "countries.plot(ax = ax, edgecolor='k', facecolor='none')\n",
    "rivers.plot(ax=ax)\n",
    "cities.plot(ax=ax, color='red')\n",
    "ax.set(xlim=(-20, 60), ylim=(-40, 40))"
   ]
  },
  {
   "cell_type": "markdown",
   "id": "899f73e0",
   "metadata": {},
   "source": [
    "### Creating GeoDataFrames (withouth specifying the CRS)"
   ]
  },
  {
   "cell_type": "code",
   "execution_count": null,
   "id": "40d15397",
   "metadata": {},
   "outputs": [],
   "source": [
    "gpd.GeoDataFrame({\n",
    "    'geometry': [Point(1, 1), Point(2, 2)],\n",
    "    'attribute1': [1, 2],\n",
    "    'attribute2': [0.1, 0.2]})"
   ]
  },
  {
   "cell_type": "code",
   "execution_count": null,
   "id": "ba19320f",
   "metadata": {},
   "outputs": [],
   "source": [
    "# Creating a GeoDataFrame from an existing dataframe\n",
    "# For example, if you have lat/lon coordinates in two columns:\n",
    "df = pd.DataFrame(\n",
    "    {'City': ['Buenos Aires', 'Brasilia', 'Santiago', 'Bogota', 'Caracas'],\n",
    "     'Country': ['Argentina', 'Brazil', 'Chile', 'Colombia', 'Venezuela'],\n",
    "     'Latitude': [-34.58, -15.78, -33.45, 4.60, 10.48],\n",
    "     'Longitude': [-58.66, -47.91, -70.66, -74.08, -66.86]})"
   ]
  },
  {
   "cell_type": "code",
   "execution_count": null,
   "id": "3dfa9174",
   "metadata": {},
   "outputs": [],
   "source": [
    "gdf = gpd.GeoDataFrame(df, geometry=gpd.points_from_xy(df.Longitude, df.Latitude))\n",
    "gdf"
   ]
  },
  {
   "cell_type": "markdown",
   "id": "00b75087",
   "metadata": {},
   "source": [
    "# Practice\n",
    "\n",
    "Throughout the exercises in this course, we will work with several datasets about the city of Paris.\n",
    "\n",
    "Here, we start with the following datasets:\n",
    "\n",
    "- The administrative districts of Paris (https://opendata.paris.fr/explore/dataset/quartier_paris/): `paris_districts_utm.geojson`\n",
    "- Real-time (at the moment I downloaded them ..) information about the public bicycle sharing system in Paris (vélib, https://opendata.paris.fr/explore/dataset/stations-velib-disponibilites-en-temps-reel/information/): `data/paris_bike_stations_mercator.gpkg`\n",
    "\n",
    "Both datasets are provided as spatial datasets using a GIS file format."
   ]
  },
  {
   "cell_type": "markdown",
   "id": "80a4e76a",
   "metadata": {},
   "source": [
    "<div class=\"alert alert-success\">\n",
    "\n",
    "**Excercise 1**:\n",
    "\n",
    "We will start by exploring the bicycle station dataset (available as a GeoPackage file: `data/paris_bike_stations_mercator.gpkg`)\n",
    "    \n",
    "* Read the stations datasets into a GeoDataFrame called `stations`.\n",
    "* Check the type of the returned object\n",
    "* Check the first rows of the dataframes. What kind of geometries does this datasets contain?\n",
    "* How many features are there in the dataset? \n",
    "    \n",
    "<details><summary>Hints</summary>\n",
    "\n",
    "* Use `type(..)` to check any Python object type\n",
    "* The `gpd.read_file()` function can read different geospatial file formats. You pass the file name as first argument.\n",
    "* Use the `.shape` attribute to get the number of features\n",
    "\n",
    "</details>\n",
    "    \n",
    "</div>"
   ]
  },
  {
   "cell_type": "code",
   "execution_count": null,
   "id": "b32f4421",
   "metadata": {
    "collapsed": false,
    "jupyter": {
     "outputs_hidden": false
    },
    "tags": [
     "nbtutor-solution"
    ]
   },
   "outputs": [],
   "source": []
  },
  {
   "cell_type": "code",
   "execution_count": null,
   "id": "0d6591ff",
   "metadata": {
    "collapsed": false,
    "jupyter": {
     "outputs_hidden": false
    },
    "tags": [
     "nbtutor-solution"
    ]
   },
   "outputs": [],
   "source": []
  },
  {
   "cell_type": "code",
   "execution_count": null,
   "id": "24e33522",
   "metadata": {
    "collapsed": false,
    "jupyter": {
     "outputs_hidden": false
    },
    "tags": [
     "nbtutor-solution"
    ]
   },
   "outputs": [],
   "source": []
  },
  {
   "cell_type": "markdown",
   "id": "d4e0ac97",
   "metadata": {},
   "source": [
    "<div class=\"alert alert-success\">\n",
    "\n",
    "**Exercise 2**:\n",
    "\n",
    "* Make a quick plot of the `stations` dataset.\n",
    "* Make the plot a bit larger by setting the figure size to (12, 6) (hint: the `plot` method accepts a `figsize` keyword).\n",
    " \n",
    "</div>"
   ]
  },
  {
   "cell_type": "code",
   "execution_count": null,
   "id": "a01bbf49",
   "metadata": {
    "collapsed": false,
    "jupyter": {
     "outputs_hidden": false
    },
    "tags": [
     "nbtutor-solution"
    ]
   },
   "outputs": [],
   "source": []
  },
  {
   "cell_type": "code",
   "execution_count": null,
   "id": "cbba049a",
   "metadata": {
    "tags": [
     "nbtutor-solution"
    ]
   },
   "outputs": [],
   "source": []
  },
  {
   "cell_type": "markdown",
   "id": "6cf598e1",
   "metadata": {},
   "source": [
    "<div class=\"alert alert-success\">\n",
    "\n",
    "**Exercise 3**:\n",
    "\n",
    "Next, we will explore the dataset on the administrative districts of Paris (available as a GeoJSON file: `../data/paris_districts_utm.geojson`)\n",
    "\n",
    "* Read the dataset into a GeoDataFrame called `districts`.\n",
    "* Check the first rows of the dataframe. What kind of geometries does this dataset contain?\n",
    "* How many features are there in the dataset? (hint: use the `.shape` attribute)\n",
    "* Make a quick plot of the `districts` dataset (set the figure size to (12, 6)).\n",
    "    \n",
    "</div>"
   ]
  },
  {
   "cell_type": "code",
   "execution_count": null,
   "id": "88bc530e",
   "metadata": {
    "tags": [
     "nbtutor-solution"
    ]
   },
   "outputs": [],
   "source": []
  },
  {
   "cell_type": "code",
   "execution_count": null,
   "id": "2e9f42af",
   "metadata": {
    "collapsed": false,
    "jupyter": {
     "outputs_hidden": false
    },
    "tags": [
     "nbtutor-solution"
    ]
   },
   "outputs": [],
   "source": []
  },
  {
   "cell_type": "markdown",
   "id": "5a82e800",
   "metadata": {},
   "source": [
    "<div class=\"alert alert-success\">\n",
    "\n",
    "**Exercise 4**:\n",
    "    \n",
    "What are the largest districts (biggest area)?\n",
    "\n",
    "* Calculate the area of each district.\n",
    "* Add this area as a new column to the `districts` dataframe.\n",
    "* Sort the dataframe by the area column from largest to smallest values (descending).\n",
    "\n",
    "<details><summary>Hints</summary>\n",
    "\n",
    "* Adding a column can be done by assigning values to a column using the same square brackets syntax: `df['new_col'] = values`\n",
    "* To sort the rows of a DataFrame, use the `sort_values()` method, specifying the colum to sort on with the `by='col_name'` keyword. Check the help of this method to see how to sort ascending or descending.\n",
    "\n",
    "</details>\n",
    "\n",
    "</div>"
   ]
  },
  {
   "cell_type": "code",
   "execution_count": null,
   "id": "bfd49976",
   "metadata": {
    "collapsed": false,
    "jupyter": {
     "outputs_hidden": false
    },
    "tags": [
     "nbtutor-solution"
    ]
   },
   "outputs": [],
   "source": []
  },
  {
   "cell_type": "code",
   "execution_count": null,
   "id": "c1ce7256",
   "metadata": {
    "tags": [
     "nbtutor-solution"
    ]
   },
   "outputs": [],
   "source": []
  },
  {
   "cell_type": "code",
   "execution_count": null,
   "id": "7d9465c0",
   "metadata": {
    "collapsed": false,
    "jupyter": {
     "outputs_hidden": false
    },
    "tags": [
     "nbtutor-solution"
    ]
   },
   "outputs": [],
   "source": []
  },
  {
   "cell_type": "markdown",
   "id": "6e1e0855",
   "metadata": {},
   "source": [
    "## Part IV: Coordinate reference systems & Projections"
   ]
  },
  {
   "cell_type": "markdown",
   "id": "326ed7aa",
   "metadata": {},
   "source": [
    "*Gabriele Filomena has prepared this notebook by readapting material shared on this [repository](https://github.com/jorisvandenbossche/geopandas-tutorial).\n",
    "Copyright (c) 2018, Joris Van den Bossche.*"
   ]
  },
  {
   "cell_type": "code",
   "execution_count": null,
   "id": "363ef29e",
   "metadata": {},
   "outputs": [],
   "source": [
    "countries = gpd.read_file(\"../data/ne_countries.zip\")\n",
    "cities = gpd.read_file(\"../data/ne_cities.zip\")\n",
    "rivers = gpd.read_file(\"../data/ne_rivers.zip\")"
   ]
  },
  {
   "cell_type": "markdown",
   "id": "a460b644",
   "metadata": {},
   "source": [
    "### Coordinate reference systems\n",
    "\n",
    "Up to now, we have used the geometry data with certain coordinates without further wondering what those coordinates mean or how they are expressed.\n",
    "\n",
    "> The **Coordinate Reference System (CRS)** relates the coordinates to a specific location on earth.\n",
    "\n",
    "For an in-depth explanation, see https://docs.qgis.org/2.8/en/docs/gentle_gis_introduction/coordinate_reference_systems.html"
   ]
  },
  {
   "cell_type": "markdown",
   "id": "08013d75",
   "metadata": {},
   "source": [
    "#### Geographic coordinates\n",
    "\n",
    "> Degrees of latitude and longitude.\n",
    ">\n",
    "> E.g. 48°51′N, 2°17′E\n",
    "\n",
    "The most known type of coordinates are geographic coordinates: we define a position on the globe in degrees of latitude and longitude, relative to the equator and the prime meridian. \n",
    "With this system, we can easily specify any location on earth. It is used widely, for example in GPS. If you inspect the coordinates of a location in Google Maps, you will also see latitude and longitude.\n",
    "\n",
    "**Attention!**\n",
    "\n",
    "in Python we use (lon, lat) and not (lat, lon)\n",
    "\n",
    "- Longitude: [-180, 180]{{1}}\n",
    "- Latitude: [-90, 90]{{1}}"
   ]
  },
  {
   "cell_type": "markdown",
   "id": "106bef5e",
   "metadata": {},
   "source": [
    "### Projected coordinates\n",
    "\n",
    "> `(x, y)` coordinates are usually in meters or feet\n",
    "\n",
    "Although the earth is a globe, in practice we usually represent it on a flat surface: think about a physical map, or the figures we have made with Python on our computer screen.\n",
    "Going from the globe to a flat map is what we call a *projection*.\n",
    "\n",
    "<img src=\"../labs_img/projection.png\" width = 70%>\n",
    "\n",
    "We project the surface of the earth onto a 2D plane so we can express locations in cartesian x and y coordinates, on a flat surface. In this plane, we then typically work with a length unit such as meters instead of degrees, which makes the analysis more convenient and effective.\n",
    "\n",
    "However, there is an important remark: the 3 dimensional earth can never be represented perfectly on a 2 dimensional map, so projections inevitably introduce distortions. To minimize such errors, there are different approaches to project, each with specific advantages and disadvantages.\n",
    "\n",
    "Some projection systems will try to preserve the area size of geometries, such as the Albers Equal Area projection. Other projection systems try to preserve angles, such as the Mercator projection, but will see big distortions in the area. Every projection system will always have some distortion of area, angle or distance.\n",
    "\n",
    "<table><tr>\n",
    "<td> <img src=\"../labs_img/projections-AlbersEqualArea.png\"> </td>\n",
    "<td> <img src=\"../labs_img/projections-Mercator.png\"> </td>\n",
    "</tr>\n",
    "<tr>\n",
    "<td> <img src=\"../labs_img/projections-Robinson.png\"> </td>\n",
    "</tr></table>"
   ]
  },
  {
   "cell_type": "markdown",
   "id": "d072dfa2",
   "metadata": {},
   "source": [
    "**Projected size vs actual size (Mercator projection)**:\n",
    "<img src=\"../labs_img/mercator_projection_area.gif\">"
   ]
  },
  {
   "cell_type": "markdown",
   "id": "3c9124bc",
   "metadata": {},
   "source": [
    "### Coordinate Reference Systems in Python / GeoPandas"
   ]
  },
  {
   "cell_type": "markdown",
   "id": "231ca5d1",
   "metadata": {},
   "source": [
    "A GeoDataFrame or GeoSeries has a `.crs` attribute which holds (optionally) a description of the coordinate reference system of the geometries:"
   ]
  },
  {
   "cell_type": "code",
   "execution_count": null,
   "id": "0cea18d0",
   "metadata": {
    "collapsed": false,
    "jupyter": {
     "outputs_hidden": false
    }
   },
   "outputs": [],
   "source": [
    "countries.crs"
   ]
  },
  {
   "cell_type": "markdown",
   "id": "70799851",
   "metadata": {},
   "source": [
    "For the `countries` dataframe, it indicates that it uses the EPSG 4326 / WGS84 lon/lat reference system, which is one of the most used for geographic coordinates.\n",
    "\n",
    "\n",
    "It uses coordinates as latitude and longitude in degrees, as can you be seen from the x/y labels on the plot:"
   ]
  },
  {
   "cell_type": "code",
   "execution_count": null,
   "id": "55e15c97",
   "metadata": {
    "collapsed": false,
    "jupyter": {
     "outputs_hidden": false
    }
   },
   "outputs": [],
   "source": [
    "countries.plot()"
   ]
  },
  {
   "cell_type": "markdown",
   "id": "4f35f7f7",
   "metadata": {},
   "source": [
    "The `.crs` attribute returns a `pyproj.CRS` object. To specify a CRS, we typically use some string representation:\n",
    "\n",
    "- **EPSG code**\n",
    "  Example: `EPSG:4326` = WGS84 geographic CRS (longitude, latitude)\n",
    "  \n",
    "For more information, see also http://geopandas.readthedocs.io/en/latest/projections.html."
   ]
  },
  {
   "cell_type": "markdown",
   "id": "1e8ba3db",
   "metadata": {},
   "source": [
    "#### Transforming to another CRS\n",
    "\n",
    "We can convert a GeoDataFrame to another reference system using the `to_crs` function. \n",
    "\n",
    "For example, let's convert the countries to the World Mercator projection (http://epsg.io/3395):"
   ]
  },
  {
   "cell_type": "code",
   "execution_count": null,
   "id": "08c37a78",
   "metadata": {},
   "outputs": [],
   "source": [
    "# remove Antartica, as the Mercator projection cannot deal with the poles\n",
    "countries = countries[(countries['name'] != \"Antarctica\")]\n",
    "countries_mercator = countries.to_crs(epsg=3395)  # or .to_crs(\"EPSG:3395\")\n",
    "countries_mercator.plot()"
   ]
  },
  {
   "cell_type": "markdown",
   "id": "575fcd97",
   "metadata": {},
   "source": [
    "Note the different scale of x and y."
   ]
  },
  {
   "cell_type": "markdown",
   "id": "a148bcd7",
   "metadata": {},
   "source": [
    "#### Why using a different CRS?\n",
    "\n",
    "There are sometimes good reasons you want to change the coordinate references system of your dataset, for example:\n",
    "\n",
    "- Different sources with different CRS -> need to convert to the same crs.   \n",
    "- Different countries/geographical areas with different CRS.\n",
    "- Mapping (distortion of shape and distances).\n",
    "- Distance / area based calculations -> ensure you use an appropriate projected coordinate system expressed in a meaningful unit such as meters or feet (**not degrees!**)."
   ]
  },
  {
   "cell_type": "markdown",
   "id": "7ecf91a0-1b1f-4a2e-bc8e-8d73e885e42b",
   "metadata": {},
   "source": [
    "<div class=\"alert alert-info\" style=\"font-size:120%\">\n",
    "\n",
    "**Important:**\n",
    "\n",
    "All the calculations (e.g. distance, spatial operations, etc.) that take place in `GeoPandas` and `Shapely` assume that your data is represented in a 2D cartesian plane, and thus the result of those calculations will only be correct if your data is properly projected.\n",
    "\n",
    "</div>"
   ]
  },
  {
   "cell_type": "markdown",
   "id": "d7a852af",
   "metadata": {},
   "source": [
    "## Practice\n",
    "\n",
    "Again, we will go back to the Paris datasets. Up to now, we provided the datasets in an appropriate projected CRS for the exercises. But the original data were actually using geographic coordinates. In the following exercises, we will start from there."
   ]
  },
  {
   "cell_type": "markdown",
   "id": "11950380",
   "metadata": {},
   "source": [
    "Going back to the Paris districts dataset, this is now provided as a GeoJSON file (`\"../data/paris_districts.geojson\"`) in geographic coordinates.\n",
    "\n",
    "For converting the layer to projected coordinates, we will use the standard projected CRS for France is the RGF93 / Lambert-93 reference system, referenced by the `EPSG:2154` number.\n",
    "\n",
    "<div class=\"alert alert-success\">\n",
    "\n",
    "**Exercise: Projecting a GeoDataFrame**\n",
    "\n",
    "* Read the districts datasets (`../data/paris_districts.geojson\"`) into a GeoDataFrame called `districts`.\n",
    "* Look at the CRS attribute of the GeoDataFrame. Do you recognize the EPSG number?\n",
    "* Make a plot of the `districts` dataset.\n",
    "* Calculate the area of all districts.\n",
    "* Convert the `districts` to a projected CRS (using the `EPSG:2154` for France). Call the new dataset `districts_RGF93`.\n",
    "* Make a similar plot of `districts_RGF93`.\n",
    "* Calculate the area of all districts again with `districts_RGF93` (the result will now be expressed in m²).\n",
    "    \n",
    "    \n",
    "<details><summary>Hints</summary>\n",
    "\n",
    "* The CRS information is stored in the `.crs` attribute of a GeoDataFrame.\n",
    "* Making a simple plot of a GeoDataFrame can be done with the `.plot()` method.\n",
    "* Converting to a different CRS can be done with the `.to_crs()` method, and the CRS can be specified as an EPSG number using the `epsg` keyword.\n",
    "\n",
    "</details>\n",
    "\n",
    "</div>"
   ]
  }
 ],
 "metadata": {
  "kernelspec": {
   "display_name": "Python 3 (ipykernel)",
   "language": "python",
   "name": "python3"
  },
  "language_info": {
   "codemirror_mode": {
    "name": "ipython",
    "version": 3
   },
   "file_extension": ".py",
   "mimetype": "text/x-python",
   "name": "python",
   "nbconvert_exporter": "python",
   "pygments_lexer": "ipython3",
   "version": "3.11.4"
  },
  "widgets": {
   "application/vnd.jupyter.widget-state+json": {
    "state": {},
    "version_major": 2,
    "version_minor": 0
   }
  }
 },
 "nbformat": 4,
 "nbformat_minor": 5
}
