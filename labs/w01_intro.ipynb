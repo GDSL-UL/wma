{
 "cells": [
  {
   "cell_type": "raw",
   "id": "ebab586a-a927-45f1-82d7-ea3f3569a62f",
   "metadata": {},
   "source": [
    "---\n",
    "title: \"Introduction & Python Refresher\"\n",
    "author: \"Gabriele Filomena\"\n",
    "date: today\n",
    "format: \n",
    "  html: \n",
    "    code-fold: false\n",
    "---"
   ]
  },
  {
   "cell_type": "markdown",
   "id": "1d01b201-db45-4a95-af23-41bd47fe6891",
   "metadata": {},
   "source": [
    "The **Lecture slides** can be found [here](https://github.com/GDSL-UL/wma/raw/main/lectures/w01.html).\n",
    "\n",
    "## Part I: Powerful Web Mapping Examples\n",
    "\n",
    "This part of the lab has two main components:\n",
    "1.  The first one will require you to find a partner and work together with her/him\n",
    "2.  And the second one will involve group discussion.\n",
    "\n",
    "### Paired Activity\n",
    "\n",
    "In pairs, find **three** examples where web maps are used to communicate an idea. Complete the following sheet for each example:\n",
    "\n",
    "-   **Substantive**\n",
    "    -   `Title`: Title of the map/project\n",
    "    -   `Author`: Who is behind the project?\n",
    "    -   `Big idea`: a \"one-liner\" on what the project tries to accomplish --\n",
    "    -   `Message`: what does the map try to get accross\n",
    "\n",
    "-   **Technical**\n",
    "    -   `URL`:\n",
    "    -   `Interactivity`: does the map let you interact with it in any way? Yes/No\n",
    "    -   `Zoomable`: can you explore the map at different scales? Yes/No\n",
    "    -   `Tooltips`:\n",
    "    -   `Basemap`: Is there an underlying map providing geographical context? Yes/No. If so, who is it provided by?\n",
    "    -   `Technology`: can you guess what technology does this map rely on?\n",
    "\n",
    "Post each sheet as a separate item on the Teams channel for Lab No.1"
   ]
  },
  {
   "cell_type": "markdown",
   "id": "f9715728-8c33-47be-a30a-82ece497e085",
   "metadata": {},
   "source": [
    "#### Example\n",
    "The project \"WHO Coronavirus (COVID-19) Dashboard\"\n",
    "\n",
    "<img src=\"../img/who_covid.png\" width = 70%/>\n",
    "\n",
    "-   **Substantive**\n",
    "\n",
    "    -   `Title`: WHO Coronavirus (COVID-19) Dashboard\n",
    "    -   `Author`: World Health Organization\n",
    "    -   `Big idea`: Shows confirmed COVID-19 cases and deaths by country to date\n",
    "    -   `Message`: The project displays a map of the world where COVID-19 cases are shown by country. This element is used to show which countries have had more cases (large trends). A drop down button allows us to visualise the map by a) Total per 100,000 population b) % change in the last 7 days c) newly reported in the last 7 days d) newly reported in the last 24 hours.\n",
    "\n",
    "-   **Technical**\n",
    "  \n",
    "    -   `URL`: [`https://covid19.who.int/`](https://covid19.who.int/)\n",
    "    -   `Interactivity`: Yes\n",
    "    -   `Zoomable`: Yes\n",
    "    -   `Tooltips`: Yes\n",
    "    -   `Basemap`: No\n",
    "    -   `Technology`: Unknown\n",
    "\n",
    "Here are a couple of other COVID-19 examples of web-maps that where basemaps and technology is easier to spot.\n",
    "\n",
    "-   [\"London School of Hygiene & Tropical Medicine - COVID-19 tracker\"](https://vac-lshtm.shinyapps.io/ncov_tracker/?_ga=2.246644480.501918083.1674819300-1251881958.1674819300)\n",
    "-   [\"Tracking Coronavirus in the United Kingdom: Latest Map and Case Count\"](https://www.nytimes.com/interactive/2021/world/united-kingdom-covid-cases.html)"
   ]
  },
  {
   "cell_type": "markdown",
   "id": "035f4e6b-3792-4fdc-913a-66c9a5aa995d",
   "metadata": {},
   "source": [
    "### Class discussion\n",
    "\n",
    "We will select a few examples posted and collectively discuss (some of) the following questions:\n",
    "\n",
    "1.  What makes them powerful, what \"speaks\" to us?\n",
    "2.  What could be improved, what is counter-intuitive?\n",
    "3.  What design elements do they rely on?\n",
    "4.  What technology do they use?\n",
    "\n",
    "#### References\n",
    "\n",
    "-   For an excellent coverage of \"visualisation literacy\", Chapter 11 of Andy Kirk's [\"Data Visualisation\"](https://www.visualisingdata.com/book/) is a great start. Lab: Getting up to speed for web mapping\n",
    "-   A comprehensive overview of computational notebooks and how they relate to modern scientific work is available on [Ch.1 of the GDS book](https://geographicdata.science/book/notebooks/01_geo_thinking.html).\n",
    "-   A recent overview of notebooks in Geography is available in [Boeing & Arribas-Bel (2021)](https://gistbok.ucgis.org/bok-topics/gis-and-computational-notebooks)"
   ]
  },
  {
   "cell_type": "markdown",
   "id": "ff7e1366",
   "metadata": {},
   "source": [
    "## Part II: Python/Pandas (Refresher)\n",
    "\n",
    "*Gabriele Filomena has prepared this notebook by readapting material shared on this [repository](https://github.com/gboeing/ppd599/tree/main).\n",
    "Copyright (c) 2013-2023 Geoff Boeing.*"
   ]
  },
  {
   "cell_type": "markdown",
   "id": "2174ab7d-def6-4a16-9530-93741c8c032c",
   "metadata": {},
   "source": [
    "### Python\n",
    "\n",
    "A quick overview of ubiquitous programming concepts including data types, for loops, if-then-else conditionals, and functions."
   ]
  },
  {
   "cell_type": "code",
   "execution_count": 13,
   "id": "534bfc7d",
   "metadata": {},
   "outputs": [],
   "source": [
    "import numpy as np\n",
    "import pandas as pd"
   ]
  },
  {
   "cell_type": "code",
   "execution_count": 14,
   "id": "072511b3",
   "metadata": {},
   "outputs": [
    {
     "data": {
      "text/plain": [
       "int"
      ]
     },
     "execution_count": 14,
     "metadata": {},
     "output_type": "execute_result"
    }
   ],
   "source": [
    "# integers (int)\n",
    "x = 100\n",
    "type(x)"
   ]
  },
  {
   "cell_type": "code",
   "execution_count": 15,
   "id": "0fc112fe",
   "metadata": {},
   "outputs": [
    {
     "data": {
      "text/plain": [
       "float"
      ]
     },
     "execution_count": 15,
     "metadata": {},
     "output_type": "execute_result"
    }
   ],
   "source": [
    "# floating-point numbers (float)\n",
    "x = 100.5\n",
    "type(x)"
   ]
  },
  {
   "cell_type": "code",
   "execution_count": 16,
   "id": "4ed87307",
   "metadata": {},
   "outputs": [
    {
     "data": {
      "text/plain": [
       "21"
      ]
     },
     "execution_count": 16,
     "metadata": {},
     "output_type": "execute_result"
    }
   ],
   "source": [
    "# sequence of characters (str)\n",
    "x = 'Los Angeles, CA 90089'\n",
    "len(x)"
   ]
  },
  {
   "cell_type": "code",
   "execution_count": 17,
   "id": "4ecdc15e",
   "metadata": {},
   "outputs": [
    {
     "data": {
      "text/plain": [
       "4"
      ]
     },
     "execution_count": 17,
     "metadata": {},
     "output_type": "execute_result"
    }
   ],
   "source": [
    "# list of items\n",
    "x = [1, 2, 3, 'USC']\n",
    "len(x)"
   ]
  },
  {
   "cell_type": "code",
   "execution_count": 18,
   "id": "977c876f",
   "metadata": {},
   "outputs": [
    {
     "data": {
      "text/plain": [
       "{1, 2, 3}"
      ]
     },
     "execution_count": 18,
     "metadata": {},
     "output_type": "execute_result"
    }
   ],
   "source": [
    "# sets are unique\n",
    "x = {2, 2, 3, 3, 1}\n",
    "x"
   ]
  },
  {
   "cell_type": "code",
   "execution_count": 19,
   "id": "86fee0b0",
   "metadata": {},
   "outputs": [
    {
     "data": {
      "text/plain": [
       "tuple"
      ]
     },
     "execution_count": 19,
     "metadata": {},
     "output_type": "execute_result"
    }
   ],
   "source": [
    "# tuples are immutable sequences\n",
    "latlng = (34.019425, -118.283413)\n",
    "type(latlng)"
   ]
  },
  {
   "cell_type": "code",
   "execution_count": 20,
   "id": "fc209afd",
   "metadata": {},
   "outputs": [
    {
     "data": {
      "text/plain": [
       "float"
      ]
     },
     "execution_count": 20,
     "metadata": {},
     "output_type": "execute_result"
    }
   ],
   "source": [
    "# you can unpack a tuple\n",
    "lat, lng = latlng\n",
    "type(lat)"
   ]
  },
  {
   "cell_type": "code",
   "execution_count": 21,
   "id": "2f6ef02a",
   "metadata": {},
   "outputs": [
    {
     "data": {
      "text/plain": [
       "dict"
      ]
     },
     "execution_count": 21,
     "metadata": {},
     "output_type": "execute_result"
    }
   ],
   "source": [
    "# dictionary of key:value pairs\n",
    "iceland = {'Country': 'Iceland', 'Population': 372520, 'Capital': 'Reykjavík', '% Foreign Population' : 0.18 }\n",
    "type(iceland)"
   ]
  },
  {
   "cell_type": "code",
   "execution_count": 22,
   "id": "4598e570",
   "metadata": {},
   "outputs": [
    {
     "name": "stdout",
     "output_type": "stream",
     "text": [
      "<class 'str'>\n",
      "<class 'int'>\n"
     ]
    }
   ],
   "source": [
    "# you can convert types\n",
    "x = '100'\n",
    "print(type(x))\n",
    "y = int(x)\n",
    "print(type(y))"
   ]
  },
  {
   "cell_type": "code",
   "execution_count": 23,
   "id": "e0100cb4",
   "metadata": {},
   "outputs": [
    {
     "name": "stdout",
     "output_type": "stream",
     "text": [
      "Current coordinate is: 34.019425\n",
      "Current coordinate is: -118.283413\n"
     ]
    }
   ],
   "source": [
    "# you can loop through an iterable, such as a list or tuple\n",
    "for coord in latlng:\n",
    "    print('Current coordinate is:', coord)"
   ]
  },
  {
   "cell_type": "code",
   "execution_count": 24,
   "id": "b76f8572",
   "metadata": {},
   "outputs": [
    {
     "name": "stdout",
     "output_type": "stream",
     "text": [
      "Country Iceland\n",
      "Population 372520\n",
      "Capital Reykjavík\n",
      "% Foreign Population 0.18\n"
     ]
    }
   ],
   "source": [
    "# loop through a dictionary keys and values as tuples\n",
    "for key, value in iceland.items():\n",
    "    print(key, value)"
   ]
  },
  {
   "cell_type": "code",
   "execution_count": 25,
   "id": "6acb762e",
   "metadata": {},
   "outputs": [
    {
     "data": {
      "text/plain": [
       "True"
      ]
     },
     "execution_count": 25,
     "metadata": {},
     "output_type": "execute_result"
    }
   ],
   "source": [
    "# booleans are trues/falses\n",
    "x = 101\n",
    "x > 100"
   ]
  },
  {
   "cell_type": "code",
   "execution_count": 26,
   "id": "da50b280",
   "metadata": {},
   "outputs": [
    {
     "data": {
      "text/plain": [
       "False"
      ]
     },
     "execution_count": 26,
     "metadata": {},
     "output_type": "execute_result"
    }
   ],
   "source": [
    "# use two == for equality and one = for assignment\n",
    "x == 100"
   ]
  },
  {
   "cell_type": "code",
   "execution_count": 27,
   "id": "9e2e51f1",
   "metadata": {},
   "outputs": [
    {
     "name": "stdout",
     "output_type": "stream",
     "text": [
      "Value is greater than 100.\n"
     ]
    }
   ],
   "source": [
    "# if, elif, else for conditional branching execution\n",
    "x = 101\n",
    "if x > 100:\n",
    "    print('Value is greater than 100.')\n",
    "elif x < 100:\n",
    "    print('Value is less than 100.')\n",
    "else:\n",
    "    print('Value is 100.')"
   ]
  },
  {
   "cell_type": "code",
   "execution_count": 28,
   "id": "3d786ec8",
   "metadata": {},
   "outputs": [
    {
     "data": {
      "text/plain": [
       "['1', '2', '3', '4']"
      ]
     },
     "execution_count": 28,
     "metadata": {},
     "output_type": "execute_result"
    }
   ],
   "source": [
    "# use functions to encapsulate and reuse bits of code\n",
    "def convert_items(my_list, new_type=str):\n",
    "    # convert each item in a list to a new type\n",
    "    new_list = [new_type(item) for item in my_list]\n",
    "    return new_list\n",
    "\n",
    "l = [1, 2, 3, 4]\n",
    "convert_items(l)"
   ]
  },
  {
   "cell_type": "markdown",
   "id": "167fcb51",
   "metadata": {},
   "source": [
    "### `pandas` Series and DataFrames\n",
    "\n",
    "[pandas](https://pandas.pydata.org/) has two primary data structures we will work with: `Series` and `DataFrame`.\n",
    "\n",
    "#### Pandas Series"
   ]
  },
  {
   "cell_type": "code",
   "execution_count": 29,
   "id": "8db0c7d9",
   "metadata": {},
   "outputs": [
    {
     "data": {
      "text/plain": [
       "0     8\n",
       "1     5\n",
       "2    77\n",
       "3     2\n",
       "dtype: int64"
      ]
     },
     "execution_count": 29,
     "metadata": {},
     "output_type": "execute_result"
    }
   ],
   "source": [
    "# a pandas series is based on a numpy array: it's fast, compact, and has more functionality\n",
    "# it has an index which allows you to work naturally with tabular data\n",
    "my_list = [8, 5, 77, 2]\n",
    "my_series = pd.Series(my_list)\n",
    "my_series"
   ]
  },
  {
   "cell_type": "code",
   "execution_count": 30,
   "id": "15431e1f",
   "metadata": {},
   "outputs": [
    {
     "data": {
      "text/plain": [
       "[0, 1, 2, 3]"
      ]
     },
     "execution_count": 30,
     "metadata": {},
     "output_type": "execute_result"
    }
   ],
   "source": [
    "# look at a list-representation of the index\n",
    "my_series.index.tolist()"
   ]
  },
  {
   "cell_type": "code",
   "execution_count": 31,
   "id": "8a539cff",
   "metadata": {},
   "outputs": [
    {
     "data": {
      "text/plain": [
       "array([ 8,  5, 77,  2], dtype=int64)"
      ]
     },
     "execution_count": 31,
     "metadata": {},
     "output_type": "execute_result"
    }
   ],
   "source": [
    "# look at the series' values themselves\n",
    "my_series.values"
   ]
  },
  {
   "cell_type": "code",
   "execution_count": 32,
   "id": "eaccad88",
   "metadata": {},
   "outputs": [
    {
     "data": {
      "text/plain": [
       "numpy.ndarray"
      ]
     },
     "execution_count": 32,
     "metadata": {},
     "output_type": "execute_result"
    }
   ],
   "source": [
    "# what's the data type of the series' values?\n",
    "type(my_series.values)"
   ]
  },
  {
   "cell_type": "code",
   "execution_count": 33,
   "id": "c83b6d09",
   "metadata": {},
   "outputs": [
    {
     "data": {
      "text/plain": [
       "dtype('int64')"
      ]
     },
     "execution_count": 33,
     "metadata": {},
     "output_type": "execute_result"
    }
   ],
   "source": [
    "# what's the data type of the individual values themselves?\n",
    "my_series.dtype"
   ]
  },
  {
   "cell_type": "markdown",
   "id": "499011b0",
   "metadata": {},
   "source": [
    "#### Pandas DataFrames"
   ]
  },
  {
   "cell_type": "code",
   "execution_count": 34,
   "id": "f502e942",
   "metadata": {},
   "outputs": [
    {
     "data": {
      "text/plain": [
       "{'hh_income': [75125, 22075, 31950, 115400],\n",
       " 'home_value': [525000, 275000, 395000, 985000]}"
      ]
     },
     "execution_count": 34,
     "metadata": {},
     "output_type": "execute_result"
    }
   ],
   "source": [
    "# a dict can contain multiple lists and label them\n",
    "my_dict = {'hh_income'  : [75125, 22075, 31950, 115400],\n",
    "           'home_value' : [525000, 275000, 395000, 985000]}\n",
    "my_dict"
   ]
  },
  {
   "cell_type": "code",
   "execution_count": 35,
   "id": "0eaf4ef1",
   "metadata": {},
   "outputs": [
    {
     "data": {
      "text/html": [
       "<div>\n",
       "<style scoped>\n",
       "    .dataframe tbody tr th:only-of-type {\n",
       "        vertical-align: middle;\n",
       "    }\n",
       "\n",
       "    .dataframe tbody tr th {\n",
       "        vertical-align: top;\n",
       "    }\n",
       "\n",
       "    .dataframe thead th {\n",
       "        text-align: right;\n",
       "    }\n",
       "</style>\n",
       "<table border=\"1\" class=\"dataframe\">\n",
       "  <thead>\n",
       "    <tr style=\"text-align: right;\">\n",
       "      <th></th>\n",
       "      <th>hh_income</th>\n",
       "      <th>home_value</th>\n",
       "    </tr>\n",
       "  </thead>\n",
       "  <tbody>\n",
       "    <tr>\n",
       "      <th>0</th>\n",
       "      <td>75125</td>\n",
       "      <td>525000</td>\n",
       "    </tr>\n",
       "    <tr>\n",
       "      <th>1</th>\n",
       "      <td>22075</td>\n",
       "      <td>275000</td>\n",
       "    </tr>\n",
       "    <tr>\n",
       "      <th>2</th>\n",
       "      <td>31950</td>\n",
       "      <td>395000</td>\n",
       "    </tr>\n",
       "    <tr>\n",
       "      <th>3</th>\n",
       "      <td>115400</td>\n",
       "      <td>985000</td>\n",
       "    </tr>\n",
       "  </tbody>\n",
       "</table>\n",
       "</div>"
      ],
      "text/plain": [
       "   hh_income  home_value\n",
       "0      75125      525000\n",
       "1      22075      275000\n",
       "2      31950      395000\n",
       "3     115400      985000"
      ]
     },
     "execution_count": 35,
     "metadata": {},
     "output_type": "execute_result"
    }
   ],
   "source": [
    "# a pandas dataframe can contain one or more columns\n",
    "# each column is a pandas series\n",
    "# each row is a pandas series\n",
    "# you can create a dataframe by passing in a list, array, series, or dict\n",
    "df = pd.DataFrame(my_dict)\n",
    "df"
   ]
  },
  {
   "cell_type": "code",
   "execution_count": 36,
   "id": "da5d986e",
   "metadata": {},
   "outputs": [
    {
     "data": {
      "text/plain": [
       "[0, 1, 2, 3]"
      ]
     },
     "execution_count": 36,
     "metadata": {},
     "output_type": "execute_result"
    }
   ],
   "source": [
    "# the row labels in the index are accessed by the .index attribute of the DataFrame object\n",
    "df.index.tolist()"
   ]
  },
  {
   "cell_type": "code",
   "execution_count": 37,
   "id": "c77bf3b3",
   "metadata": {},
   "outputs": [
    {
     "data": {
      "text/plain": [
       "Index(['hh_income', 'home_value'], dtype='object')"
      ]
     },
     "execution_count": 37,
     "metadata": {},
     "output_type": "execute_result"
    }
   ],
   "source": [
    "# the column labels are accessed by the .columns attribute of the DataFrame object\n",
    "df.columns"
   ]
  },
  {
   "cell_type": "code",
   "execution_count": 38,
   "id": "77b22ff1",
   "metadata": {},
   "outputs": [
    {
     "data": {
      "text/plain": [
       "array([[ 75125, 525000],\n",
       "       [ 22075, 275000],\n",
       "       [ 31950, 395000],\n",
       "       [115400, 985000]], dtype=int64)"
      ]
     },
     "execution_count": 38,
     "metadata": {},
     "output_type": "execute_result"
    }
   ],
   "source": [
    "# the data values are accessed by the .values attribute of the DataFrame object\n",
    "# this is a numpy (two-dimensional) array\n",
    "df.values"
   ]
  },
  {
   "cell_type": "markdown",
   "id": "65995f71",
   "metadata": {},
   "source": [
    "### Loading data in Pandas\n",
    "\n",
    "Usually, you'll work with data by loading a dataset file into pandas. CSV is the most common format. But pandas can also ingest tab-separated data, JSON, and proprietary file formats like Excel .xlsx files, Stata, SAS, and SPSS.\n",
    "\n",
    "Below, notice what pandas's `read_csv` function does:\n",
    "\n",
    "1. Recognize the header row and get its variable names.\n",
    "1. Read all the rows and construct a pandas DataFrame (an assembly of pandas Series rows and columns).\n",
    "1. Construct a unique index, beginning with zero.\n",
    "1. Infer the data type of each variable (i.e., column)."
   ]
  },
  {
   "cell_type": "code",
   "execution_count": 39,
   "id": "c0563c12",
   "metadata": {},
   "outputs": [],
   "source": [
    "# load a data file\n",
    "# note the relative filepath! where is this file located?\n",
    "# use dtype argument if you don't want pandas to guess your data types\n",
    "df = pd.read_csv('data/GTD_2022.csv', low_memory = False)"
   ]
  },
  {
   "cell_type": "code",
   "execution_count": 40,
   "id": "6d82f2e4",
   "metadata": {},
   "outputs": [],
   "source": [
    "to_replace = [-9, -99, \"-9\", \"-99\"]\n",
    "for value in to_replace:\n",
    "    df = df.replace(value, np.NaN)\n",
    "\n",
    "df['eventid'] = df['eventid'].astype(\"Int64\")"
   ]
  },
  {
   "cell_type": "code",
   "execution_count": 41,
   "id": "0b43886d",
   "metadata": {},
   "outputs": [
    {
     "data": {
      "text/plain": [
       "(209706, 87)"
      ]
     },
     "execution_count": 41,
     "metadata": {},
     "output_type": "execute_result"
    }
   ],
   "source": [
    "# dataframe shape as rows, columns\n",
    "df.shape"
   ]
  },
  {
   "cell_type": "code",
   "execution_count": 42,
   "id": "9e15c48e",
   "metadata": {},
   "outputs": [
    {
     "data": {
      "text/plain": [
       "209706"
      ]
     },
     "execution_count": 42,
     "metadata": {},
     "output_type": "execute_result"
    }
   ],
   "source": [
    "# or use len to just see the number of rows\n",
    "len(df)"
   ]
  },
  {
   "cell_type": "code",
   "execution_count": 43,
   "id": "6d097933",
   "metadata": {},
   "outputs": [
    {
     "data": {
      "text/html": [
       "<div>\n",
       "<style scoped>\n",
       "    .dataframe tbody tr th:only-of-type {\n",
       "        vertical-align: middle;\n",
       "    }\n",
       "\n",
       "    .dataframe tbody tr th {\n",
       "        vertical-align: top;\n",
       "    }\n",
       "\n",
       "    .dataframe thead th {\n",
       "        text-align: right;\n",
       "    }\n",
       "</style>\n",
       "<table border=\"1\" class=\"dataframe\">\n",
       "  <thead>\n",
       "    <tr style=\"text-align: right;\">\n",
       "      <th></th>\n",
       "      <th>eventid</th>\n",
       "      <th>year</th>\n",
       "      <th>month</th>\n",
       "      <th>day</th>\n",
       "      <th>extended</th>\n",
       "      <th>country</th>\n",
       "      <th>country_txt</th>\n",
       "      <th>region</th>\n",
       "      <th>region_txt</th>\n",
       "      <th>city</th>\n",
       "      <th>...</th>\n",
       "      <th>ransompaidus</th>\n",
       "      <th>hostkidoutcome</th>\n",
       "      <th>hostkidoutcome_txt</th>\n",
       "      <th>nreleased</th>\n",
       "      <th>dbsource</th>\n",
       "      <th>INT_LOG</th>\n",
       "      <th>INT_IDEO</th>\n",
       "      <th>INT_MISC</th>\n",
       "      <th>INT_ANY</th>\n",
       "      <th>related</th>\n",
       "    </tr>\n",
       "  </thead>\n",
       "  <tbody>\n",
       "    <tr>\n",
       "      <th>0</th>\n",
       "      <td>200505000000</td>\n",
       "      <td>2005</td>\n",
       "      <td>5</td>\n",
       "      <td>28</td>\n",
       "      <td>1</td>\n",
       "      <td>153</td>\n",
       "      <td>Pakistan</td>\n",
       "      <td>6</td>\n",
       "      <td>South Asia</td>\n",
       "      <td>Karachi</td>\n",
       "      <td>...</td>\n",
       "      <td>NaN</td>\n",
       "      <td>4.0</td>\n",
       "      <td>Hostage(s) killed (not during rescue attempt)</td>\n",
       "      <td>0.0</td>\n",
       "      <td>CETIS</td>\n",
       "      <td>NaN</td>\n",
       "      <td>NaN</td>\n",
       "      <td>0.0</td>\n",
       "      <td>NaN</td>\n",
       "      <td>NaN</td>\n",
       "    </tr>\n",
       "    <tr>\n",
       "      <th>1</th>\n",
       "      <td>200505000000</td>\n",
       "      <td>2005</td>\n",
       "      <td>5</td>\n",
       "      <td>29</td>\n",
       "      <td>1</td>\n",
       "      <td>95</td>\n",
       "      <td>Iraq</td>\n",
       "      <td>10</td>\n",
       "      <td>Middle East &amp; North Africa</td>\n",
       "      <td>Kirkuk</td>\n",
       "      <td>...</td>\n",
       "      <td>NaN</td>\n",
       "      <td>4.0</td>\n",
       "      <td>Hostage(s) killed (not during rescue attempt)</td>\n",
       "      <td>0.0</td>\n",
       "      <td>CETIS</td>\n",
       "      <td>0.0</td>\n",
       "      <td>0.0</td>\n",
       "      <td>0.0</td>\n",
       "      <td>0.0</td>\n",
       "      <td>NaN</td>\n",
       "    </tr>\n",
       "    <tr>\n",
       "      <th>2</th>\n",
       "      <td>200706000000</td>\n",
       "      <td>2007</td>\n",
       "      <td>6</td>\n",
       "      <td>8</td>\n",
       "      <td>1</td>\n",
       "      <td>95</td>\n",
       "      <td>Iraq</td>\n",
       "      <td>10</td>\n",
       "      <td>Middle East &amp; North Africa</td>\n",
       "      <td>Kan'an</td>\n",
       "      <td>...</td>\n",
       "      <td>NaN</td>\n",
       "      <td>6.0</td>\n",
       "      <td>Combination</td>\n",
       "      <td>0.0</td>\n",
       "      <td>CETIS</td>\n",
       "      <td>0.0</td>\n",
       "      <td>0.0</td>\n",
       "      <td>0.0</td>\n",
       "      <td>0.0</td>\n",
       "      <td>NaN</td>\n",
       "    </tr>\n",
       "    <tr>\n",
       "      <th>3</th>\n",
       "      <td>201006000000</td>\n",
       "      <td>2010</td>\n",
       "      <td>6</td>\n",
       "      <td>15</td>\n",
       "      <td>1</td>\n",
       "      <td>4</td>\n",
       "      <td>Afghanistan</td>\n",
       "      <td>6</td>\n",
       "      <td>South Asia</td>\n",
       "      <td>Saydabad</td>\n",
       "      <td>...</td>\n",
       "      <td>NaN</td>\n",
       "      <td>4.0</td>\n",
       "      <td>Hostage(s) killed (not during rescue attempt)</td>\n",
       "      <td>NaN</td>\n",
       "      <td>ISVG</td>\n",
       "      <td>0.0</td>\n",
       "      <td>0.0</td>\n",
       "      <td>0.0</td>\n",
       "      <td>0.0</td>\n",
       "      <td>NaN</td>\n",
       "    </tr>\n",
       "    <tr>\n",
       "      <th>4</th>\n",
       "      <td>201101000000</td>\n",
       "      <td>2011</td>\n",
       "      <td>1</td>\n",
       "      <td>6</td>\n",
       "      <td>1</td>\n",
       "      <td>92</td>\n",
       "      <td>India</td>\n",
       "      <td>6</td>\n",
       "      <td>South Asia</td>\n",
       "      <td>Midnapore</td>\n",
       "      <td>...</td>\n",
       "      <td>NaN</td>\n",
       "      <td>4.0</td>\n",
       "      <td>Hostage(s) killed (not during rescue attempt)</td>\n",
       "      <td>0.0</td>\n",
       "      <td>ISVG</td>\n",
       "      <td>0.0</td>\n",
       "      <td>0.0</td>\n",
       "      <td>0.0</td>\n",
       "      <td>0.0</td>\n",
       "      <td>NaN</td>\n",
       "    </tr>\n",
       "  </tbody>\n",
       "</table>\n",
       "<p>5 rows × 87 columns</p>\n",
       "</div>"
      ],
      "text/plain": [
       "        eventid  year  month  day  extended  country  country_txt  region  \\\n",
       "0  200505000000  2005      5   28         1      153     Pakistan       6   \n",
       "1  200505000000  2005      5   29         1       95         Iraq      10   \n",
       "2  200706000000  2007      6    8         1       95         Iraq      10   \n",
       "3  201006000000  2010      6   15         1        4  Afghanistan       6   \n",
       "4  201101000000  2011      1    6         1       92        India       6   \n",
       "\n",
       "                   region_txt       city  ...  ransompaidus  hostkidoutcome  \\\n",
       "0                  South Asia    Karachi  ...           NaN             4.0   \n",
       "1  Middle East & North Africa     Kirkuk  ...           NaN             4.0   \n",
       "2  Middle East & North Africa     Kan'an  ...           NaN             6.0   \n",
       "3                  South Asia   Saydabad  ...           NaN             4.0   \n",
       "4                  South Asia  Midnapore  ...           NaN             4.0   \n",
       "\n",
       "                              hostkidoutcome_txt nreleased  dbsource  INT_LOG  \\\n",
       "0  Hostage(s) killed (not during rescue attempt)       0.0     CETIS      NaN   \n",
       "1  Hostage(s) killed (not during rescue attempt)       0.0     CETIS      0.0   \n",
       "2                                    Combination       0.0     CETIS      0.0   \n",
       "3  Hostage(s) killed (not during rescue attempt)       NaN      ISVG      0.0   \n",
       "4  Hostage(s) killed (not during rescue attempt)       0.0      ISVG      0.0   \n",
       "\n",
       "   INT_IDEO  INT_MISC  INT_ANY related  \n",
       "0       NaN       0.0      NaN     NaN  \n",
       "1       0.0       0.0      0.0     NaN  \n",
       "2       0.0       0.0      0.0     NaN  \n",
       "3       0.0       0.0      0.0     NaN  \n",
       "4       0.0       0.0      0.0     NaN  \n",
       "\n",
       "[5 rows x 87 columns]"
      ]
     },
     "execution_count": 43,
     "metadata": {},
     "output_type": "execute_result"
    }
   ],
   "source": [
    "# view the dataframe's \"head\"\n",
    "df.head()"
   ]
  },
  {
   "cell_type": "code",
   "execution_count": 44,
   "id": "7c189d86",
   "metadata": {},
   "outputs": [
    {
     "data": {
      "text/html": [
       "<div>\n",
       "<style scoped>\n",
       "    .dataframe tbody tr th:only-of-type {\n",
       "        vertical-align: middle;\n",
       "    }\n",
       "\n",
       "    .dataframe tbody tr th {\n",
       "        vertical-align: top;\n",
       "    }\n",
       "\n",
       "    .dataframe thead th {\n",
       "        text-align: right;\n",
       "    }\n",
       "</style>\n",
       "<table border=\"1\" class=\"dataframe\">\n",
       "  <thead>\n",
       "    <tr style=\"text-align: right;\">\n",
       "      <th></th>\n",
       "      <th>eventid</th>\n",
       "      <th>year</th>\n",
       "      <th>month</th>\n",
       "      <th>day</th>\n",
       "      <th>extended</th>\n",
       "      <th>country</th>\n",
       "      <th>country_txt</th>\n",
       "      <th>region</th>\n",
       "      <th>region_txt</th>\n",
       "      <th>city</th>\n",
       "      <th>...</th>\n",
       "      <th>ransompaidus</th>\n",
       "      <th>hostkidoutcome</th>\n",
       "      <th>hostkidoutcome_txt</th>\n",
       "      <th>nreleased</th>\n",
       "      <th>dbsource</th>\n",
       "      <th>INT_LOG</th>\n",
       "      <th>INT_IDEO</th>\n",
       "      <th>INT_MISC</th>\n",
       "      <th>INT_ANY</th>\n",
       "      <th>related</th>\n",
       "    </tr>\n",
       "  </thead>\n",
       "  <tbody>\n",
       "    <tr>\n",
       "      <th>209701</th>\n",
       "      <td>202012000000</td>\n",
       "      <td>2020</td>\n",
       "      <td>12</td>\n",
       "      <td>31</td>\n",
       "      <td>0</td>\n",
       "      <td>228</td>\n",
       "      <td>Yemen</td>\n",
       "      <td>10</td>\n",
       "      <td>Middle East &amp; North Africa</td>\n",
       "      <td>Sabaa</td>\n",
       "      <td>...</td>\n",
       "      <td>NaN</td>\n",
       "      <td>NaN</td>\n",
       "      <td>NaN</td>\n",
       "      <td>NaN</td>\n",
       "      <td>START Primary Collection</td>\n",
       "      <td>0.0</td>\n",
       "      <td>0.0</td>\n",
       "      <td>0.0</td>\n",
       "      <td>0.0</td>\n",
       "      <td>NaN</td>\n",
       "    </tr>\n",
       "    <tr>\n",
       "      <th>209702</th>\n",
       "      <td>202012000000</td>\n",
       "      <td>2020</td>\n",
       "      <td>12</td>\n",
       "      <td>31</td>\n",
       "      <td>0</td>\n",
       "      <td>228</td>\n",
       "      <td>Yemen</td>\n",
       "      <td>10</td>\n",
       "      <td>Middle East &amp; North Africa</td>\n",
       "      <td>Beit Maghari</td>\n",
       "      <td>...</td>\n",
       "      <td>NaN</td>\n",
       "      <td>NaN</td>\n",
       "      <td>NaN</td>\n",
       "      <td>NaN</td>\n",
       "      <td>START Primary Collection</td>\n",
       "      <td>0.0</td>\n",
       "      <td>0.0</td>\n",
       "      <td>0.0</td>\n",
       "      <td>0.0</td>\n",
       "      <td>NaN</td>\n",
       "    </tr>\n",
       "    <tr>\n",
       "      <th>209703</th>\n",
       "      <td>202012000000</td>\n",
       "      <td>2020</td>\n",
       "      <td>12</td>\n",
       "      <td>31</td>\n",
       "      <td>0</td>\n",
       "      <td>75</td>\n",
       "      <td>Germany</td>\n",
       "      <td>8</td>\n",
       "      <td>Western Europe</td>\n",
       "      <td>Leipzig</td>\n",
       "      <td>...</td>\n",
       "      <td>NaN</td>\n",
       "      <td>NaN</td>\n",
       "      <td>NaN</td>\n",
       "      <td>NaN</td>\n",
       "      <td>START Primary Collection</td>\n",
       "      <td>NaN</td>\n",
       "      <td>NaN</td>\n",
       "      <td>0.0</td>\n",
       "      <td>NaN</td>\n",
       "      <td>NaN</td>\n",
       "    </tr>\n",
       "    <tr>\n",
       "      <th>209704</th>\n",
       "      <td>202012000000</td>\n",
       "      <td>2020</td>\n",
       "      <td>12</td>\n",
       "      <td>31</td>\n",
       "      <td>0</td>\n",
       "      <td>4</td>\n",
       "      <td>Afghanistan</td>\n",
       "      <td>6</td>\n",
       "      <td>South Asia</td>\n",
       "      <td>Kabul</td>\n",
       "      <td>...</td>\n",
       "      <td>NaN</td>\n",
       "      <td>NaN</td>\n",
       "      <td>NaN</td>\n",
       "      <td>NaN</td>\n",
       "      <td>START Primary Collection</td>\n",
       "      <td>NaN</td>\n",
       "      <td>NaN</td>\n",
       "      <td>0.0</td>\n",
       "      <td>NaN</td>\n",
       "      <td>NaN</td>\n",
       "    </tr>\n",
       "    <tr>\n",
       "      <th>209705</th>\n",
       "      <td>202012000000</td>\n",
       "      <td>2020</td>\n",
       "      <td>12</td>\n",
       "      <td>31</td>\n",
       "      <td>1</td>\n",
       "      <td>33</td>\n",
       "      <td>Burkina Faso</td>\n",
       "      <td>11</td>\n",
       "      <td>Sub-Saharan Africa</td>\n",
       "      <td>Kelbo</td>\n",
       "      <td>...</td>\n",
       "      <td>NaN</td>\n",
       "      <td>NaN</td>\n",
       "      <td>NaN</td>\n",
       "      <td>NaN</td>\n",
       "      <td>START Primary Collection</td>\n",
       "      <td>NaN</td>\n",
       "      <td>NaN</td>\n",
       "      <td>0.0</td>\n",
       "      <td>NaN</td>\n",
       "      <td>NaN</td>\n",
       "    </tr>\n",
       "  </tbody>\n",
       "</table>\n",
       "<p>5 rows × 87 columns</p>\n",
       "</div>"
      ],
      "text/plain": [
       "             eventid  year  month  day  extended  country   country_txt  \\\n",
       "209701  202012000000  2020     12   31         0      228         Yemen   \n",
       "209702  202012000000  2020     12   31         0      228         Yemen   \n",
       "209703  202012000000  2020     12   31         0       75       Germany   \n",
       "209704  202012000000  2020     12   31         0        4   Afghanistan   \n",
       "209705  202012000000  2020     12   31         1       33  Burkina Faso   \n",
       "\n",
       "        region                  region_txt          city  ...  ransompaidus  \\\n",
       "209701      10  Middle East & North Africa         Sabaa  ...           NaN   \n",
       "209702      10  Middle East & North Africa  Beit Maghari  ...           NaN   \n",
       "209703       8              Western Europe       Leipzig  ...           NaN   \n",
       "209704       6                  South Asia         Kabul  ...           NaN   \n",
       "209705      11          Sub-Saharan Africa         Kelbo  ...           NaN   \n",
       "\n",
       "        hostkidoutcome  hostkidoutcome_txt nreleased  \\\n",
       "209701             NaN                 NaN       NaN   \n",
       "209702             NaN                 NaN       NaN   \n",
       "209703             NaN                 NaN       NaN   \n",
       "209704             NaN                 NaN       NaN   \n",
       "209705             NaN                 NaN       NaN   \n",
       "\n",
       "                        dbsource  INT_LOG  INT_IDEO  INT_MISC  INT_ANY related  \n",
       "209701  START Primary Collection      0.0       0.0       0.0      0.0     NaN  \n",
       "209702  START Primary Collection      0.0       0.0       0.0      0.0     NaN  \n",
       "209703  START Primary Collection      NaN       NaN       0.0      NaN     NaN  \n",
       "209704  START Primary Collection      NaN       NaN       0.0      NaN     NaN  \n",
       "209705  START Primary Collection      NaN       NaN       0.0      NaN     NaN  \n",
       "\n",
       "[5 rows x 87 columns]"
      ]
     },
     "execution_count": 44,
     "metadata": {},
     "output_type": "execute_result"
    }
   ],
   "source": [
    "# view the dataframe's \"tail\"\n",
    "df.tail()"
   ]
  },
  {
   "cell_type": "code",
   "execution_count": 45,
   "id": "243a3917",
   "metadata": {},
   "outputs": [
    {
     "data": {
      "text/plain": [
       "eventid       Int64\n",
       "year          int64\n",
       "month         int64\n",
       "day           int64\n",
       "extended      int64\n",
       "             ...   \n",
       "INT_LOG     float64\n",
       "INT_IDEO    float64\n",
       "INT_MISC    float64\n",
       "INT_ANY     float64\n",
       "related      object\n",
       "Length: 87, dtype: object"
      ]
     },
     "execution_count": 45,
     "metadata": {},
     "output_type": "execute_result"
    }
   ],
   "source": [
    "# column data types\n",
    "df.dtypes"
   ]
  },
  {
   "cell_type": "code",
   "execution_count": 46,
   "id": "002c9b4e",
   "metadata": {},
   "outputs": [
    {
     "name": "stdout",
     "output_type": "stream",
     "text": [
      "eventid <class 'str'>\n",
      "year <class 'str'>\n",
      "month <class 'str'>\n",
      "day <class 'str'>\n",
      "extended <class 'str'>\n",
      "country <class 'str'>\n",
      "country_txt <class 'str'>\n",
      "region <class 'str'>\n",
      "region_txt <class 'str'>\n",
      "city <class 'str'>\n"
     ]
    }
   ],
   "source": [
    "# or\n",
    "for dt in df.columns[:10]:\n",
    "    print(dt, type(dt))"
   ]
  },
  {
   "cell_type": "markdown",
   "id": "9902678c",
   "metadata": {},
   "source": [
    "### Selecting and slicing data from a DataFrame"
   ]
  },
  {
   "cell_type": "code",
   "execution_count": 47,
   "id": "1b337092",
   "metadata": {},
   "outputs": [],
   "source": [
    "# CHEAT SHEET OF COMMON TASKS\n",
    "# Operation                       Syntax           Result\n",
    "#------------------------------------------------------------\n",
    "# Select column by name           df[col]          Series\n",
    "# Select columns by name          df[col_list]     DataFrame\n",
    "# Select row by label             df.loc[label]    Series\n",
    "# Select row by integer location  df.iloc[loc]     Series\n",
    "# Slice rows by label             df.loc[a:c]      DataFrame\n",
    "# Select rows by boolean vector   df[mask]         DataFrame"
   ]
  },
  {
   "cell_type": "markdown",
   "id": "45fc9a07",
   "metadata": {},
   "source": [
    "#### Select DataFrame's column(s) by name"
   ]
  },
  {
   "cell_type": "code",
   "execution_count": 48,
   "id": "6d6d1e5e",
   "metadata": {},
   "outputs": [
    {
     "data": {
      "text/plain": [
       "0         153\n",
       "1          95\n",
       "2          95\n",
       "3           4\n",
       "4          92\n",
       "         ... \n",
       "209701    228\n",
       "209702    228\n",
       "209703     75\n",
       "209704      4\n",
       "209705     33\n",
       "Name: country, Length: 209706, dtype: int64"
      ]
     },
     "execution_count": 48,
     "metadata": {},
     "output_type": "execute_result"
    }
   ],
   "source": [
    "# select a single column by column name\n",
    "# this is a pandas series\n",
    "df['country']"
   ]
  },
  {
   "cell_type": "code",
   "execution_count": 49,
   "id": "3b1ca236",
   "metadata": {},
   "outputs": [
    {
     "data": {
      "text/html": [
       "<div>\n",
       "<style scoped>\n",
       "    .dataframe tbody tr th:only-of-type {\n",
       "        vertical-align: middle;\n",
       "    }\n",
       "\n",
       "    .dataframe tbody tr th {\n",
       "        vertical-align: top;\n",
       "    }\n",
       "\n",
       "    .dataframe thead th {\n",
       "        text-align: right;\n",
       "    }\n",
       "</style>\n",
       "<table border=\"1\" class=\"dataframe\">\n",
       "  <thead>\n",
       "    <tr style=\"text-align: right;\">\n",
       "      <th></th>\n",
       "      <th>country_txt</th>\n",
       "      <th>year</th>\n",
       "    </tr>\n",
       "  </thead>\n",
       "  <tbody>\n",
       "    <tr>\n",
       "      <th>0</th>\n",
       "      <td>Pakistan</td>\n",
       "      <td>2005</td>\n",
       "    </tr>\n",
       "    <tr>\n",
       "      <th>1</th>\n",
       "      <td>Iraq</td>\n",
       "      <td>2005</td>\n",
       "    </tr>\n",
       "    <tr>\n",
       "      <th>2</th>\n",
       "      <td>Iraq</td>\n",
       "      <td>2007</td>\n",
       "    </tr>\n",
       "    <tr>\n",
       "      <th>3</th>\n",
       "      <td>Afghanistan</td>\n",
       "      <td>2010</td>\n",
       "    </tr>\n",
       "    <tr>\n",
       "      <th>4</th>\n",
       "      <td>India</td>\n",
       "      <td>2011</td>\n",
       "    </tr>\n",
       "    <tr>\n",
       "      <th>...</th>\n",
       "      <td>...</td>\n",
       "      <td>...</td>\n",
       "    </tr>\n",
       "    <tr>\n",
       "      <th>209701</th>\n",
       "      <td>Yemen</td>\n",
       "      <td>2020</td>\n",
       "    </tr>\n",
       "    <tr>\n",
       "      <th>209702</th>\n",
       "      <td>Yemen</td>\n",
       "      <td>2020</td>\n",
       "    </tr>\n",
       "    <tr>\n",
       "      <th>209703</th>\n",
       "      <td>Germany</td>\n",
       "      <td>2020</td>\n",
       "    </tr>\n",
       "    <tr>\n",
       "      <th>209704</th>\n",
       "      <td>Afghanistan</td>\n",
       "      <td>2020</td>\n",
       "    </tr>\n",
       "    <tr>\n",
       "      <th>209705</th>\n",
       "      <td>Burkina Faso</td>\n",
       "      <td>2020</td>\n",
       "    </tr>\n",
       "  </tbody>\n",
       "</table>\n",
       "<p>209706 rows × 2 columns</p>\n",
       "</div>"
      ],
      "text/plain": [
       "         country_txt  year\n",
       "0           Pakistan  2005\n",
       "1               Iraq  2005\n",
       "2               Iraq  2007\n",
       "3        Afghanistan  2010\n",
       "4              India  2011\n",
       "...              ...   ...\n",
       "209701         Yemen  2020\n",
       "209702         Yemen  2020\n",
       "209703       Germany  2020\n",
       "209704   Afghanistan  2020\n",
       "209705  Burkina Faso  2020\n",
       "\n",
       "[209706 rows x 2 columns]"
      ]
     },
     "execution_count": 49,
     "metadata": {},
     "output_type": "execute_result"
    }
   ],
   "source": [
    "# select multiple columns by a list of column names\n",
    "# this is a pandas dataframe that is a subset of the original\n",
    "df[['country_txt', 'year']]"
   ]
  },
  {
   "cell_type": "code",
   "execution_count": 50,
   "id": "2dc55b42",
   "metadata": {},
   "outputs": [
    {
     "data": {
      "text/html": [
       "<div>\n",
       "<style scoped>\n",
       "    .dataframe tbody tr th:only-of-type {\n",
       "        vertical-align: middle;\n",
       "    }\n",
       "\n",
       "    .dataframe tbody tr th {\n",
       "        vertical-align: top;\n",
       "    }\n",
       "\n",
       "    .dataframe thead th {\n",
       "        text-align: right;\n",
       "    }\n",
       "</style>\n",
       "<table border=\"1\" class=\"dataframe\">\n",
       "  <thead>\n",
       "    <tr style=\"text-align: right;\">\n",
       "      <th></th>\n",
       "      <th>country</th>\n",
       "      <th>year</th>\n",
       "      <th>nkill</th>\n",
       "      <th>nperps</th>\n",
       "      <th>killed_per_attacker</th>\n",
       "    </tr>\n",
       "  </thead>\n",
       "  <tbody>\n",
       "    <tr>\n",
       "      <th>0</th>\n",
       "      <td>153</td>\n",
       "      <td>2005</td>\n",
       "      <td>1.0</td>\n",
       "      <td>NaN</td>\n",
       "      <td>NaN</td>\n",
       "    </tr>\n",
       "    <tr>\n",
       "      <th>1</th>\n",
       "      <td>95</td>\n",
       "      <td>2005</td>\n",
       "      <td>1.0</td>\n",
       "      <td>NaN</td>\n",
       "      <td>NaN</td>\n",
       "    </tr>\n",
       "    <tr>\n",
       "      <th>2</th>\n",
       "      <td>95</td>\n",
       "      <td>2007</td>\n",
       "      <td>15.0</td>\n",
       "      <td>50.0</td>\n",
       "      <td>0.300000</td>\n",
       "    </tr>\n",
       "    <tr>\n",
       "      <th>3</th>\n",
       "      <td>4</td>\n",
       "      <td>2010</td>\n",
       "      <td>1.0</td>\n",
       "      <td>NaN</td>\n",
       "      <td>NaN</td>\n",
       "    </tr>\n",
       "    <tr>\n",
       "      <th>4</th>\n",
       "      <td>92</td>\n",
       "      <td>2011</td>\n",
       "      <td>1.0</td>\n",
       "      <td>NaN</td>\n",
       "      <td>NaN</td>\n",
       "    </tr>\n",
       "    <tr>\n",
       "      <th>5</th>\n",
       "      <td>160</td>\n",
       "      <td>2011</td>\n",
       "      <td>1.0</td>\n",
       "      <td>30.0</td>\n",
       "      <td>0.033333</td>\n",
       "    </tr>\n",
       "    <tr>\n",
       "      <th>6</th>\n",
       "      <td>95</td>\n",
       "      <td>2011</td>\n",
       "      <td>1.0</td>\n",
       "      <td>NaN</td>\n",
       "      <td>NaN</td>\n",
       "    </tr>\n",
       "    <tr>\n",
       "      <th>7</th>\n",
       "      <td>155</td>\n",
       "      <td>2002</td>\n",
       "      <td>7.0</td>\n",
       "      <td>3.0</td>\n",
       "      <td>2.333333</td>\n",
       "    </tr>\n",
       "    <tr>\n",
       "      <th>8</th>\n",
       "      <td>92</td>\n",
       "      <td>2010</td>\n",
       "      <td>5.0</td>\n",
       "      <td>100.0</td>\n",
       "      <td>0.050000</td>\n",
       "    </tr>\n",
       "    <tr>\n",
       "      <th>9</th>\n",
       "      <td>153</td>\n",
       "      <td>2011</td>\n",
       "      <td>4.0</td>\n",
       "      <td>NaN</td>\n",
       "      <td>NaN</td>\n",
       "    </tr>\n",
       "    <tr>\n",
       "      <th>10</th>\n",
       "      <td>4</td>\n",
       "      <td>2011</td>\n",
       "      <td>1.0</td>\n",
       "      <td>NaN</td>\n",
       "      <td>NaN</td>\n",
       "    </tr>\n",
       "    <tr>\n",
       "      <th>11</th>\n",
       "      <td>153</td>\n",
       "      <td>2011</td>\n",
       "      <td>2.0</td>\n",
       "      <td>NaN</td>\n",
       "      <td>NaN</td>\n",
       "    </tr>\n",
       "    <tr>\n",
       "      <th>12</th>\n",
       "      <td>186</td>\n",
       "      <td>2001</td>\n",
       "      <td>12.0</td>\n",
       "      <td>60.0</td>\n",
       "      <td>0.200000</td>\n",
       "    </tr>\n",
       "    <tr>\n",
       "      <th>13</th>\n",
       "      <td>4</td>\n",
       "      <td>2006</td>\n",
       "      <td>6.0</td>\n",
       "      <td>NaN</td>\n",
       "      <td>NaN</td>\n",
       "    </tr>\n",
       "    <tr>\n",
       "      <th>14</th>\n",
       "      <td>155</td>\n",
       "      <td>2007</td>\n",
       "      <td>0.0</td>\n",
       "      <td>NaN</td>\n",
       "      <td>NaN</td>\n",
       "    </tr>\n",
       "  </tbody>\n",
       "</table>\n",
       "</div>"
      ],
      "text/plain": [
       "    country  year  nkill  nperps  killed_per_attacker\n",
       "0       153  2005    1.0     NaN                  NaN\n",
       "1        95  2005    1.0     NaN                  NaN\n",
       "2        95  2007   15.0    50.0             0.300000\n",
       "3         4  2010    1.0     NaN                  NaN\n",
       "4        92  2011    1.0     NaN                  NaN\n",
       "5       160  2011    1.0    30.0             0.033333\n",
       "6        95  2011    1.0     NaN                  NaN\n",
       "7       155  2002    7.0     3.0             2.333333\n",
       "8        92  2010    5.0   100.0             0.050000\n",
       "9       153  2011    4.0     NaN                  NaN\n",
       "10        4  2011    1.0     NaN                  NaN\n",
       "11      153  2011    2.0     NaN                  NaN\n",
       "12      186  2001   12.0    60.0             0.200000\n",
       "13        4  2006    6.0     NaN                  NaN\n",
       "14      155  2007    0.0     NaN                  NaN"
      ]
     },
     "execution_count": 50,
     "metadata": {},
     "output_type": "execute_result"
    }
   ],
   "source": [
    "# create a new column by assigning df['new_col'] to some values\n",
    "# people killed every perpetrator \n",
    "df['killed_per_attacker'] = df['nkill'] / df['nperps']\n",
    "\n",
    "# inspect the results\n",
    "df[['country', 'year', 'nkill', 'nperps', 'killed_per_attacker']].head(15)"
   ]
  },
  {
   "cell_type": "markdown",
   "id": "3cf90d25",
   "metadata": {},
   "source": [
    "#### Select row(s) by label"
   ]
  },
  {
   "cell_type": "code",
   "execution_count": 51,
   "id": "6ecc8217",
   "metadata": {},
   "outputs": [
    {
     "data": {
      "text/plain": [
       "eventid                200505000000\n",
       "year                           2005\n",
       "month                             5\n",
       "day                              28\n",
       "extended                          1\n",
       "                           ...     \n",
       "INT_IDEO                        NaN\n",
       "INT_MISC                        0.0\n",
       "INT_ANY                         NaN\n",
       "related                         NaN\n",
       "killed_per_attacker             NaN\n",
       "Name: 0, Length: 88, dtype: object"
      ]
     },
     "execution_count": 51,
     "metadata": {},
     "output_type": "execute_result"
    }
   ],
   "source": [
    "# use .loc to select by row label\n",
    "# returns the row as a series whose index is the dataframe column names\n",
    "df.loc[0]"
   ]
  },
  {
   "cell_type": "code",
   "execution_count": 52,
   "id": "676941ed",
   "metadata": {},
   "outputs": [
    {
     "data": {
      "text/plain": [
       "'Taliban'"
      ]
     },
     "execution_count": 52,
     "metadata": {},
     "output_type": "execute_result"
    }
   ],
   "source": [
    "# use .loc to select single value by row label, column name\n",
    "df.loc[15, 'gname'] #group name"
   ]
  },
  {
   "cell_type": "code",
   "execution_count": 53,
   "id": "cbf95d5b",
   "metadata": {},
   "outputs": [
    {
     "data": {
      "text/html": [
       "<div>\n",
       "<style scoped>\n",
       "    .dataframe tbody tr th:only-of-type {\n",
       "        vertical-align: middle;\n",
       "    }\n",
       "\n",
       "    .dataframe tbody tr th {\n",
       "        vertical-align: top;\n",
       "    }\n",
       "\n",
       "    .dataframe thead th {\n",
       "        text-align: right;\n",
       "    }\n",
       "</style>\n",
       "<table border=\"1\" class=\"dataframe\">\n",
       "  <thead>\n",
       "    <tr style=\"text-align: right;\">\n",
       "      <th></th>\n",
       "      <th>eventid</th>\n",
       "      <th>year</th>\n",
       "      <th>month</th>\n",
       "      <th>day</th>\n",
       "      <th>extended</th>\n",
       "      <th>country</th>\n",
       "      <th>country_txt</th>\n",
       "      <th>region</th>\n",
       "      <th>region_txt</th>\n",
       "      <th>city</th>\n",
       "      <th>...</th>\n",
       "      <th>hostkidoutcome</th>\n",
       "      <th>hostkidoutcome_txt</th>\n",
       "      <th>nreleased</th>\n",
       "      <th>dbsource</th>\n",
       "      <th>INT_LOG</th>\n",
       "      <th>INT_IDEO</th>\n",
       "      <th>INT_MISC</th>\n",
       "      <th>INT_ANY</th>\n",
       "      <th>related</th>\n",
       "      <th>killed_per_attacker</th>\n",
       "    </tr>\n",
       "  </thead>\n",
       "  <tbody>\n",
       "    <tr>\n",
       "      <th>5</th>\n",
       "      <td>201101000000</td>\n",
       "      <td>2011</td>\n",
       "      <td>1</td>\n",
       "      <td>8</td>\n",
       "      <td>0</td>\n",
       "      <td>160</td>\n",
       "      <td>Philippines</td>\n",
       "      <td>5</td>\n",
       "      <td>Southeast Asia</td>\n",
       "      <td>Datu Danwata</td>\n",
       "      <td>...</td>\n",
       "      <td>2.0</td>\n",
       "      <td>Hostage(s) released by perpetrators</td>\n",
       "      <td>1.0</td>\n",
       "      <td>ISVG</td>\n",
       "      <td>0.0</td>\n",
       "      <td>0.0</td>\n",
       "      <td>0.0</td>\n",
       "      <td>0.0</td>\n",
       "      <td>NaN</td>\n",
       "      <td>0.033333</td>\n",
       "    </tr>\n",
       "    <tr>\n",
       "      <th>6</th>\n",
       "      <td>201104000000</td>\n",
       "      <td>2011</td>\n",
       "      <td>4</td>\n",
       "      <td>11</td>\n",
       "      <td>1</td>\n",
       "      <td>95</td>\n",
       "      <td>Iraq</td>\n",
       "      <td>10</td>\n",
       "      <td>Middle East &amp; North Africa</td>\n",
       "      <td>Hawijah</td>\n",
       "      <td>...</td>\n",
       "      <td>4.0</td>\n",
       "      <td>Hostage(s) killed (not during rescue attempt)</td>\n",
       "      <td>0.0</td>\n",
       "      <td>ISVG</td>\n",
       "      <td>NaN</td>\n",
       "      <td>NaN</td>\n",
       "      <td>0.0</td>\n",
       "      <td>NaN</td>\n",
       "      <td>NaN</td>\n",
       "      <td>NaN</td>\n",
       "    </tr>\n",
       "    <tr>\n",
       "      <th>7</th>\n",
       "      <td>200207000000</td>\n",
       "      <td>2002</td>\n",
       "      <td>7</td>\n",
       "      <td>16</td>\n",
       "      <td>0</td>\n",
       "      <td>155</td>\n",
       "      <td>West Bank and Gaza Strip</td>\n",
       "      <td>10</td>\n",
       "      <td>Middle East &amp; North Africa</td>\n",
       "      <td>Emanuel</td>\n",
       "      <td>...</td>\n",
       "      <td>NaN</td>\n",
       "      <td>NaN</td>\n",
       "      <td>NaN</td>\n",
       "      <td>CETIS</td>\n",
       "      <td>0.0</td>\n",
       "      <td>0.0</td>\n",
       "      <td>0.0</td>\n",
       "      <td>0.0</td>\n",
       "      <td>NaN</td>\n",
       "      <td>2.333333</td>\n",
       "    </tr>\n",
       "  </tbody>\n",
       "</table>\n",
       "<p>3 rows × 88 columns</p>\n",
       "</div>"
      ],
      "text/plain": [
       "        eventid  year  month  day  extended  country  \\\n",
       "5  201101000000  2011      1    8         0      160   \n",
       "6  201104000000  2011      4   11         1       95   \n",
       "7  200207000000  2002      7   16         0      155   \n",
       "\n",
       "                country_txt  region                  region_txt          city  \\\n",
       "5               Philippines       5              Southeast Asia  Datu Danwata   \n",
       "6                      Iraq      10  Middle East & North Africa       Hawijah   \n",
       "7  West Bank and Gaza Strip      10  Middle East & North Africa       Emanuel   \n",
       "\n",
       "   ...  hostkidoutcome                             hostkidoutcome_txt  \\\n",
       "5  ...             2.0            Hostage(s) released by perpetrators   \n",
       "6  ...             4.0  Hostage(s) killed (not during rescue attempt)   \n",
       "7  ...             NaN                                            NaN   \n",
       "\n",
       "   nreleased dbsource  INT_LOG  INT_IDEO  INT_MISC  INT_ANY  related  \\\n",
       "5        1.0     ISVG      0.0       0.0       0.0      0.0      NaN   \n",
       "6        0.0     ISVG      NaN       NaN       0.0      NaN      NaN   \n",
       "7        NaN    CETIS      0.0       0.0       0.0      0.0      NaN   \n",
       "\n",
       "  killed_per_attacker  \n",
       "5            0.033333  \n",
       "6                 NaN  \n",
       "7            2.333333  \n",
       "\n",
       "[3 rows x 88 columns]"
      ]
     },
     "execution_count": 53,
     "metadata": {},
     "output_type": "execute_result"
    }
   ],
   "source": [
    "# slice of rows from label 5 to label 7, inclusive\n",
    "# this returns a pandas dataframe\n",
    "df.loc[5:7]"
   ]
  },
  {
   "cell_type": "code",
   "execution_count": 54,
   "id": "7479b82a",
   "metadata": {},
   "outputs": [
    {
     "data": {
      "text/html": [
       "<div>\n",
       "<style scoped>\n",
       "    .dataframe tbody tr th:only-of-type {\n",
       "        vertical-align: middle;\n",
       "    }\n",
       "\n",
       "    .dataframe tbody tr th {\n",
       "        vertical-align: top;\n",
       "    }\n",
       "\n",
       "    .dataframe thead th {\n",
       "        text-align: right;\n",
       "    }\n",
       "</style>\n",
       "<table border=\"1\" class=\"dataframe\">\n",
       "  <thead>\n",
       "    <tr style=\"text-align: right;\">\n",
       "      <th></th>\n",
       "      <th>country_txt</th>\n",
       "      <th>region</th>\n",
       "      <th>region_txt</th>\n",
       "      <th>city</th>\n",
       "    </tr>\n",
       "  </thead>\n",
       "  <tbody>\n",
       "    <tr>\n",
       "      <th>17</th>\n",
       "      <td>India</td>\n",
       "      <td>6</td>\n",
       "      <td>South Asia</td>\n",
       "      <td>Mumbai</td>\n",
       "    </tr>\n",
       "    <tr>\n",
       "      <th>18</th>\n",
       "      <td>India</td>\n",
       "      <td>6</td>\n",
       "      <td>South Asia</td>\n",
       "      <td>Mumbai</td>\n",
       "    </tr>\n",
       "    <tr>\n",
       "      <th>19</th>\n",
       "      <td>Afghanistan</td>\n",
       "      <td>6</td>\n",
       "      <td>South Asia</td>\n",
       "      <td>Khost</td>\n",
       "    </tr>\n",
       "    <tr>\n",
       "      <th>20</th>\n",
       "      <td>India</td>\n",
       "      <td>6</td>\n",
       "      <td>South Asia</td>\n",
       "      <td>Unknown</td>\n",
       "    </tr>\n",
       "    <tr>\n",
       "      <th>21</th>\n",
       "      <td>Pakistan</td>\n",
       "      <td>6</td>\n",
       "      <td>South Asia</td>\n",
       "      <td>Lahore</td>\n",
       "    </tr>\n",
       "    <tr>\n",
       "      <th>22</th>\n",
       "      <td>Pakistan</td>\n",
       "      <td>6</td>\n",
       "      <td>South Asia</td>\n",
       "      <td>Lahore</td>\n",
       "    </tr>\n",
       "    <tr>\n",
       "      <th>23</th>\n",
       "      <td>Pakistan</td>\n",
       "      <td>6</td>\n",
       "      <td>South Asia</td>\n",
       "      <td>Mullazai</td>\n",
       "    </tr>\n",
       "    <tr>\n",
       "      <th>24</th>\n",
       "      <td>Colombia</td>\n",
       "      <td>3</td>\n",
       "      <td>South America</td>\n",
       "      <td>El Tambo</td>\n",
       "    </tr>\n",
       "    <tr>\n",
       "      <th>25</th>\n",
       "      <td>Nigeria</td>\n",
       "      <td>11</td>\n",
       "      <td>Sub-Saharan Africa</td>\n",
       "      <td>Unknown</td>\n",
       "    </tr>\n",
       "    <tr>\n",
       "      <th>26</th>\n",
       "      <td>Pakistan</td>\n",
       "      <td>6</td>\n",
       "      <td>South Asia</td>\n",
       "      <td>Quetta</td>\n",
       "    </tr>\n",
       "    <tr>\n",
       "      <th>27</th>\n",
       "      <td>Kenya</td>\n",
       "      <td>11</td>\n",
       "      <td>Sub-Saharan Africa</td>\n",
       "      <td>Nairobi</td>\n",
       "    </tr>\n",
       "  </tbody>\n",
       "</table>\n",
       "</div>"
      ],
      "text/plain": [
       "    country_txt  region          region_txt      city\n",
       "17        India       6          South Asia    Mumbai\n",
       "18        India       6          South Asia    Mumbai\n",
       "19  Afghanistan       6          South Asia     Khost\n",
       "20        India       6          South Asia   Unknown\n",
       "21     Pakistan       6          South Asia    Lahore\n",
       "22     Pakistan       6          South Asia    Lahore\n",
       "23     Pakistan       6          South Asia  Mullazai\n",
       "24     Colombia       3       South America  El Tambo\n",
       "25      Nigeria      11  Sub-Saharan Africa   Unknown\n",
       "26     Pakistan       6          South Asia    Quetta\n",
       "27        Kenya      11  Sub-Saharan Africa   Nairobi"
      ]
     },
     "execution_count": 54,
     "metadata": {},
     "output_type": "execute_result"
    }
   ],
   "source": [
    "# slice of rows from label 17 to label 27, inclusive\n",
    "# slice of columns from country_txt to city, inclusive\n",
    "df.loc[17:27, 'country_txt':'city']"
   ]
  },
  {
   "cell_type": "code",
   "execution_count": 55,
   "id": "1fd9f4a5",
   "metadata": {},
   "outputs": [
    {
     "data": {
      "text/html": [
       "<div>\n",
       "<style scoped>\n",
       "    .dataframe tbody tr th:only-of-type {\n",
       "        vertical-align: middle;\n",
       "    }\n",
       "\n",
       "    .dataframe tbody tr th {\n",
       "        vertical-align: top;\n",
       "    }\n",
       "\n",
       "    .dataframe thead th {\n",
       "        text-align: right;\n",
       "    }\n",
       "</style>\n",
       "<table border=\"1\" class=\"dataframe\">\n",
       "  <thead>\n",
       "    <tr style=\"text-align: right;\">\n",
       "      <th></th>\n",
       "      <th>country</th>\n",
       "      <th>gname</th>\n",
       "    </tr>\n",
       "  </thead>\n",
       "  <tbody>\n",
       "    <tr>\n",
       "      <th>1</th>\n",
       "      <td>95</td>\n",
       "      <td>Ansar al-Sunna</td>\n",
       "    </tr>\n",
       "    <tr>\n",
       "      <th>350</th>\n",
       "      <td>147</td>\n",
       "      <td>Boko Haram</td>\n",
       "    </tr>\n",
       "  </tbody>\n",
       "</table>\n",
       "</div>"
      ],
      "text/plain": [
       "     country           gname\n",
       "1         95  Ansar al-Sunna\n",
       "350      147      Boko Haram"
      ]
     },
     "execution_count": 55,
     "metadata": {},
     "output_type": "execute_result"
    }
   ],
   "source": [
    "# subset of rows from with labels in list\n",
    "# subset of columns with names in list\n",
    "df.loc[[1, 350], ['country', 'gname']]"
   ]
  },
  {
   "cell_type": "code",
   "execution_count": 56,
   "id": "7e31cb9f",
   "metadata": {},
   "outputs": [
    {
     "data": {
      "text/plain": [
       "False"
      ]
     },
     "execution_count": 56,
     "metadata": {},
     "output_type": "execute_result"
    }
   ],
   "source": [
    "# you can use a column of identifiers as the index (indices do not *need* to be unique)\n",
    "df_gname = df.set_index('gname')\n",
    "df_gname.index.is_unique"
   ]
  },
  {
   "cell_type": "code",
   "execution_count": 57,
   "id": "f3354864",
   "metadata": {},
   "outputs": [
    {
     "data": {
      "text/html": [
       "<div>\n",
       "<style scoped>\n",
       "    .dataframe tbody tr th:only-of-type {\n",
       "        vertical-align: middle;\n",
       "    }\n",
       "\n",
       "    .dataframe tbody tr th {\n",
       "        vertical-align: top;\n",
       "    }\n",
       "\n",
       "    .dataframe thead th {\n",
       "        text-align: right;\n",
       "    }\n",
       "</style>\n",
       "<table border=\"1\" class=\"dataframe\">\n",
       "  <thead>\n",
       "    <tr style=\"text-align: right;\">\n",
       "      <th></th>\n",
       "      <th>eventid</th>\n",
       "      <th>year</th>\n",
       "      <th>month</th>\n",
       "      <th>day</th>\n",
       "      <th>extended</th>\n",
       "      <th>country</th>\n",
       "      <th>country_txt</th>\n",
       "      <th>region</th>\n",
       "      <th>region_txt</th>\n",
       "      <th>city</th>\n",
       "      <th>...</th>\n",
       "      <th>hostkidoutcome</th>\n",
       "      <th>hostkidoutcome_txt</th>\n",
       "      <th>nreleased</th>\n",
       "      <th>dbsource</th>\n",
       "      <th>INT_LOG</th>\n",
       "      <th>INT_IDEO</th>\n",
       "      <th>INT_MISC</th>\n",
       "      <th>INT_ANY</th>\n",
       "      <th>related</th>\n",
       "      <th>killed_per_attacker</th>\n",
       "    </tr>\n",
       "    <tr>\n",
       "      <th>gname</th>\n",
       "      <th></th>\n",
       "      <th></th>\n",
       "      <th></th>\n",
       "      <th></th>\n",
       "      <th></th>\n",
       "      <th></th>\n",
       "      <th></th>\n",
       "      <th></th>\n",
       "      <th></th>\n",
       "      <th></th>\n",
       "      <th></th>\n",
       "      <th></th>\n",
       "      <th></th>\n",
       "      <th></th>\n",
       "      <th></th>\n",
       "      <th></th>\n",
       "      <th></th>\n",
       "      <th></th>\n",
       "      <th></th>\n",
       "      <th></th>\n",
       "      <th></th>\n",
       "    </tr>\n",
       "  </thead>\n",
       "  <tbody>\n",
       "    <tr>\n",
       "      <th>Unknown</th>\n",
       "      <td>200505000000</td>\n",
       "      <td>2005</td>\n",
       "      <td>5</td>\n",
       "      <td>28</td>\n",
       "      <td>1</td>\n",
       "      <td>153</td>\n",
       "      <td>Pakistan</td>\n",
       "      <td>6</td>\n",
       "      <td>South Asia</td>\n",
       "      <td>Karachi</td>\n",
       "      <td>...</td>\n",
       "      <td>4.0</td>\n",
       "      <td>Hostage(s) killed (not during rescue attempt)</td>\n",
       "      <td>0.0</td>\n",
       "      <td>CETIS</td>\n",
       "      <td>NaN</td>\n",
       "      <td>NaN</td>\n",
       "      <td>0.0</td>\n",
       "      <td>NaN</td>\n",
       "      <td>NaN</td>\n",
       "      <td>NaN</td>\n",
       "    </tr>\n",
       "    <tr>\n",
       "      <th>Ansar al-Sunna</th>\n",
       "      <td>200505000000</td>\n",
       "      <td>2005</td>\n",
       "      <td>5</td>\n",
       "      <td>29</td>\n",
       "      <td>1</td>\n",
       "      <td>95</td>\n",
       "      <td>Iraq</td>\n",
       "      <td>10</td>\n",
       "      <td>Middle East &amp; North Africa</td>\n",
       "      <td>Kirkuk</td>\n",
       "      <td>...</td>\n",
       "      <td>4.0</td>\n",
       "      <td>Hostage(s) killed (not during rescue attempt)</td>\n",
       "      <td>0.0</td>\n",
       "      <td>CETIS</td>\n",
       "      <td>0.0</td>\n",
       "      <td>0.0</td>\n",
       "      <td>0.0</td>\n",
       "      <td>0.0</td>\n",
       "      <td>NaN</td>\n",
       "      <td>NaN</td>\n",
       "    </tr>\n",
       "    <tr>\n",
       "      <th>Al-Qaida in Iraq</th>\n",
       "      <td>200706000000</td>\n",
       "      <td>2007</td>\n",
       "      <td>6</td>\n",
       "      <td>8</td>\n",
       "      <td>1</td>\n",
       "      <td>95</td>\n",
       "      <td>Iraq</td>\n",
       "      <td>10</td>\n",
       "      <td>Middle East &amp; North Africa</td>\n",
       "      <td>Kan'an</td>\n",
       "      <td>...</td>\n",
       "      <td>6.0</td>\n",
       "      <td>Combination</td>\n",
       "      <td>0.0</td>\n",
       "      <td>CETIS</td>\n",
       "      <td>0.0</td>\n",
       "      <td>0.0</td>\n",
       "      <td>0.0</td>\n",
       "      <td>0.0</td>\n",
       "      <td>NaN</td>\n",
       "      <td>0.3</td>\n",
       "    </tr>\n",
       "  </tbody>\n",
       "</table>\n",
       "<p>3 rows × 87 columns</p>\n",
       "</div>"
      ],
      "text/plain": [
       "                       eventid  year  month  day  extended  country  \\\n",
       "gname                                                                 \n",
       "Unknown           200505000000  2005      5   28         1      153   \n",
       "Ansar al-Sunna    200505000000  2005      5   29         1       95   \n",
       "Al-Qaida in Iraq  200706000000  2007      6    8         1       95   \n",
       "\n",
       "                 country_txt  region                  region_txt     city  \\\n",
       "gname                                                                       \n",
       "Unknown             Pakistan       6                  South Asia  Karachi   \n",
       "Ansar al-Sunna          Iraq      10  Middle East & North Africa   Kirkuk   \n",
       "Al-Qaida in Iraq        Iraq      10  Middle East & North Africa   Kan'an   \n",
       "\n",
       "                  ...  hostkidoutcome  \\\n",
       "gname             ...                   \n",
       "Unknown           ...             4.0   \n",
       "Ansar al-Sunna    ...             4.0   \n",
       "Al-Qaida in Iraq  ...             6.0   \n",
       "\n",
       "                                             hostkidoutcome_txt  nreleased  \\\n",
       "gname                                                                        \n",
       "Unknown           Hostage(s) killed (not during rescue attempt)        0.0   \n",
       "Ansar al-Sunna    Hostage(s) killed (not during rescue attempt)        0.0   \n",
       "Al-Qaida in Iraq                                    Combination        0.0   \n",
       "\n",
       "                 dbsource  INT_LOG  INT_IDEO  INT_MISC  INT_ANY  related  \\\n",
       "gname                                                                      \n",
       "Unknown             CETIS      NaN       NaN       0.0      NaN      NaN   \n",
       "Ansar al-Sunna      CETIS      0.0       0.0       0.0      0.0      NaN   \n",
       "Al-Qaida in Iraq    CETIS      0.0       0.0       0.0      0.0      NaN   \n",
       "\n",
       "                 killed_per_attacker  \n",
       "gname                                 \n",
       "Unknown                          NaN  \n",
       "Ansar al-Sunna                   NaN  \n",
       "Al-Qaida in Iraq                 0.3  \n",
       "\n",
       "[3 rows x 87 columns]"
      ]
     },
     "execution_count": 57,
     "metadata": {},
     "output_type": "execute_result"
    }
   ],
   "source": [
    "df_gname.head(3)"
   ]
  },
  {
   "cell_type": "code",
   "execution_count": 58,
   "id": "9c4ea942",
   "metadata": {},
   "outputs": [
    {
     "name": "stdout",
     "output_type": "stream",
     "text": [
      "label not found\n"
     ]
    }
   ],
   "source": [
    "# .loc works by label, not by position in the dataframe\n",
    "try:\n",
    "    df_gname.loc[0]\n",
    "except KeyError as e:\n",
    "    print('label not found')"
   ]
  },
  {
   "cell_type": "code",
   "execution_count": 59,
   "id": "6237b3f6",
   "metadata": {},
   "outputs": [
    {
     "data": {
      "text/html": [
       "<div>\n",
       "<style scoped>\n",
       "    .dataframe tbody tr th:only-of-type {\n",
       "        vertical-align: middle;\n",
       "    }\n",
       "\n",
       "    .dataframe tbody tr th {\n",
       "        vertical-align: top;\n",
       "    }\n",
       "\n",
       "    .dataframe thead th {\n",
       "        text-align: right;\n",
       "    }\n",
       "</style>\n",
       "<table border=\"1\" class=\"dataframe\">\n",
       "  <thead>\n",
       "    <tr style=\"text-align: right;\">\n",
       "      <th></th>\n",
       "      <th>eventid</th>\n",
       "      <th>year</th>\n",
       "      <th>month</th>\n",
       "      <th>day</th>\n",
       "      <th>extended</th>\n",
       "      <th>country</th>\n",
       "      <th>country_txt</th>\n",
       "      <th>region</th>\n",
       "      <th>region_txt</th>\n",
       "      <th>city</th>\n",
       "      <th>...</th>\n",
       "      <th>hostkidoutcome</th>\n",
       "      <th>hostkidoutcome_txt</th>\n",
       "      <th>nreleased</th>\n",
       "      <th>dbsource</th>\n",
       "      <th>INT_LOG</th>\n",
       "      <th>INT_IDEO</th>\n",
       "      <th>INT_MISC</th>\n",
       "      <th>INT_ANY</th>\n",
       "      <th>related</th>\n",
       "      <th>killed_per_attacker</th>\n",
       "    </tr>\n",
       "    <tr>\n",
       "      <th>gname</th>\n",
       "      <th></th>\n",
       "      <th></th>\n",
       "      <th></th>\n",
       "      <th></th>\n",
       "      <th></th>\n",
       "      <th></th>\n",
       "      <th></th>\n",
       "      <th></th>\n",
       "      <th></th>\n",
       "      <th></th>\n",
       "      <th></th>\n",
       "      <th></th>\n",
       "      <th></th>\n",
       "      <th></th>\n",
       "      <th></th>\n",
       "      <th></th>\n",
       "      <th></th>\n",
       "      <th></th>\n",
       "      <th></th>\n",
       "      <th></th>\n",
       "      <th></th>\n",
       "    </tr>\n",
       "  </thead>\n",
       "  <tbody>\n",
       "    <tr>\n",
       "      <th>Taliban</th>\n",
       "      <td>201006000000</td>\n",
       "      <td>2010</td>\n",
       "      <td>6</td>\n",
       "      <td>15</td>\n",
       "      <td>1</td>\n",
       "      <td>4</td>\n",
       "      <td>Afghanistan</td>\n",
       "      <td>6</td>\n",
       "      <td>South Asia</td>\n",
       "      <td>Saydabad</td>\n",
       "      <td>...</td>\n",
       "      <td>4.0</td>\n",
       "      <td>Hostage(s) killed (not during rescue attempt)</td>\n",
       "      <td>NaN</td>\n",
       "      <td>ISVG</td>\n",
       "      <td>0.0</td>\n",
       "      <td>0.0</td>\n",
       "      <td>0.0</td>\n",
       "      <td>0.0</td>\n",
       "      <td>NaN</td>\n",
       "      <td>NaN</td>\n",
       "    </tr>\n",
       "    <tr>\n",
       "      <th>Taliban</th>\n",
       "      <td>200608000000</td>\n",
       "      <td>2006</td>\n",
       "      <td>8</td>\n",
       "      <td>26</td>\n",
       "      <td>0</td>\n",
       "      <td>4</td>\n",
       "      <td>Afghanistan</td>\n",
       "      <td>6</td>\n",
       "      <td>South Asia</td>\n",
       "      <td>Muqur district</td>\n",
       "      <td>...</td>\n",
       "      <td>7.0</td>\n",
       "      <td>Unknown</td>\n",
       "      <td>NaN</td>\n",
       "      <td>CETIS</td>\n",
       "      <td>0.0</td>\n",
       "      <td>0.0</td>\n",
       "      <td>0.0</td>\n",
       "      <td>0.0</td>\n",
       "      <td>NaN</td>\n",
       "      <td>NaN</td>\n",
       "    </tr>\n",
       "    <tr>\n",
       "      <th>Taliban</th>\n",
       "      <td>200804000000</td>\n",
       "      <td>2008</td>\n",
       "      <td>4</td>\n",
       "      <td>27</td>\n",
       "      <td>0</td>\n",
       "      <td>4</td>\n",
       "      <td>Afghanistan</td>\n",
       "      <td>6</td>\n",
       "      <td>South Asia</td>\n",
       "      <td>Muhmand Dara district</td>\n",
       "      <td>...</td>\n",
       "      <td>NaN</td>\n",
       "      <td>NaN</td>\n",
       "      <td>NaN</td>\n",
       "      <td>ISVG</td>\n",
       "      <td>0.0</td>\n",
       "      <td>0.0</td>\n",
       "      <td>0.0</td>\n",
       "      <td>0.0</td>\n",
       "      <td>NaN</td>\n",
       "      <td>NaN</td>\n",
       "    </tr>\n",
       "    <tr>\n",
       "      <th>Taliban</th>\n",
       "      <td>200905000000</td>\n",
       "      <td>2009</td>\n",
       "      <td>5</td>\n",
       "      <td>12</td>\n",
       "      <td>0</td>\n",
       "      <td>4</td>\n",
       "      <td>Afghanistan</td>\n",
       "      <td>6</td>\n",
       "      <td>South Asia</td>\n",
       "      <td>Khost</td>\n",
       "      <td>...</td>\n",
       "      <td>5.0</td>\n",
       "      <td>Successful Rescue</td>\n",
       "      <td>20.0</td>\n",
       "      <td>ISVG</td>\n",
       "      <td>0.0</td>\n",
       "      <td>0.0</td>\n",
       "      <td>0.0</td>\n",
       "      <td>0.0</td>\n",
       "      <td>200905120009, 200905120021, 200905120022</td>\n",
       "      <td>0.3</td>\n",
       "    </tr>\n",
       "    <tr>\n",
       "      <th>Taliban</th>\n",
       "      <td>201403000000</td>\n",
       "      <td>2014</td>\n",
       "      <td>3</td>\n",
       "      <td>28</td>\n",
       "      <td>0</td>\n",
       "      <td>4</td>\n",
       "      <td>Afghanistan</td>\n",
       "      <td>6</td>\n",
       "      <td>South Asia</td>\n",
       "      <td>Kabul</td>\n",
       "      <td>...</td>\n",
       "      <td>5.0</td>\n",
       "      <td>Successful Rescue</td>\n",
       "      <td>5.0</td>\n",
       "      <td>START Primary Collection</td>\n",
       "      <td>0.0</td>\n",
       "      <td>1.0</td>\n",
       "      <td>1.0</td>\n",
       "      <td>1.0</td>\n",
       "      <td>NaN</td>\n",
       "      <td>1.2</td>\n",
       "    </tr>\n",
       "  </tbody>\n",
       "</table>\n",
       "<p>5 rows × 87 columns</p>\n",
       "</div>"
      ],
      "text/plain": [
       "              eventid  year  month  day  extended  country  country_txt  \\\n",
       "gname                                                                     \n",
       "Taliban  201006000000  2010      6   15         1        4  Afghanistan   \n",
       "Taliban  200608000000  2006      8   26         0        4  Afghanistan   \n",
       "Taliban  200804000000  2008      4   27         0        4  Afghanistan   \n",
       "Taliban  200905000000  2009      5   12         0        4  Afghanistan   \n",
       "Taliban  201403000000  2014      3   28         0        4  Afghanistan   \n",
       "\n",
       "         region  region_txt                   city  ...  hostkidoutcome  \\\n",
       "gname                                               ...                   \n",
       "Taliban       6  South Asia               Saydabad  ...             4.0   \n",
       "Taliban       6  South Asia         Muqur district  ...             7.0   \n",
       "Taliban       6  South Asia  Muhmand Dara district  ...             NaN   \n",
       "Taliban       6  South Asia                  Khost  ...             5.0   \n",
       "Taliban       6  South Asia                  Kabul  ...             5.0   \n",
       "\n",
       "                                    hostkidoutcome_txt  nreleased  \\\n",
       "gname                                                               \n",
       "Taliban  Hostage(s) killed (not during rescue attempt)        NaN   \n",
       "Taliban                                        Unknown        NaN   \n",
       "Taliban                                            NaN        NaN   \n",
       "Taliban                              Successful Rescue       20.0   \n",
       "Taliban                              Successful Rescue        5.0   \n",
       "\n",
       "                         dbsource  INT_LOG  INT_IDEO  INT_MISC  INT_ANY  \\\n",
       "gname                                                                     \n",
       "Taliban                      ISVG      0.0       0.0       0.0      0.0   \n",
       "Taliban                     CETIS      0.0       0.0       0.0      0.0   \n",
       "Taliban                      ISVG      0.0       0.0       0.0      0.0   \n",
       "Taliban                      ISVG      0.0       0.0       0.0      0.0   \n",
       "Taliban  START Primary Collection      0.0       1.0       1.0      1.0   \n",
       "\n",
       "                                          related killed_per_attacker  \n",
       "gname                                                                  \n",
       "Taliban                                       NaN                 NaN  \n",
       "Taliban                                       NaN                 NaN  \n",
       "Taliban                                       NaN                 NaN  \n",
       "Taliban  200905120009, 200905120021, 200905120022                 0.3  \n",
       "Taliban                                       NaN                 1.2  \n",
       "\n",
       "[5 rows x 87 columns]"
      ]
     },
     "execution_count": 59,
     "metadata": {},
     "output_type": "execute_result"
    }
   ],
   "source": [
    "# the index now contains gname values, so you have to use .loc accordingly to select by row label\n",
    "df_gname.loc['Taliban'].head()"
   ]
  },
  {
   "cell_type": "markdown",
   "id": "549d128f",
   "metadata": {},
   "source": [
    "#### Select by (integer) position - Independent from actual Index"
   ]
  },
  {
   "cell_type": "code",
   "execution_count": 60,
   "id": "15291fdc",
   "metadata": {},
   "outputs": [
    {
     "data": {
      "text/plain": [
       "eventid                200505000000\n",
       "year                           2005\n",
       "month                             5\n",
       "day                              28\n",
       "extended                          1\n",
       "                           ...     \n",
       "INT_IDEO                        NaN\n",
       "INT_MISC                        0.0\n",
       "INT_ANY                         NaN\n",
       "related                         NaN\n",
       "killed_per_attacker             NaN\n",
       "Name: 0, Length: 88, dtype: object"
      ]
     },
     "execution_count": 60,
     "metadata": {},
     "output_type": "execute_result"
    }
   ],
   "source": [
    "# get the row in the zero-th position in the dataframe\n",
    "df.iloc[0]"
   ]
  },
  {
   "cell_type": "code",
   "execution_count": 61,
   "id": "04e87da4",
   "metadata": {},
   "outputs": [
    {
     "data": {
      "text/html": [
       "<div>\n",
       "<style scoped>\n",
       "    .dataframe tbody tr th:only-of-type {\n",
       "        vertical-align: middle;\n",
       "    }\n",
       "\n",
       "    .dataframe tbody tr th {\n",
       "        vertical-align: top;\n",
       "    }\n",
       "\n",
       "    .dataframe thead th {\n",
       "        text-align: right;\n",
       "    }\n",
       "</style>\n",
       "<table border=\"1\" class=\"dataframe\">\n",
       "  <thead>\n",
       "    <tr style=\"text-align: right;\">\n",
       "      <th></th>\n",
       "      <th>eventid</th>\n",
       "      <th>year</th>\n",
       "      <th>month</th>\n",
       "      <th>day</th>\n",
       "      <th>extended</th>\n",
       "      <th>country</th>\n",
       "      <th>country_txt</th>\n",
       "      <th>region</th>\n",
       "      <th>region_txt</th>\n",
       "      <th>city</th>\n",
       "      <th>...</th>\n",
       "      <th>hostkidoutcome</th>\n",
       "      <th>hostkidoutcome_txt</th>\n",
       "      <th>nreleased</th>\n",
       "      <th>dbsource</th>\n",
       "      <th>INT_LOG</th>\n",
       "      <th>INT_IDEO</th>\n",
       "      <th>INT_MISC</th>\n",
       "      <th>INT_ANY</th>\n",
       "      <th>related</th>\n",
       "      <th>killed_per_attacker</th>\n",
       "    </tr>\n",
       "  </thead>\n",
       "  <tbody>\n",
       "    <tr>\n",
       "      <th>0</th>\n",
       "      <td>200505000000</td>\n",
       "      <td>2005</td>\n",
       "      <td>5</td>\n",
       "      <td>28</td>\n",
       "      <td>1</td>\n",
       "      <td>153</td>\n",
       "      <td>Pakistan</td>\n",
       "      <td>6</td>\n",
       "      <td>South Asia</td>\n",
       "      <td>Karachi</td>\n",
       "      <td>...</td>\n",
       "      <td>4.0</td>\n",
       "      <td>Hostage(s) killed (not during rescue attempt)</td>\n",
       "      <td>0.0</td>\n",
       "      <td>CETIS</td>\n",
       "      <td>NaN</td>\n",
       "      <td>NaN</td>\n",
       "      <td>0.0</td>\n",
       "      <td>NaN</td>\n",
       "      <td>NaN</td>\n",
       "      <td>NaN</td>\n",
       "    </tr>\n",
       "    <tr>\n",
       "      <th>1</th>\n",
       "      <td>200505000000</td>\n",
       "      <td>2005</td>\n",
       "      <td>5</td>\n",
       "      <td>29</td>\n",
       "      <td>1</td>\n",
       "      <td>95</td>\n",
       "      <td>Iraq</td>\n",
       "      <td>10</td>\n",
       "      <td>Middle East &amp; North Africa</td>\n",
       "      <td>Kirkuk</td>\n",
       "      <td>...</td>\n",
       "      <td>4.0</td>\n",
       "      <td>Hostage(s) killed (not during rescue attempt)</td>\n",
       "      <td>0.0</td>\n",
       "      <td>CETIS</td>\n",
       "      <td>0.0</td>\n",
       "      <td>0.0</td>\n",
       "      <td>0.0</td>\n",
       "      <td>0.0</td>\n",
       "      <td>NaN</td>\n",
       "      <td>NaN</td>\n",
       "    </tr>\n",
       "    <tr>\n",
       "      <th>2</th>\n",
       "      <td>200706000000</td>\n",
       "      <td>2007</td>\n",
       "      <td>6</td>\n",
       "      <td>8</td>\n",
       "      <td>1</td>\n",
       "      <td>95</td>\n",
       "      <td>Iraq</td>\n",
       "      <td>10</td>\n",
       "      <td>Middle East &amp; North Africa</td>\n",
       "      <td>Kan'an</td>\n",
       "      <td>...</td>\n",
       "      <td>6.0</td>\n",
       "      <td>Combination</td>\n",
       "      <td>0.0</td>\n",
       "      <td>CETIS</td>\n",
       "      <td>0.0</td>\n",
       "      <td>0.0</td>\n",
       "      <td>0.0</td>\n",
       "      <td>0.0</td>\n",
       "      <td>NaN</td>\n",
       "      <td>0.3</td>\n",
       "    </tr>\n",
       "  </tbody>\n",
       "</table>\n",
       "<p>3 rows × 88 columns</p>\n",
       "</div>"
      ],
      "text/plain": [
       "        eventid  year  month  day  extended  country country_txt  region  \\\n",
       "0  200505000000  2005      5   28         1      153    Pakistan       6   \n",
       "1  200505000000  2005      5   29         1       95        Iraq      10   \n",
       "2  200706000000  2007      6    8         1       95        Iraq      10   \n",
       "\n",
       "                   region_txt     city  ...  hostkidoutcome  \\\n",
       "0                  South Asia  Karachi  ...             4.0   \n",
       "1  Middle East & North Africa   Kirkuk  ...             4.0   \n",
       "2  Middle East & North Africa   Kan'an  ...             6.0   \n",
       "\n",
       "                              hostkidoutcome_txt  nreleased dbsource  INT_LOG  \\\n",
       "0  Hostage(s) killed (not during rescue attempt)        0.0    CETIS      NaN   \n",
       "1  Hostage(s) killed (not during rescue attempt)        0.0    CETIS      0.0   \n",
       "2                                    Combination        0.0    CETIS      0.0   \n",
       "\n",
       "   INT_IDEO  INT_MISC  INT_ANY  related killed_per_attacker  \n",
       "0       NaN       0.0      NaN      NaN                 NaN  \n",
       "1       0.0       0.0      0.0      NaN                 NaN  \n",
       "2       0.0       0.0      0.0      NaN                 0.3  \n",
       "\n",
       "[3 rows x 88 columns]"
      ]
     },
     "execution_count": 61,
     "metadata": {},
     "output_type": "execute_result"
    }
   ],
   "source": [
    "# you can slice as well\n",
    "# note, while .loc is inclusive, .iloc is not\n",
    "# get the rows from position 0 up to but not including position 3 (ie, rows 0, 1, and 2)\n",
    "df.iloc[0:3]"
   ]
  },
  {
   "cell_type": "code",
   "execution_count": 62,
   "id": "4477ef96",
   "metadata": {},
   "outputs": [
    {
     "data": {
      "text/plain": [
       "'Afghanistan'"
      ]
     },
     "execution_count": 62,
     "metadata": {},
     "output_type": "execute_result"
    }
   ],
   "source": [
    "# get the value from the row in position 3 and the column in position 2 (zero-indexed)\n",
    "df.iloc[3, 6] #country_txt"
   ]
  },
  {
   "cell_type": "markdown",
   "id": "8d276d17",
   "metadata": {},
   "source": [
    "#### Select/filter by value\n",
    "\n",
    "You can subset or filter a dataframe for based on the values in its rows/columns."
   ]
  },
  {
   "cell_type": "code",
   "execution_count": 63,
   "id": "6a8bb623",
   "metadata": {},
   "outputs": [
    {
     "data": {
      "text/html": [
       "<div>\n",
       "<style scoped>\n",
       "    .dataframe tbody tr th:only-of-type {\n",
       "        vertical-align: middle;\n",
       "    }\n",
       "\n",
       "    .dataframe tbody tr th {\n",
       "        vertical-align: top;\n",
       "    }\n",
       "\n",
       "    .dataframe thead th {\n",
       "        text-align: right;\n",
       "    }\n",
       "</style>\n",
       "<table border=\"1\" class=\"dataframe\">\n",
       "  <thead>\n",
       "    <tr style=\"text-align: right;\">\n",
       "      <th></th>\n",
       "      <th>eventid</th>\n",
       "      <th>year</th>\n",
       "      <th>month</th>\n",
       "      <th>day</th>\n",
       "      <th>extended</th>\n",
       "      <th>country</th>\n",
       "      <th>country_txt</th>\n",
       "      <th>region</th>\n",
       "      <th>region_txt</th>\n",
       "      <th>city</th>\n",
       "      <th>...</th>\n",
       "      <th>hostkidoutcome</th>\n",
       "      <th>hostkidoutcome_txt</th>\n",
       "      <th>nreleased</th>\n",
       "      <th>dbsource</th>\n",
       "      <th>INT_LOG</th>\n",
       "      <th>INT_IDEO</th>\n",
       "      <th>INT_MISC</th>\n",
       "      <th>INT_ANY</th>\n",
       "      <th>related</th>\n",
       "      <th>killed_per_attacker</th>\n",
       "    </tr>\n",
       "  </thead>\n",
       "  <tbody>\n",
       "    <tr>\n",
       "      <th>17</th>\n",
       "      <td>200811000000</td>\n",
       "      <td>2008</td>\n",
       "      <td>11</td>\n",
       "      <td>26</td>\n",
       "      <td>1</td>\n",
       "      <td>92</td>\n",
       "      <td>India</td>\n",
       "      <td>6</td>\n",
       "      <td>South Asia</td>\n",
       "      <td>Mumbai</td>\n",
       "      <td>...</td>\n",
       "      <td>6.0</td>\n",
       "      <td>Combination</td>\n",
       "      <td>NaN</td>\n",
       "      <td>ISVG</td>\n",
       "      <td>0.0</td>\n",
       "      <td>1.0</td>\n",
       "      <td>0.0</td>\n",
       "      <td>1.0</td>\n",
       "      <td>200811130010, 200811260001, 200811260002, 2008...</td>\n",
       "      <td>17.00</td>\n",
       "    </tr>\n",
       "    <tr>\n",
       "      <th>18</th>\n",
       "      <td>200811000000</td>\n",
       "      <td>2008</td>\n",
       "      <td>11</td>\n",
       "      <td>26</td>\n",
       "      <td>1</td>\n",
       "      <td>92</td>\n",
       "      <td>India</td>\n",
       "      <td>6</td>\n",
       "      <td>South Asia</td>\n",
       "      <td>Mumbai</td>\n",
       "      <td>...</td>\n",
       "      <td>6.0</td>\n",
       "      <td>Combination</td>\n",
       "      <td>NaN</td>\n",
       "      <td>ISVG</td>\n",
       "      <td>0.0</td>\n",
       "      <td>1.0</td>\n",
       "      <td>0.0</td>\n",
       "      <td>1.0</td>\n",
       "      <td>200811130010, 200811260001, 200811260002, 2008...</td>\n",
       "      <td>16.00</td>\n",
       "    </tr>\n",
       "    <tr>\n",
       "      <th>27</th>\n",
       "      <td>201309000000</td>\n",
       "      <td>2013</td>\n",
       "      <td>9</td>\n",
       "      <td>21</td>\n",
       "      <td>1</td>\n",
       "      <td>104</td>\n",
       "      <td>Kenya</td>\n",
       "      <td>11</td>\n",
       "      <td>Sub-Saharan Africa</td>\n",
       "      <td>Nairobi</td>\n",
       "      <td>...</td>\n",
       "      <td>6.0</td>\n",
       "      <td>Combination</td>\n",
       "      <td>NaN</td>\n",
       "      <td>START Primary Collection</td>\n",
       "      <td>1.0</td>\n",
       "      <td>1.0</td>\n",
       "      <td>0.0</td>\n",
       "      <td>1.0</td>\n",
       "      <td>NaN</td>\n",
       "      <td>NaN</td>\n",
       "    </tr>\n",
       "    <tr>\n",
       "      <th>38</th>\n",
       "      <td>201407000000</td>\n",
       "      <td>2014</td>\n",
       "      <td>7</td>\n",
       "      <td>17</td>\n",
       "      <td>1</td>\n",
       "      <td>200</td>\n",
       "      <td>Syria</td>\n",
       "      <td>10</td>\n",
       "      <td>Middle East &amp; North Africa</td>\n",
       "      <td>Palmyra district</td>\n",
       "      <td>...</td>\n",
       "      <td>6.0</td>\n",
       "      <td>Combination</td>\n",
       "      <td>NaN</td>\n",
       "      <td>START Primary Collection</td>\n",
       "      <td>0.0</td>\n",
       "      <td>1.0</td>\n",
       "      <td>0.0</td>\n",
       "      <td>1.0</td>\n",
       "      <td>NaN</td>\n",
       "      <td>NaN</td>\n",
       "    </tr>\n",
       "    <tr>\n",
       "      <th>39</th>\n",
       "      <td>201407000000</td>\n",
       "      <td>2014</td>\n",
       "      <td>7</td>\n",
       "      <td>24</td>\n",
       "      <td>0</td>\n",
       "      <td>200</td>\n",
       "      <td>Syria</td>\n",
       "      <td>10</td>\n",
       "      <td>Middle East &amp; North Africa</td>\n",
       "      <td>Raqqah</td>\n",
       "      <td>...</td>\n",
       "      <td>4.0</td>\n",
       "      <td>Hostage(s) killed (not during rescue attempt)</td>\n",
       "      <td>0.0</td>\n",
       "      <td>START Primary Collection</td>\n",
       "      <td>0.0</td>\n",
       "      <td>1.0</td>\n",
       "      <td>0.0</td>\n",
       "      <td>1.0</td>\n",
       "      <td>NaN</td>\n",
       "      <td>0.19</td>\n",
       "    </tr>\n",
       "  </tbody>\n",
       "</table>\n",
       "<p>5 rows × 88 columns</p>\n",
       "</div>"
      ],
      "text/plain": [
       "         eventid  year  month  day  extended  country country_txt  region  \\\n",
       "17  200811000000  2008     11   26         1       92       India       6   \n",
       "18  200811000000  2008     11   26         1       92       India       6   \n",
       "27  201309000000  2013      9   21         1      104       Kenya      11   \n",
       "38  201407000000  2014      7   17         1      200       Syria      10   \n",
       "39  201407000000  2014      7   24         0      200       Syria      10   \n",
       "\n",
       "                    region_txt              city  ...  hostkidoutcome  \\\n",
       "17                  South Asia            Mumbai  ...             6.0   \n",
       "18                  South Asia            Mumbai  ...             6.0   \n",
       "27          Sub-Saharan Africa           Nairobi  ...             6.0   \n",
       "38  Middle East & North Africa  Palmyra district  ...             6.0   \n",
       "39  Middle East & North Africa            Raqqah  ...             4.0   \n",
       "\n",
       "                               hostkidoutcome_txt  nreleased  \\\n",
       "17                                    Combination        NaN   \n",
       "18                                    Combination        NaN   \n",
       "27                                    Combination        NaN   \n",
       "38                                    Combination        NaN   \n",
       "39  Hostage(s) killed (not during rescue attempt)        0.0   \n",
       "\n",
       "                    dbsource  INT_LOG  INT_IDEO  INT_MISC  INT_ANY  \\\n",
       "17                      ISVG      0.0       1.0       0.0      1.0   \n",
       "18                      ISVG      0.0       1.0       0.0      1.0   \n",
       "27  START Primary Collection      1.0       1.0       0.0      1.0   \n",
       "38  START Primary Collection      0.0       1.0       0.0      1.0   \n",
       "39  START Primary Collection      0.0       1.0       0.0      1.0   \n",
       "\n",
       "                                              related killed_per_attacker  \n",
       "17  200811130010, 200811260001, 200811260002, 2008...               17.00  \n",
       "18  200811130010, 200811260001, 200811260002, 2008...               16.00  \n",
       "27                                                NaN                 NaN  \n",
       "38                                                NaN                 NaN  \n",
       "39                                                NaN                0.19  \n",
       "\n",
       "[5 rows x 88 columns]"
      ]
     },
     "execution_count": 63,
     "metadata": {},
     "output_type": "execute_result"
    }
   ],
   "source": [
    "# filter the dataframe by urban areas with more than 25 million residents\n",
    "df[df['nkill'] > 30].head()"
   ]
  },
  {
   "cell_type": "code",
   "execution_count": 64,
   "id": "c3fa4add",
   "metadata": {},
   "outputs": [
    {
     "data": {
      "text/html": [
       "<div>\n",
       "<style scoped>\n",
       "    .dataframe tbody tr th:only-of-type {\n",
       "        vertical-align: middle;\n",
       "    }\n",
       "\n",
       "    .dataframe tbody tr th {\n",
       "        vertical-align: top;\n",
       "    }\n",
       "\n",
       "    .dataframe thead th {\n",
       "        text-align: right;\n",
       "    }\n",
       "</style>\n",
       "<table border=\"1\" class=\"dataframe\">\n",
       "  <thead>\n",
       "    <tr style=\"text-align: right;\">\n",
       "      <th></th>\n",
       "      <th>country</th>\n",
       "      <th>nkill</th>\n",
       "      <th>nwound</th>\n",
       "    </tr>\n",
       "  </thead>\n",
       "  <tbody>\n",
       "    <tr>\n",
       "      <th>427</th>\n",
       "      <td>229</td>\n",
       "      <td>339.0</td>\n",
       "      <td>28.0</td>\n",
       "    </tr>\n",
       "    <tr>\n",
       "      <th>1000</th>\n",
       "      <td>217</td>\n",
       "      <td>1385.0</td>\n",
       "      <td>10878.0</td>\n",
       "    </tr>\n",
       "    <tr>\n",
       "      <th>1001</th>\n",
       "      <td>217</td>\n",
       "      <td>1385.0</td>\n",
       "      <td>10878.0</td>\n",
       "    </tr>\n",
       "    <tr>\n",
       "      <th>2780</th>\n",
       "      <td>1004</td>\n",
       "      <td>287.0</td>\n",
       "      <td>400.0</td>\n",
       "    </tr>\n",
       "    <tr>\n",
       "      <th>3787</th>\n",
       "      <td>4</td>\n",
       "      <td>266.0</td>\n",
       "      <td>64.0</td>\n",
       "    </tr>\n",
       "  </tbody>\n",
       "</table>\n",
       "</div>"
      ],
      "text/plain": [
       "      country   nkill   nwound\n",
       "427       229   339.0     28.0\n",
       "1000      217  1385.0  10878.0\n",
       "1001      217  1385.0  10878.0\n",
       "2780     1004   287.0    400.0\n",
       "3787        4   266.0     64.0"
      ]
     },
     "execution_count": 64,
     "metadata": {},
     "output_type": "execute_result"
    }
   ],
   "source": [
    "# you can chain multiple conditions together\n",
    "# pandas logical operators are: | for or, & for and, ~ for not\n",
    "# these must be grouped by using parentheses due to order of operations\n",
    "df[['country','nkill', 'nwound']][(df['nkill'] > 200) & (df['nwound'] > 10)].head()\n",
    "# columns on the left-hand side are here used to slice the resulting output"
   ]
  },
  {
   "cell_type": "code",
   "execution_count": 65,
   "id": "68a03128",
   "metadata": {},
   "outputs": [
    {
     "data": {
      "text/html": [
       "<div>\n",
       "<style scoped>\n",
       "    .dataframe tbody tr th:only-of-type {\n",
       "        vertical-align: middle;\n",
       "    }\n",
       "\n",
       "    .dataframe tbody tr th {\n",
       "        vertical-align: top;\n",
       "    }\n",
       "\n",
       "    .dataframe thead th {\n",
       "        text-align: right;\n",
       "    }\n",
       "</style>\n",
       "<table border=\"1\" class=\"dataframe\">\n",
       "  <thead>\n",
       "    <tr style=\"text-align: right;\">\n",
       "      <th></th>\n",
       "      <th>country</th>\n",
       "      <th>nkill</th>\n",
       "      <th>nwound</th>\n",
       "    </tr>\n",
       "  </thead>\n",
       "  <tbody>\n",
       "    <tr>\n",
       "      <th>7</th>\n",
       "      <td>155</td>\n",
       "      <td>7.0</td>\n",
       "      <td>16.0</td>\n",
       "    </tr>\n",
       "    <tr>\n",
       "      <th>17</th>\n",
       "      <td>92</td>\n",
       "      <td>68.0</td>\n",
       "      <td>76.0</td>\n",
       "    </tr>\n",
       "    <tr>\n",
       "      <th>18</th>\n",
       "      <td>92</td>\n",
       "      <td>32.0</td>\n",
       "      <td>22.0</td>\n",
       "    </tr>\n",
       "    <tr>\n",
       "      <th>19</th>\n",
       "      <td>4</td>\n",
       "      <td>9.0</td>\n",
       "      <td>25.0</td>\n",
       "    </tr>\n",
       "    <tr>\n",
       "      <th>21</th>\n",
       "      <td>153</td>\n",
       "      <td>29.0</td>\n",
       "      <td>31.0</td>\n",
       "    </tr>\n",
       "    <tr>\n",
       "      <th>...</th>\n",
       "      <td>...</td>\n",
       "      <td>...</td>\n",
       "      <td>...</td>\n",
       "    </tr>\n",
       "    <tr>\n",
       "      <th>209528</th>\n",
       "      <td>4</td>\n",
       "      <td>10.0</td>\n",
       "      <td>15.0</td>\n",
       "    </tr>\n",
       "    <tr>\n",
       "      <th>209547</th>\n",
       "      <td>153</td>\n",
       "      <td>3.0</td>\n",
       "      <td>17.0</td>\n",
       "    </tr>\n",
       "    <tr>\n",
       "      <th>209636</th>\n",
       "      <td>4</td>\n",
       "      <td>1.0</td>\n",
       "      <td>13.0</td>\n",
       "    </tr>\n",
       "    <tr>\n",
       "      <th>209659</th>\n",
       "      <td>153</td>\n",
       "      <td>0.0</td>\n",
       "      <td>14.0</td>\n",
       "    </tr>\n",
       "    <tr>\n",
       "      <th>209681</th>\n",
       "      <td>228</td>\n",
       "      <td>30.0</td>\n",
       "      <td>60.0</td>\n",
       "    </tr>\n",
       "  </tbody>\n",
       "</table>\n",
       "<p>11208 rows × 3 columns</p>\n",
       "</div>"
      ],
      "text/plain": [
       "        country  nkill  nwound\n",
       "7           155    7.0    16.0\n",
       "17           92   68.0    76.0\n",
       "18           92   32.0    22.0\n",
       "19            4    9.0    25.0\n",
       "21          153   29.0    31.0\n",
       "...         ...    ...     ...\n",
       "209528        4   10.0    15.0\n",
       "209547      153    3.0    17.0\n",
       "209636        4    1.0    13.0\n",
       "209659      153    0.0    14.0\n",
       "209681      228   30.0    60.0\n",
       "\n",
       "[11208 rows x 3 columns]"
      ]
     },
     "execution_count": 65,
     "metadata": {},
     "output_type": "execute_result"
    }
   ],
   "source": [
    "# ~ means not... it essentially flips trues to falses and vice-versa\n",
    "df[['country','nkill', 'nwound']][~(df['nkill'] > 200) & (df['nwound'] > 10)]"
   ]
  },
  {
   "cell_type": "markdown",
   "id": "2b2a6548",
   "metadata": {},
   "source": [
    "### Grouping and summarizing"
   ]
  },
  {
   "cell_type": "code",
   "execution_count": 66,
   "id": "3d312aa9",
   "metadata": {},
   "outputs": [],
   "source": [
    "# group by terroristic group name\n",
    "groups = df.groupby('gname')"
   ]
  },
  {
   "cell_type": "code",
   "execution_count": 67,
   "id": "9cb61a7e",
   "metadata": {},
   "outputs": [
    {
     "data": {
      "text/plain": [
       "gname\n",
       "Samri militia                                        766.0\n",
       "Gumuz militia                                        222.0\n",
       "Dissident Military Mmbrs of Northern Tribal Group    150.0\n",
       "Ansar al-Din Front                                   103.0\n",
       "Issa and Gurgura Liberation Front                    100.0\n",
       "                                                     ...  \n",
       "Western Somalia Liberation Front                       NaN\n",
       "Workers of the Company                                 NaN\n",
       "World Punishment Organization                          NaN\n",
       "Zawiya Martyrs Brigade                                 NaN\n",
       "Zimbabwe Guerrillas                                    NaN\n",
       "Name: nkill, Length: 3725, dtype: float64"
      ]
     },
     "execution_count": 67,
     "metadata": {},
     "output_type": "execute_result"
    }
   ],
   "source": [
    "# what is the median number of people killed per event across the different groups?\n",
    "groups['nkill'].median().sort_values(ascending=False)"
   ]
  },
  {
   "cell_type": "code",
   "execution_count": 68,
   "id": "4f3c7e7f",
   "metadata": {},
   "outputs": [
    {
     "data": {
      "text/html": [
       "<div>\n",
       "<style scoped>\n",
       "    .dataframe tbody tr th:only-of-type {\n",
       "        vertical-align: middle;\n",
       "    }\n",
       "\n",
       "    .dataframe tbody tr th {\n",
       "        vertical-align: top;\n",
       "    }\n",
       "\n",
       "    .dataframe thead th {\n",
       "        text-align: right;\n",
       "    }\n",
       "</style>\n",
       "<table border=\"1\" class=\"dataframe\">\n",
       "  <thead>\n",
       "    <tr style=\"text-align: right;\">\n",
       "      <th></th>\n",
       "      <th>nkill</th>\n",
       "      <th>nwound</th>\n",
       "      <th>nperps</th>\n",
       "    </tr>\n",
       "    <tr>\n",
       "      <th>gname</th>\n",
       "      <th></th>\n",
       "      <th></th>\n",
       "      <th></th>\n",
       "    </tr>\n",
       "  </thead>\n",
       "  <tbody>\n",
       "    <tr>\n",
       "      <th>01-May</th>\n",
       "      <td>0.0</td>\n",
       "      <td>0.0</td>\n",
       "      <td>1.5</td>\n",
       "    </tr>\n",
       "    <tr>\n",
       "      <th>09-Feb</th>\n",
       "      <td>0.0</td>\n",
       "      <td>0.0</td>\n",
       "      <td>NaN</td>\n",
       "    </tr>\n",
       "    <tr>\n",
       "      <th>14 K Triad</th>\n",
       "      <td>0.0</td>\n",
       "      <td>0.0</td>\n",
       "      <td>8.0</td>\n",
       "    </tr>\n",
       "    <tr>\n",
       "      <th>14 March Coalition</th>\n",
       "      <td>5.0</td>\n",
       "      <td>80.0</td>\n",
       "      <td>NaN</td>\n",
       "    </tr>\n",
       "    <tr>\n",
       "      <th>14th of December Command</th>\n",
       "      <td>0.0</td>\n",
       "      <td>0.0</td>\n",
       "      <td>NaN</td>\n",
       "    </tr>\n",
       "    <tr>\n",
       "      <th>...</th>\n",
       "      <td>...</td>\n",
       "      <td>...</td>\n",
       "      <td>...</td>\n",
       "    </tr>\n",
       "    <tr>\n",
       "      <th>Zulu Miners</th>\n",
       "      <td>1.0</td>\n",
       "      <td>10.0</td>\n",
       "      <td>NaN</td>\n",
       "    </tr>\n",
       "    <tr>\n",
       "      <th>Zuwar al-Imam Rida</th>\n",
       "      <td>0.0</td>\n",
       "      <td>0.0</td>\n",
       "      <td>4.0</td>\n",
       "    </tr>\n",
       "    <tr>\n",
       "      <th>Zviadists</th>\n",
       "      <td>0.0</td>\n",
       "      <td>0.0</td>\n",
       "      <td>NaN</td>\n",
       "    </tr>\n",
       "    <tr>\n",
       "      <th>Zwai Tribe</th>\n",
       "      <td>5.0</td>\n",
       "      <td>NaN</td>\n",
       "      <td>NaN</td>\n",
       "    </tr>\n",
       "    <tr>\n",
       "      <th>leftist guerrillas-Bolivarian militia</th>\n",
       "      <td>0.0</td>\n",
       "      <td>0.0</td>\n",
       "      <td>NaN</td>\n",
       "    </tr>\n",
       "  </tbody>\n",
       "</table>\n",
       "<p>3725 rows × 3 columns</p>\n",
       "</div>"
      ],
      "text/plain": [
       "                                       nkill  nwound  nperps\n",
       "gname                                                       \n",
       "01-May                                   0.0     0.0     1.5\n",
       "09-Feb                                   0.0     0.0     NaN\n",
       "14 K Triad                               0.0     0.0     8.0\n",
       "14 March Coalition                       5.0    80.0     NaN\n",
       "14th of December Command                 0.0     0.0     NaN\n",
       "...                                      ...     ...     ...\n",
       "Zulu Miners                              1.0    10.0     NaN\n",
       "Zuwar al-Imam Rida                       0.0     0.0     4.0\n",
       "Zviadists                                0.0     0.0     NaN\n",
       "Zwai Tribe                               5.0     NaN     NaN\n",
       "leftist guerrillas-Bolivarian militia    0.0     0.0     NaN\n",
       "\n",
       "[3725 rows x 3 columns]"
      ]
     },
     "execution_count": 68,
     "metadata": {},
     "output_type": "execute_result"
    }
   ],
   "source": [
    "# look at several columns' medians by group\n",
    "groups[['nkill', 'nwound', 'nperps']].median()"
   ]
  },
  {
   "cell_type": "code",
   "execution_count": 69,
   "id": "32e5b39f",
   "metadata": {},
   "outputs": [
    {
     "data": {
      "text/html": [
       "<div>\n",
       "<style scoped>\n",
       "    .dataframe tbody tr th:only-of-type {\n",
       "        vertical-align: middle;\n",
       "    }\n",
       "\n",
       "    .dataframe tbody tr th {\n",
       "        vertical-align: top;\n",
       "    }\n",
       "\n",
       "    .dataframe thead th {\n",
       "        text-align: right;\n",
       "    }\n",
       "</style>\n",
       "<table border=\"1\" class=\"dataframe\">\n",
       "  <thead>\n",
       "    <tr style=\"text-align: right;\">\n",
       "      <th></th>\n",
       "      <th>country_txt</th>\n",
       "      <th>nkill</th>\n",
       "      <th>nwound</th>\n",
       "    </tr>\n",
       "  </thead>\n",
       "  <tbody>\n",
       "    <tr>\n",
       "      <th>0</th>\n",
       "      <td>United Kingdom</td>\n",
       "      <td>3426.0</td>\n",
       "      <td>6321.0</td>\n",
       "    </tr>\n",
       "    <tr>\n",
       "      <th>1</th>\n",
       "      <td>Spain</td>\n",
       "      <td>1289.0</td>\n",
       "      <td>4937.0</td>\n",
       "    </tr>\n",
       "    <tr>\n",
       "      <th>2</th>\n",
       "      <td>France</td>\n",
       "      <td>565.0</td>\n",
       "      <td>2565.0</td>\n",
       "    </tr>\n",
       "    <tr>\n",
       "      <th>3</th>\n",
       "      <td>Italy</td>\n",
       "      <td>420.0</td>\n",
       "      <td>1320.0</td>\n",
       "    </tr>\n",
       "    <tr>\n",
       "      <th>4</th>\n",
       "      <td>Greece</td>\n",
       "      <td>264.0</td>\n",
       "      <td>763.0</td>\n",
       "    </tr>\n",
       "    <tr>\n",
       "      <th>5</th>\n",
       "      <td>Ireland</td>\n",
       "      <td>108.0</td>\n",
       "      <td>26.0</td>\n",
       "    </tr>\n",
       "    <tr>\n",
       "      <th>6</th>\n",
       "      <td>Germany</td>\n",
       "      <td>103.0</td>\n",
       "      <td>735.0</td>\n",
       "    </tr>\n",
       "    <tr>\n",
       "      <th>7</th>\n",
       "      <td>West Germany (FRG)</td>\n",
       "      <td>97.0</td>\n",
       "      <td>862.0</td>\n",
       "    </tr>\n",
       "    <tr>\n",
       "      <th>8</th>\n",
       "      <td>Belgium</td>\n",
       "      <td>83.0</td>\n",
       "      <td>523.0</td>\n",
       "    </tr>\n",
       "    <tr>\n",
       "      <th>9</th>\n",
       "      <td>Norway</td>\n",
       "      <td>80.0</td>\n",
       "      <td>90.0</td>\n",
       "    </tr>\n",
       "    <tr>\n",
       "      <th>10</th>\n",
       "      <td>Switzerland</td>\n",
       "      <td>75.0</td>\n",
       "      <td>98.0</td>\n",
       "    </tr>\n",
       "    <tr>\n",
       "      <th>11</th>\n",
       "      <td>Cyprus</td>\n",
       "      <td>45.0</td>\n",
       "      <td>41.0</td>\n",
       "    </tr>\n",
       "    <tr>\n",
       "      <th>12</th>\n",
       "      <td>Netherlands</td>\n",
       "      <td>41.0</td>\n",
       "      <td>75.0</td>\n",
       "    </tr>\n",
       "    <tr>\n",
       "      <th>13</th>\n",
       "      <td>Austria</td>\n",
       "      <td>37.0</td>\n",
       "      <td>150.0</td>\n",
       "    </tr>\n",
       "    <tr>\n",
       "      <th>14</th>\n",
       "      <td>Portugal</td>\n",
       "      <td>32.0</td>\n",
       "      <td>95.0</td>\n",
       "    </tr>\n",
       "    <tr>\n",
       "      <th>15</th>\n",
       "      <td>Sweden</td>\n",
       "      <td>22.0</td>\n",
       "      <td>83.0</td>\n",
       "    </tr>\n",
       "    <tr>\n",
       "      <th>16</th>\n",
       "      <td>Finland</td>\n",
       "      <td>12.0</td>\n",
       "      <td>37.0</td>\n",
       "    </tr>\n",
       "    <tr>\n",
       "      <th>17</th>\n",
       "      <td>Denmark</td>\n",
       "      <td>5.0</td>\n",
       "      <td>31.0</td>\n",
       "    </tr>\n",
       "    <tr>\n",
       "      <th>18</th>\n",
       "      <td>Malta</td>\n",
       "      <td>5.0</td>\n",
       "      <td>12.0</td>\n",
       "    </tr>\n",
       "    <tr>\n",
       "      <th>19</th>\n",
       "      <td>Iceland</td>\n",
       "      <td>0.0</td>\n",
       "      <td>0.0</td>\n",
       "    </tr>\n",
       "    <tr>\n",
       "      <th>20</th>\n",
       "      <td>Luxembourg</td>\n",
       "      <td>0.0</td>\n",
       "      <td>6.0</td>\n",
       "    </tr>\n",
       "    <tr>\n",
       "      <th>21</th>\n",
       "      <td>Vatican City</td>\n",
       "      <td>0.0</td>\n",
       "      <td>3.0</td>\n",
       "    </tr>\n",
       "    <tr>\n",
       "      <th>22</th>\n",
       "      <td>Andorra</td>\n",
       "      <td>0.0</td>\n",
       "      <td>0.0</td>\n",
       "    </tr>\n",
       "  </tbody>\n",
       "</table>\n",
       "</div>"
      ],
      "text/plain": [
       "           country_txt   nkill  nwound\n",
       "0       United Kingdom  3426.0  6321.0\n",
       "1                Spain  1289.0  4937.0\n",
       "2               France   565.0  2565.0\n",
       "3                Italy   420.0  1320.0\n",
       "4               Greece   264.0   763.0\n",
       "5              Ireland   108.0    26.0\n",
       "6              Germany   103.0   735.0\n",
       "7   West Germany (FRG)    97.0   862.0\n",
       "8              Belgium    83.0   523.0\n",
       "9               Norway    80.0    90.0\n",
       "10         Switzerland    75.0    98.0\n",
       "11              Cyprus    45.0    41.0\n",
       "12         Netherlands    41.0    75.0\n",
       "13             Austria    37.0   150.0\n",
       "14            Portugal    32.0    95.0\n",
       "15              Sweden    22.0    83.0\n",
       "16             Finland    12.0    37.0\n",
       "17             Denmark     5.0    31.0\n",
       "18               Malta     5.0    12.0\n",
       "19             Iceland     0.0     0.0\n",
       "20          Luxembourg     0.0     6.0\n",
       "21        Vatican City     0.0     3.0\n",
       "22             Andorra     0.0     0.0"
      ]
     },
     "execution_count": 69,
     "metadata": {},
     "output_type": "execute_result"
    }
   ],
   "source": [
    "# you can create a new dataFrame by directly passing columns between \"[[ ]]\", after the groupby function\n",
    "# to do so, you also need to pass a function that can deal with the values (e.g. sum..etc) \n",
    "western_europe = df[df.region_txt == 'Western Europe']\n",
    "western_europe.groupby('country_txt')[['nkill', 'nwound']].sum().sort_values('nkill', ascending = False).reset_index()"
   ]
  },
  {
   "cell_type": "markdown",
   "id": "c34867e8",
   "metadata": {},
   "source": [
    "### Indexes\n",
    "\n",
    "Each `DataFrame` has an index. Indexes do not have to be unique (but that would be for the best)"
   ]
  },
  {
   "cell_type": "code",
   "execution_count": 70,
   "id": "68ac4aa3",
   "metadata": {},
   "outputs": [
    {
     "data": {
      "text/html": [
       "<div>\n",
       "<style scoped>\n",
       "    .dataframe tbody tr th:only-of-type {\n",
       "        vertical-align: middle;\n",
       "    }\n",
       "\n",
       "    .dataframe tbody tr th {\n",
       "        vertical-align: top;\n",
       "    }\n",
       "\n",
       "    .dataframe thead th {\n",
       "        text-align: right;\n",
       "    }\n",
       "</style>\n",
       "<table border=\"1\" class=\"dataframe\">\n",
       "  <thead>\n",
       "    <tr style=\"text-align: right;\">\n",
       "      <th></th>\n",
       "      <th>eventid</th>\n",
       "      <th>year</th>\n",
       "      <th>month</th>\n",
       "      <th>day</th>\n",
       "      <th>extended</th>\n",
       "      <th>country</th>\n",
       "      <th>country_txt</th>\n",
       "      <th>region</th>\n",
       "      <th>region_txt</th>\n",
       "      <th>city</th>\n",
       "      <th>...</th>\n",
       "      <th>hostkidoutcome</th>\n",
       "      <th>hostkidoutcome_txt</th>\n",
       "      <th>nreleased</th>\n",
       "      <th>dbsource</th>\n",
       "      <th>INT_LOG</th>\n",
       "      <th>INT_IDEO</th>\n",
       "      <th>INT_MISC</th>\n",
       "      <th>INT_ANY</th>\n",
       "      <th>related</th>\n",
       "      <th>killed_per_attacker</th>\n",
       "    </tr>\n",
       "  </thead>\n",
       "  <tbody>\n",
       "    <tr>\n",
       "      <th>0</th>\n",
       "      <td>200505000000</td>\n",
       "      <td>2005</td>\n",
       "      <td>5</td>\n",
       "      <td>28</td>\n",
       "      <td>1</td>\n",
       "      <td>153</td>\n",
       "      <td>Pakistan</td>\n",
       "      <td>6</td>\n",
       "      <td>South Asia</td>\n",
       "      <td>Karachi</td>\n",
       "      <td>...</td>\n",
       "      <td>4.0</td>\n",
       "      <td>Hostage(s) killed (not during rescue attempt)</td>\n",
       "      <td>0.0</td>\n",
       "      <td>CETIS</td>\n",
       "      <td>NaN</td>\n",
       "      <td>NaN</td>\n",
       "      <td>0.0</td>\n",
       "      <td>NaN</td>\n",
       "      <td>NaN</td>\n",
       "      <td>NaN</td>\n",
       "    </tr>\n",
       "    <tr>\n",
       "      <th>1</th>\n",
       "      <td>200505000000</td>\n",
       "      <td>2005</td>\n",
       "      <td>5</td>\n",
       "      <td>29</td>\n",
       "      <td>1</td>\n",
       "      <td>95</td>\n",
       "      <td>Iraq</td>\n",
       "      <td>10</td>\n",
       "      <td>Middle East &amp; North Africa</td>\n",
       "      <td>Kirkuk</td>\n",
       "      <td>...</td>\n",
       "      <td>4.0</td>\n",
       "      <td>Hostage(s) killed (not during rescue attempt)</td>\n",
       "      <td>0.0</td>\n",
       "      <td>CETIS</td>\n",
       "      <td>0.0</td>\n",
       "      <td>0.0</td>\n",
       "      <td>0.0</td>\n",
       "      <td>0.0</td>\n",
       "      <td>NaN</td>\n",
       "      <td>NaN</td>\n",
       "    </tr>\n",
       "    <tr>\n",
       "      <th>2</th>\n",
       "      <td>200706000000</td>\n",
       "      <td>2007</td>\n",
       "      <td>6</td>\n",
       "      <td>8</td>\n",
       "      <td>1</td>\n",
       "      <td>95</td>\n",
       "      <td>Iraq</td>\n",
       "      <td>10</td>\n",
       "      <td>Middle East &amp; North Africa</td>\n",
       "      <td>Kan'an</td>\n",
       "      <td>...</td>\n",
       "      <td>6.0</td>\n",
       "      <td>Combination</td>\n",
       "      <td>0.0</td>\n",
       "      <td>CETIS</td>\n",
       "      <td>0.0</td>\n",
       "      <td>0.0</td>\n",
       "      <td>0.0</td>\n",
       "      <td>0.0</td>\n",
       "      <td>NaN</td>\n",
       "      <td>0.3</td>\n",
       "    </tr>\n",
       "    <tr>\n",
       "      <th>3</th>\n",
       "      <td>201006000000</td>\n",
       "      <td>2010</td>\n",
       "      <td>6</td>\n",
       "      <td>15</td>\n",
       "      <td>1</td>\n",
       "      <td>4</td>\n",
       "      <td>Afghanistan</td>\n",
       "      <td>6</td>\n",
       "      <td>South Asia</td>\n",
       "      <td>Saydabad</td>\n",
       "      <td>...</td>\n",
       "      <td>4.0</td>\n",
       "      <td>Hostage(s) killed (not during rescue attempt)</td>\n",
       "      <td>NaN</td>\n",
       "      <td>ISVG</td>\n",
       "      <td>0.0</td>\n",
       "      <td>0.0</td>\n",
       "      <td>0.0</td>\n",
       "      <td>0.0</td>\n",
       "      <td>NaN</td>\n",
       "      <td>NaN</td>\n",
       "    </tr>\n",
       "    <tr>\n",
       "      <th>4</th>\n",
       "      <td>201101000000</td>\n",
       "      <td>2011</td>\n",
       "      <td>1</td>\n",
       "      <td>6</td>\n",
       "      <td>1</td>\n",
       "      <td>92</td>\n",
       "      <td>India</td>\n",
       "      <td>6</td>\n",
       "      <td>South Asia</td>\n",
       "      <td>Midnapore</td>\n",
       "      <td>...</td>\n",
       "      <td>4.0</td>\n",
       "      <td>Hostage(s) killed (not during rescue attempt)</td>\n",
       "      <td>0.0</td>\n",
       "      <td>ISVG</td>\n",
       "      <td>0.0</td>\n",
       "      <td>0.0</td>\n",
       "      <td>0.0</td>\n",
       "      <td>0.0</td>\n",
       "      <td>NaN</td>\n",
       "      <td>NaN</td>\n",
       "    </tr>\n",
       "  </tbody>\n",
       "</table>\n",
       "<p>5 rows × 88 columns</p>\n",
       "</div>"
      ],
      "text/plain": [
       "        eventid  year  month  day  extended  country  country_txt  region  \\\n",
       "0  200505000000  2005      5   28         1      153     Pakistan       6   \n",
       "1  200505000000  2005      5   29         1       95         Iraq      10   \n",
       "2  200706000000  2007      6    8         1       95         Iraq      10   \n",
       "3  201006000000  2010      6   15         1        4  Afghanistan       6   \n",
       "4  201101000000  2011      1    6         1       92        India       6   \n",
       "\n",
       "                   region_txt       city  ...  hostkidoutcome  \\\n",
       "0                  South Asia    Karachi  ...             4.0   \n",
       "1  Middle East & North Africa     Kirkuk  ...             4.0   \n",
       "2  Middle East & North Africa     Kan'an  ...             6.0   \n",
       "3                  South Asia   Saydabad  ...             4.0   \n",
       "4                  South Asia  Midnapore  ...             4.0   \n",
       "\n",
       "                              hostkidoutcome_txt  nreleased dbsource  INT_LOG  \\\n",
       "0  Hostage(s) killed (not during rescue attempt)        0.0    CETIS      NaN   \n",
       "1  Hostage(s) killed (not during rescue attempt)        0.0    CETIS      0.0   \n",
       "2                                    Combination        0.0    CETIS      0.0   \n",
       "3  Hostage(s) killed (not during rescue attempt)        NaN     ISVG      0.0   \n",
       "4  Hostage(s) killed (not during rescue attempt)        0.0     ISVG      0.0   \n",
       "\n",
       "   INT_IDEO  INT_MISC  INT_ANY  related killed_per_attacker  \n",
       "0       NaN       0.0      NaN      NaN                 NaN  \n",
       "1       0.0       0.0      0.0      NaN                 NaN  \n",
       "2       0.0       0.0      0.0      NaN                 0.3  \n",
       "3       0.0       0.0      0.0      NaN                 NaN  \n",
       "4       0.0       0.0      0.0      NaN                 NaN  \n",
       "\n",
       "[5 rows x 88 columns]"
      ]
     },
     "execution_count": 70,
     "metadata": {},
     "output_type": "execute_result"
    }
   ],
   "source": [
    "# resetting index (when loading a .csv file pandas creates an index automatically, from 0 to Nrecords-1)\n",
    "df.reset_index(drop = True).sort_index().head() # this does not assign the new index though, it just shows you a temp copy"
   ]
  },
  {
   "cell_type": "code",
   "execution_count": 71,
   "id": "16fc8587",
   "metadata": {},
   "outputs": [
    {
     "data": {
      "text/html": [
       "<div>\n",
       "<style scoped>\n",
       "    .dataframe tbody tr th:only-of-type {\n",
       "        vertical-align: middle;\n",
       "    }\n",
       "\n",
       "    .dataframe tbody tr th {\n",
       "        vertical-align: top;\n",
       "    }\n",
       "\n",
       "    .dataframe thead th {\n",
       "        text-align: right;\n",
       "    }\n",
       "</style>\n",
       "<table border=\"1\" class=\"dataframe\">\n",
       "  <thead>\n",
       "    <tr style=\"text-align: right;\">\n",
       "      <th></th>\n",
       "      <th>eventid</th>\n",
       "      <th>year</th>\n",
       "      <th>month</th>\n",
       "      <th>day</th>\n",
       "      <th>extended</th>\n",
       "      <th>country</th>\n",
       "      <th>country_txt</th>\n",
       "      <th>region</th>\n",
       "      <th>region_txt</th>\n",
       "      <th>city</th>\n",
       "      <th>...</th>\n",
       "      <th>hostkidoutcome</th>\n",
       "      <th>hostkidoutcome_txt</th>\n",
       "      <th>nreleased</th>\n",
       "      <th>dbsource</th>\n",
       "      <th>INT_LOG</th>\n",
       "      <th>INT_IDEO</th>\n",
       "      <th>INT_MISC</th>\n",
       "      <th>INT_ANY</th>\n",
       "      <th>related</th>\n",
       "      <th>killed_per_attacker</th>\n",
       "    </tr>\n",
       "  </thead>\n",
       "  <tbody>\n",
       "    <tr>\n",
       "      <th>0</th>\n",
       "      <td>200505000000</td>\n",
       "      <td>2005</td>\n",
       "      <td>5</td>\n",
       "      <td>28</td>\n",
       "      <td>1</td>\n",
       "      <td>153</td>\n",
       "      <td>Pakistan</td>\n",
       "      <td>6</td>\n",
       "      <td>South Asia</td>\n",
       "      <td>Karachi</td>\n",
       "      <td>...</td>\n",
       "      <td>4.0</td>\n",
       "      <td>Hostage(s) killed (not during rescue attempt)</td>\n",
       "      <td>0.0</td>\n",
       "      <td>CETIS</td>\n",
       "      <td>NaN</td>\n",
       "      <td>NaN</td>\n",
       "      <td>0.0</td>\n",
       "      <td>NaN</td>\n",
       "      <td>NaN</td>\n",
       "      <td>NaN</td>\n",
       "    </tr>\n",
       "    <tr>\n",
       "      <th>1</th>\n",
       "      <td>200505000000</td>\n",
       "      <td>2005</td>\n",
       "      <td>5</td>\n",
       "      <td>29</td>\n",
       "      <td>1</td>\n",
       "      <td>95</td>\n",
       "      <td>Iraq</td>\n",
       "      <td>10</td>\n",
       "      <td>Middle East &amp; North Africa</td>\n",
       "      <td>Kirkuk</td>\n",
       "      <td>...</td>\n",
       "      <td>4.0</td>\n",
       "      <td>Hostage(s) killed (not during rescue attempt)</td>\n",
       "      <td>0.0</td>\n",
       "      <td>CETIS</td>\n",
       "      <td>0.0</td>\n",
       "      <td>0.0</td>\n",
       "      <td>0.0</td>\n",
       "      <td>0.0</td>\n",
       "      <td>NaN</td>\n",
       "      <td>NaN</td>\n",
       "    </tr>\n",
       "    <tr>\n",
       "      <th>2</th>\n",
       "      <td>200706000000</td>\n",
       "      <td>2007</td>\n",
       "      <td>6</td>\n",
       "      <td>8</td>\n",
       "      <td>1</td>\n",
       "      <td>95</td>\n",
       "      <td>Iraq</td>\n",
       "      <td>10</td>\n",
       "      <td>Middle East &amp; North Africa</td>\n",
       "      <td>Kan'an</td>\n",
       "      <td>...</td>\n",
       "      <td>6.0</td>\n",
       "      <td>Combination</td>\n",
       "      <td>0.0</td>\n",
       "      <td>CETIS</td>\n",
       "      <td>0.0</td>\n",
       "      <td>0.0</td>\n",
       "      <td>0.0</td>\n",
       "      <td>0.0</td>\n",
       "      <td>NaN</td>\n",
       "      <td>0.3</td>\n",
       "    </tr>\n",
       "    <tr>\n",
       "      <th>3</th>\n",
       "      <td>201006000000</td>\n",
       "      <td>2010</td>\n",
       "      <td>6</td>\n",
       "      <td>15</td>\n",
       "      <td>1</td>\n",
       "      <td>4</td>\n",
       "      <td>Afghanistan</td>\n",
       "      <td>6</td>\n",
       "      <td>South Asia</td>\n",
       "      <td>Saydabad</td>\n",
       "      <td>...</td>\n",
       "      <td>4.0</td>\n",
       "      <td>Hostage(s) killed (not during rescue attempt)</td>\n",
       "      <td>NaN</td>\n",
       "      <td>ISVG</td>\n",
       "      <td>0.0</td>\n",
       "      <td>0.0</td>\n",
       "      <td>0.0</td>\n",
       "      <td>0.0</td>\n",
       "      <td>NaN</td>\n",
       "      <td>NaN</td>\n",
       "    </tr>\n",
       "    <tr>\n",
       "      <th>4</th>\n",
       "      <td>201101000000</td>\n",
       "      <td>2011</td>\n",
       "      <td>1</td>\n",
       "      <td>6</td>\n",
       "      <td>1</td>\n",
       "      <td>92</td>\n",
       "      <td>India</td>\n",
       "      <td>6</td>\n",
       "      <td>South Asia</td>\n",
       "      <td>Midnapore</td>\n",
       "      <td>...</td>\n",
       "      <td>4.0</td>\n",
       "      <td>Hostage(s) killed (not during rescue attempt)</td>\n",
       "      <td>0.0</td>\n",
       "      <td>ISVG</td>\n",
       "      <td>0.0</td>\n",
       "      <td>0.0</td>\n",
       "      <td>0.0</td>\n",
       "      <td>0.0</td>\n",
       "      <td>NaN</td>\n",
       "      <td>NaN</td>\n",
       "    </tr>\n",
       "  </tbody>\n",
       "</table>\n",
       "<p>5 rows × 88 columns</p>\n",
       "</div>"
      ],
      "text/plain": [
       "        eventid  year  month  day  extended  country  country_txt  region  \\\n",
       "0  200505000000  2005      5   28         1      153     Pakistan       6   \n",
       "1  200505000000  2005      5   29         1       95         Iraq      10   \n",
       "2  200706000000  2007      6    8         1       95         Iraq      10   \n",
       "3  201006000000  2010      6   15         1        4  Afghanistan       6   \n",
       "4  201101000000  2011      1    6         1       92        India       6   \n",
       "\n",
       "                   region_txt       city  ...  hostkidoutcome  \\\n",
       "0                  South Asia    Karachi  ...             4.0   \n",
       "1  Middle East & North Africa     Kirkuk  ...             4.0   \n",
       "2  Middle East & North Africa     Kan'an  ...             6.0   \n",
       "3                  South Asia   Saydabad  ...             4.0   \n",
       "4                  South Asia  Midnapore  ...             4.0   \n",
       "\n",
       "                              hostkidoutcome_txt  nreleased dbsource  INT_LOG  \\\n",
       "0  Hostage(s) killed (not during rescue attempt)        0.0    CETIS      NaN   \n",
       "1  Hostage(s) killed (not during rescue attempt)        0.0    CETIS      0.0   \n",
       "2                                    Combination        0.0    CETIS      0.0   \n",
       "3  Hostage(s) killed (not during rescue attempt)        NaN     ISVG      0.0   \n",
       "4  Hostage(s) killed (not during rescue attempt)        0.0     ISVG      0.0   \n",
       "\n",
       "   INT_IDEO  INT_MISC  INT_ANY  related killed_per_attacker  \n",
       "0       NaN       0.0      NaN      NaN                 NaN  \n",
       "1       0.0       0.0      0.0      NaN                 NaN  \n",
       "2       0.0       0.0      0.0      NaN                 0.3  \n",
       "3       0.0       0.0      0.0      NaN                 NaN  \n",
       "4       0.0       0.0      0.0      NaN                 NaN  \n",
       "\n",
       "[5 rows x 88 columns]"
      ]
     },
     "execution_count": 71,
     "metadata": {},
     "output_type": "execute_result"
    }
   ],
   "source": [
    "#this does assign the new index to your df\n",
    "df = df.reset_index(drop = True).sort_index() \n",
    "df.head()"
   ]
  },
  {
   "cell_type": "code",
   "execution_count": 72,
   "id": "11085171",
   "metadata": {},
   "outputs": [
    {
     "data": {
      "text/plain": [
       "True"
      ]
     },
     "execution_count": 72,
     "metadata": {},
     "output_type": "execute_result"
    }
   ],
   "source": [
    "# index isn't unique\n",
    "df.index.is_unique"
   ]
  },
  {
   "cell_type": "code",
   "execution_count": 73,
   "id": "154f19b4",
   "metadata": {},
   "outputs": [
    {
     "data": {
      "text/html": [
       "<div>\n",
       "<style scoped>\n",
       "    .dataframe tbody tr th:only-of-type {\n",
       "        vertical-align: middle;\n",
       "    }\n",
       "\n",
       "    .dataframe tbody tr th {\n",
       "        vertical-align: top;\n",
       "    }\n",
       "\n",
       "    .dataframe thead th {\n",
       "        text-align: right;\n",
       "    }\n",
       "</style>\n",
       "<table border=\"1\" class=\"dataframe\">\n",
       "  <thead>\n",
       "    <tr style=\"text-align: right;\">\n",
       "      <th></th>\n",
       "      <th>year</th>\n",
       "      <th>month</th>\n",
       "      <th>day</th>\n",
       "      <th>extended</th>\n",
       "      <th>country</th>\n",
       "      <th>country_txt</th>\n",
       "      <th>region</th>\n",
       "      <th>region_txt</th>\n",
       "      <th>city</th>\n",
       "      <th>latitude</th>\n",
       "      <th>...</th>\n",
       "      <th>hostkidoutcome</th>\n",
       "      <th>hostkidoutcome_txt</th>\n",
       "      <th>nreleased</th>\n",
       "      <th>dbsource</th>\n",
       "      <th>INT_LOG</th>\n",
       "      <th>INT_IDEO</th>\n",
       "      <th>INT_MISC</th>\n",
       "      <th>INT_ANY</th>\n",
       "      <th>related</th>\n",
       "      <th>killed_per_attacker</th>\n",
       "    </tr>\n",
       "  </thead>\n",
       "  <tbody>\n",
       "    <tr>\n",
       "      <th>200505000000</th>\n",
       "      <td>2005</td>\n",
       "      <td>5</td>\n",
       "      <td>28</td>\n",
       "      <td>1</td>\n",
       "      <td>153</td>\n",
       "      <td>Pakistan</td>\n",
       "      <td>6</td>\n",
       "      <td>South Asia</td>\n",
       "      <td>Karachi</td>\n",
       "      <td>24.891115</td>\n",
       "      <td>...</td>\n",
       "      <td>4.0</td>\n",
       "      <td>Hostage(s) killed (not during rescue attempt)</td>\n",
       "      <td>0.0</td>\n",
       "      <td>CETIS</td>\n",
       "      <td>NaN</td>\n",
       "      <td>NaN</td>\n",
       "      <td>0.0</td>\n",
       "      <td>NaN</td>\n",
       "      <td>NaN</td>\n",
       "      <td>NaN</td>\n",
       "    </tr>\n",
       "    <tr>\n",
       "      <th>200505000000</th>\n",
       "      <td>2005</td>\n",
       "      <td>5</td>\n",
       "      <td>29</td>\n",
       "      <td>1</td>\n",
       "      <td>95</td>\n",
       "      <td>Iraq</td>\n",
       "      <td>10</td>\n",
       "      <td>Middle East &amp; North Africa</td>\n",
       "      <td>Kirkuk</td>\n",
       "      <td>35.452110</td>\n",
       "      <td>...</td>\n",
       "      <td>4.0</td>\n",
       "      <td>Hostage(s) killed (not during rescue attempt)</td>\n",
       "      <td>0.0</td>\n",
       "      <td>CETIS</td>\n",
       "      <td>0.0</td>\n",
       "      <td>0.0</td>\n",
       "      <td>0.0</td>\n",
       "      <td>0.0</td>\n",
       "      <td>NaN</td>\n",
       "      <td>NaN</td>\n",
       "    </tr>\n",
       "    <tr>\n",
       "      <th>200706000000</th>\n",
       "      <td>2007</td>\n",
       "      <td>6</td>\n",
       "      <td>8</td>\n",
       "      <td>1</td>\n",
       "      <td>95</td>\n",
       "      <td>Iraq</td>\n",
       "      <td>10</td>\n",
       "      <td>Middle East &amp; North Africa</td>\n",
       "      <td>Kan'an</td>\n",
       "      <td>33.693409</td>\n",
       "      <td>...</td>\n",
       "      <td>6.0</td>\n",
       "      <td>Combination</td>\n",
       "      <td>0.0</td>\n",
       "      <td>CETIS</td>\n",
       "      <td>0.0</td>\n",
       "      <td>0.0</td>\n",
       "      <td>0.0</td>\n",
       "      <td>0.0</td>\n",
       "      <td>NaN</td>\n",
       "      <td>0.3</td>\n",
       "    </tr>\n",
       "    <tr>\n",
       "      <th>201006000000</th>\n",
       "      <td>2010</td>\n",
       "      <td>6</td>\n",
       "      <td>15</td>\n",
       "      <td>1</td>\n",
       "      <td>4</td>\n",
       "      <td>Afghanistan</td>\n",
       "      <td>6</td>\n",
       "      <td>South Asia</td>\n",
       "      <td>Saydabad</td>\n",
       "      <td>34.008430</td>\n",
       "      <td>...</td>\n",
       "      <td>4.0</td>\n",
       "      <td>Hostage(s) killed (not during rescue attempt)</td>\n",
       "      <td>NaN</td>\n",
       "      <td>ISVG</td>\n",
       "      <td>0.0</td>\n",
       "      <td>0.0</td>\n",
       "      <td>0.0</td>\n",
       "      <td>0.0</td>\n",
       "      <td>NaN</td>\n",
       "      <td>NaN</td>\n",
       "    </tr>\n",
       "    <tr>\n",
       "      <th>201101000000</th>\n",
       "      <td>2011</td>\n",
       "      <td>1</td>\n",
       "      <td>6</td>\n",
       "      <td>1</td>\n",
       "      <td>92</td>\n",
       "      <td>India</td>\n",
       "      <td>6</td>\n",
       "      <td>South Asia</td>\n",
       "      <td>Midnapore</td>\n",
       "      <td>22.424109</td>\n",
       "      <td>...</td>\n",
       "      <td>4.0</td>\n",
       "      <td>Hostage(s) killed (not during rescue attempt)</td>\n",
       "      <td>0.0</td>\n",
       "      <td>ISVG</td>\n",
       "      <td>0.0</td>\n",
       "      <td>0.0</td>\n",
       "      <td>0.0</td>\n",
       "      <td>0.0</td>\n",
       "      <td>NaN</td>\n",
       "      <td>NaN</td>\n",
       "    </tr>\n",
       "  </tbody>\n",
       "</table>\n",
       "<p>5 rows × 87 columns</p>\n",
       "</div>"
      ],
      "text/plain": [
       "              year  month  day  extended  country  country_txt  region  \\\n",
       "200505000000  2005      5   28         1      153     Pakistan       6   \n",
       "200505000000  2005      5   29         1       95         Iraq      10   \n",
       "200706000000  2007      6    8         1       95         Iraq      10   \n",
       "201006000000  2010      6   15         1        4  Afghanistan       6   \n",
       "201101000000  2011      1    6         1       92        India       6   \n",
       "\n",
       "                              region_txt       city   latitude  ...  \\\n",
       "200505000000                  South Asia    Karachi  24.891115  ...   \n",
       "200505000000  Middle East & North Africa     Kirkuk  35.452110  ...   \n",
       "200706000000  Middle East & North Africa     Kan'an  33.693409  ...   \n",
       "201006000000                  South Asia   Saydabad  34.008430  ...   \n",
       "201101000000                  South Asia  Midnapore  22.424109  ...   \n",
       "\n",
       "              hostkidoutcome                             hostkidoutcome_txt  \\\n",
       "200505000000             4.0  Hostage(s) killed (not during rescue attempt)   \n",
       "200505000000             4.0  Hostage(s) killed (not during rescue attempt)   \n",
       "200706000000             6.0                                    Combination   \n",
       "201006000000             4.0  Hostage(s) killed (not during rescue attempt)   \n",
       "201101000000             4.0  Hostage(s) killed (not during rescue attempt)   \n",
       "\n",
       "             nreleased  dbsource  INT_LOG  INT_IDEO  INT_MISC  INT_ANY  \\\n",
       "200505000000       0.0     CETIS      NaN       NaN       0.0      NaN   \n",
       "200505000000       0.0     CETIS      0.0       0.0       0.0      0.0   \n",
       "200706000000       0.0     CETIS      0.0       0.0       0.0      0.0   \n",
       "201006000000       NaN      ISVG      0.0       0.0       0.0      0.0   \n",
       "201101000000       0.0      ISVG      0.0       0.0       0.0      0.0   \n",
       "\n",
       "             related  killed_per_attacker  \n",
       "200505000000     NaN                  NaN  \n",
       "200505000000     NaN                  NaN  \n",
       "200706000000     NaN                  0.3  \n",
       "201006000000     NaN                  NaN  \n",
       "201101000000     NaN                  NaN  \n",
       "\n",
       "[5 rows x 87 columns]"
      ]
     },
     "execution_count": 73,
     "metadata": {},
     "output_type": "execute_result"
    }
   ],
   "source": [
    "# you can set a new index\n",
    "# drop -> Delete columns to be used as the new index.\n",
    "# append ->  whether to append columns to existing index.\n",
    "df = df.set_index('eventid', drop=True, append=False)\n",
    "df.index.name = None # remove the index \"name\"\n",
    "df.head()\n",
    "\n",
    "# this index is not ideal, but it's the original source's id"
   ]
  },
  {
   "cell_type": "markdown",
   "id": "cad67f88",
   "metadata": {},
   "source": [
    "## Part III: Geospatial Vector data in Python\n",
    "\n",
    "*Gabriele Filomena has prepared this notebook by readapting material shared on this [repository](https://github.com/jorisvandenbossche/geopandas-tutorial).\n",
    "Copyright (c) 2018, Joris Van den Bossche.*"
   ]
  },
  {
   "cell_type": "code",
   "execution_count": 2,
   "id": "0fcffe14",
   "metadata": {},
   "outputs": [],
   "source": [
    "%matplotlib inline\n",
    "\n",
    "import geopandas as gpd"
   ]
  },
  {
   "cell_type": "markdown",
   "id": "c12be63a",
   "metadata": {},
   "source": [
    "### Importing geospatial data"
   ]
  },
  {
   "cell_type": "markdown",
   "id": "94a18460",
   "metadata": {},
   "source": [
    "GeoPandas builds on Pandas types `Series` and `Dataframe`, by incorporating information about geographical space.\n",
    "\n",
    "- `GeoSeries`: a Series object designed to store shapely geometry object\n",
    "- `GeoDataFrame`: object is a pandas DataFrame that has a column with geometry (that contains a *Geoseries*)\n",
    "\n",
    "We can use the GeoPandas library to read many of GIS file formats (relying on the `fiona` library under the hood, which is an interface to GDAL/OGR), using the `gpd.read_file` function. For example, let's start by reading a shapefile with all the countries of the world (adapted from http://www.naturalearthdata.com/downloads/110m-cultural-vectors/110m-admin-0-countries/, zip file is available in the `/data` directory), and inspect the data:"
   ]
  },
  {
   "cell_type": "code",
   "execution_count": 75,
   "id": "acce76f7",
   "metadata": {},
   "outputs": [],
   "source": [
    "countries = gpd.read_file(\"../data/ne_countries.zip\")\n",
    "# or if the archive is unpacked:\n",
    "# countries = gpd.read_file(\"../data/ne_countries.shp\")"
   ]
  },
  {
   "cell_type": "code",
   "execution_count": 76,
   "id": "d9166508",
   "metadata": {
    "collapsed": false,
    "jupyter": {
     "outputs_hidden": false
    }
   },
   "outputs": [
    {
     "data": {
      "text/html": [
       "<div>\n",
       "<style scoped>\n",
       "    .dataframe tbody tr th:only-of-type {\n",
       "        vertical-align: middle;\n",
       "    }\n",
       "\n",
       "    .dataframe tbody tr th {\n",
       "        vertical-align: top;\n",
       "    }\n",
       "\n",
       "    .dataframe thead th {\n",
       "        text-align: right;\n",
       "    }\n",
       "</style>\n",
       "<table border=\"1\" class=\"dataframe\">\n",
       "  <thead>\n",
       "    <tr style=\"text-align: right;\">\n",
       "      <th></th>\n",
       "      <th>iso_a3</th>\n",
       "      <th>name</th>\n",
       "      <th>continent</th>\n",
       "      <th>pop_est</th>\n",
       "      <th>gdp_md_est</th>\n",
       "      <th>geometry</th>\n",
       "    </tr>\n",
       "  </thead>\n",
       "  <tbody>\n",
       "    <tr>\n",
       "      <th>0</th>\n",
       "      <td>AFG</td>\n",
       "      <td>Afghanistan</td>\n",
       "      <td>Asia</td>\n",
       "      <td>34124811.0</td>\n",
       "      <td>64080.0</td>\n",
       "      <td>POLYGON ((61.21082 35.65007, 62.23065 35.27066...</td>\n",
       "    </tr>\n",
       "    <tr>\n",
       "      <th>1</th>\n",
       "      <td>AGO</td>\n",
       "      <td>Angola</td>\n",
       "      <td>Africa</td>\n",
       "      <td>29310273.0</td>\n",
       "      <td>189000.0</td>\n",
       "      <td>MULTIPOLYGON (((23.90415 -11.72228, 24.07991 -...</td>\n",
       "    </tr>\n",
       "    <tr>\n",
       "      <th>2</th>\n",
       "      <td>ALB</td>\n",
       "      <td>Albania</td>\n",
       "      <td>Europe</td>\n",
       "      <td>3047987.0</td>\n",
       "      <td>33900.0</td>\n",
       "      <td>POLYGON ((21.02004 40.84273, 20.99999 40.58000...</td>\n",
       "    </tr>\n",
       "    <tr>\n",
       "      <th>3</th>\n",
       "      <td>ARE</td>\n",
       "      <td>United Arab Emirates</td>\n",
       "      <td>Asia</td>\n",
       "      <td>6072475.0</td>\n",
       "      <td>667200.0</td>\n",
       "      <td>POLYGON ((51.57952 24.24550, 51.75744 24.29407...</td>\n",
       "    </tr>\n",
       "    <tr>\n",
       "      <th>4</th>\n",
       "      <td>ARG</td>\n",
       "      <td>Argentina</td>\n",
       "      <td>South America</td>\n",
       "      <td>44293293.0</td>\n",
       "      <td>879400.0</td>\n",
       "      <td>MULTIPOLYGON (((-66.95992 -54.89681, -67.56244...</td>\n",
       "    </tr>\n",
       "  </tbody>\n",
       "</table>\n",
       "</div>"
      ],
      "text/plain": [
       "  iso_a3                  name      continent     pop_est  gdp_md_est  \\\n",
       "0    AFG           Afghanistan           Asia  34124811.0     64080.0   \n",
       "1    AGO                Angola         Africa  29310273.0    189000.0   \n",
       "2    ALB               Albania         Europe   3047987.0     33900.0   \n",
       "3    ARE  United Arab Emirates           Asia   6072475.0    667200.0   \n",
       "4    ARG             Argentina  South America  44293293.0    879400.0   \n",
       "\n",
       "                                            geometry  \n",
       "0  POLYGON ((61.21082 35.65007, 62.23065 35.27066...  \n",
       "1  MULTIPOLYGON (((23.90415 -11.72228, 24.07991 -...  \n",
       "2  POLYGON ((21.02004 40.84273, 20.99999 40.58000...  \n",
       "3  POLYGON ((51.57952 24.24550, 51.75744 24.29407...  \n",
       "4  MULTIPOLYGON (((-66.95992 -54.89681, -67.56244...  "
      ]
     },
     "execution_count": 76,
     "metadata": {},
     "output_type": "execute_result"
    }
   ],
   "source": [
    "countries.head()"
   ]
  },
  {
   "cell_type": "code",
   "execution_count": 77,
   "id": "bb2ba492",
   "metadata": {
    "collapsed": false,
    "jupyter": {
     "outputs_hidden": false
    }
   },
   "outputs": [
    {
     "data": {
      "text/plain": [
       "<Axes: >"
      ]
     },
     "execution_count": 77,
     "metadata": {},
     "output_type": "execute_result"
    },
    {
     "data": {
      "image/png": "[encoded data removed]",
      "text/plain": [
       "<Figure size 640x480 with 1 Axes>"
      ]
     },
     "metadata": {},
     "output_type": "display_data"
    }
   ],
   "source": [
    "countries.plot()"
   ]
  },
  {
   "cell_type": "markdown",
   "id": "70cb9c6d",
   "metadata": {},
   "source": [
    "We observe that:\n",
    "\n",
    "- Using `.head()` we can see the first rows of the dataset, just like we can do with Pandas.\n",
    "- There is a `geometry` column and the different countries are represented as polygons\n",
    "- We can use the `.plot()` (matplotlib) method to quickly get a *basic* visualization of the data"
   ]
  },
  {
   "cell_type": "markdown",
   "id": "49980d29",
   "metadata": {},
   "source": [
    "### What's a GeoDataFrame?\n",
    "\n",
    "We used the GeoPandas library to read in the geospatial data, and this returned us a `GeoDataFrame`:"
   ]
  },
  {
   "cell_type": "code",
   "execution_count": 78,
   "id": "e431eb66",
   "metadata": {
    "collapsed": false,
    "jupyter": {
     "outputs_hidden": false
    }
   },
   "outputs": [
    {
     "data": {
      "text/plain": [
       "geopandas.geodataframe.GeoDataFrame"
      ]
     },
     "execution_count": 78,
     "metadata": {},
     "output_type": "execute_result"
    }
   ],
   "source": [
    "type(countries)"
   ]
  },
  {
   "cell_type": "markdown",
   "id": "299f17fd",
   "metadata": {},
   "source": [
    "A GeoDataFrame contains a tabular, geospatial dataset:\n",
    "\n",
    "* It has a 'geometry' column that holds the geometry information (or features in GeoJSON).\n",
    "* The other columns are the **attributes** (or properties in GeoJSON) that describe each of the geometries.\n",
    "\n",
    "Such a `GeoDataFrame` is just like a pandas `DataFrame`, but with some additional functionality for working with geospatial data:\n",
    "* A `geometry` attribute that always returns the column with the geometry information (returning a `GeoSeries`). The column name itself does not necessarily need to be 'geometry', but it will always be accessible as the `geometry` attribute.\n",
    "* It has some extra methods for working with spatial data (area, distance, buffer, intersection, ...) [see here, for example](https://github.com/jorisvandenbossche/geopandas-tutorial/blob/main/04-spatial-operations-overlays.ipynb)."
   ]
  },
  {
   "cell_type": "code",
   "execution_count": 79,
   "id": "59c7490d",
   "metadata": {
    "collapsed": false,
    "jupyter": {
     "outputs_hidden": false
    }
   },
   "outputs": [
    {
     "data": {
      "text/plain": [
       "0    POLYGON ((61.21082 35.65007, 62.23065 35.27066...\n",
       "1    MULTIPOLYGON (((23.90415 -11.72228, 24.07991 -...\n",
       "2    POLYGON ((21.02004 40.84273, 20.99999 40.58000...\n",
       "3    POLYGON ((51.57952 24.24550, 51.75744 24.29407...\n",
       "4    MULTIPOLYGON (((-66.95992 -54.89681, -67.56244...\n",
       "Name: geometry, dtype: geometry"
      ]
     },
     "execution_count": 79,
     "metadata": {},
     "output_type": "execute_result"
    }
   ],
   "source": [
    "countries.geometry.head()"
   ]
  },
  {
   "cell_type": "code",
   "execution_count": 80,
   "id": "48ad6492",
   "metadata": {
    "collapsed": false,
    "jupyter": {
     "outputs_hidden": false
    }
   },
   "outputs": [
    {
     "data": {
      "text/plain": [
       "geopandas.geoseries.GeoSeries"
      ]
     },
     "execution_count": 80,
     "metadata": {},
     "output_type": "execute_result"
    }
   ],
   "source": [
    "type(countries.geometry)"
   ]
  },
  {
   "cell_type": "code",
   "execution_count": 81,
   "id": "6c0328b4",
   "metadata": {
    "collapsed": false,
    "jupyter": {
     "outputs_hidden": false
    }
   },
   "outputs": [
    {
     "name": "stderr",
     "output_type": "stream",
     "text": [
      "C:\\Users\\gfilo\\AppData\\Local\\Temp\\ipykernel_9708\\3077649407.py:1: UserWarning: Geometry is in a geographic CRS. Results from 'area' are likely incorrect. Use 'GeoSeries.to_crs()' to re-project geometries to a projected CRS before this operation.\n",
      "\n",
      "  countries.geometry.area\n"
     ]
    },
    {
     "data": {
      "text/plain": [
       "0       63.593500\n",
       "1      103.599439\n",
       "2        3.185163\n",
       "3        7.095047\n",
       "4      278.923392\n",
       "          ...    \n",
       "172      0.631326\n",
       "173     38.475618\n",
       "174    112.718524\n",
       "175     62.789498\n",
       "176     32.280371\n",
       "Length: 177, dtype: float64"
      ]
     },
     "execution_count": 81,
     "metadata": {},
     "output_type": "execute_result"
    }
   ],
   "source": [
    "countries.geometry.area"
   ]
  },
  {
   "cell_type": "markdown",
   "id": "b86a5df6",
   "metadata": {},
   "source": [
    "It's still a `DataFrame`, so we have all the `pandas` functionality available to use on the geospatial dataset, and to do data manipulations with the attributes and geometry information together. For example, we can calculate the average population over all countries (by accessing the 'pop_est' column, and calling the `mean` method on it):"
   ]
  },
  {
   "cell_type": "code",
   "execution_count": 82,
   "id": "71925c2e",
   "metadata": {
    "collapsed": false,
    "jupyter": {
     "outputs_hidden": false
    }
   },
   "outputs": [
    {
     "data": {
      "text/plain": [
       "41712369.84180791"
      ]
     },
     "execution_count": 82,
     "metadata": {},
     "output_type": "execute_result"
    }
   ],
   "source": [
    "countries['pop_est'].mean()"
   ]
  },
  {
   "cell_type": "code",
   "execution_count": 83,
   "id": "17600353",
   "metadata": {},
   "outputs": [],
   "source": [
    "africa = countries[countries['continent'] == 'Africa']"
   ]
  },
  {
   "cell_type": "code",
   "execution_count": 84,
   "id": "d2ae141e",
   "metadata": {
    "collapsed": false,
    "jupyter": {
     "outputs_hidden": false
    }
   },
   "outputs": [
    {
     "data": {
      "image/png": "[encoded data removed]",
      "text/plain": [
       "<Figure size 640x480 with 1 Axes>"
      ]
     },
     "metadata": {},
     "output_type": "display_data"
    }
   ],
   "source": [
    "africa.plot();"
   ]
  },
  {
   "cell_type": "markdown",
   "id": "907054af",
   "metadata": {},
   "source": [
    "The rest of the tutorial is going to assume you already know some pandas basics, but we will try to give hints for that part for those that are not familiar."
   ]
  },
  {
   "cell_type": "markdown",
   "id": "7bab2e80",
   "metadata": {},
   "source": [
    "<div class=\"alert alert-info\" style=\"font-size:120%\">\n",
    "\n",
    "**Important:** <br>\n",
    "\n",
    "* A `GeoDataFrame` allows to perform typical tabular data analysis together with spatial operations\n",
    "* A `GeoDataFrame` (or *Feature Collection*) consists of:\n",
    "    * **Geometries** or **features**: the spatial objects\n",
    "    * **Attributes** or **properties**: columns with information about each spatial object\n",
    "\n",
    "</div>"
   ]
  },
  {
   "cell_type": "markdown",
   "id": "3fd94256",
   "metadata": {},
   "source": [
    "### Geometries: Points, Linestrings and Polygons\n",
    "\n",
    "Spatial **vector** data can consist of different types, and the 3 fundamental types are:\n",
    "\n",
    "<img src=\"../img/simple_features_3_text.svg\" width=\"70%\">\n",
    "\n",
    "* **Point** data: represents a single point in space.\n",
    "* **Line** data (\"LineString\"): represents a sequence of points that form a line.\n",
    "* **Polygon** data: represents a filled area.\n",
    "\n",
    "And each of them can also be combined in multi-part geometries (See https://shapely.readthedocs.io/en/stable/manual.html#geometric-objects for extensive overview)."
   ]
  },
  {
   "cell_type": "markdown",
   "id": "85dea254",
   "metadata": {},
   "source": [
    "For the example we have seen up to now, the individual geometry objects are Polygons:"
   ]
  },
  {
   "cell_type": "code",
   "execution_count": 85,
   "id": "c13d0b85",
   "metadata": {
    "collapsed": false,
    "jupyter": {
     "outputs_hidden": false
    }
   },
   "outputs": [
    {
     "name": "stdout",
     "output_type": "stream",
     "text": [
      "POLYGON ((21.0200403174764 40.84272695572588, 20.999989861747224 40.58000397395401, 20.674996779063633 40.43499990494303, 20.615000441172754 40.11000682225935, 20.15001590341052 39.62499766698397, 19.980000441170148 39.69499339452341, 19.960001661873207 39.91500580500605, 19.406081984136733 40.250773423822466, 19.319058872157143 40.72723012955356, 19.40354983895429 41.40956574153546, 19.540027296637106 41.71998607031276, 19.37176883309496 41.877547512370654, 19.37176816334725 41.877550679783496, 19.304486118250793 42.19574514420782, 19.73805138517963 42.68824738216557, 19.801613396898688 42.50009349219084, 20.070700000000045 42.58863000000008, 20.283754510181893 42.32025950781508, 20.522950000000037 42.21787000000006, 20.590246546680227 41.855408919283626, 20.59024743010491 41.855404161133606, 20.463175083099202 41.51508901627534, 20.605181919037364 41.086226304685226, 21.0200403174764 40.84272695572588))\n"
     ]
    }
   ],
   "source": [
    "print(countries.geometry[2])"
   ]
  },
  {
   "cell_type": "markdown",
   "id": "b52b5c03",
   "metadata": {},
   "source": [
    "Let's import some other datasets with different types of geometry objects.\n",
    "\n",
    "A dateset about cities in the world (adapted from http://www.naturalearthdata.com/downloads/110m-cultural-vectors/110m-populated-places/, zip file is available in the `/data` directory), consisting of `Point` data:"
   ]
  },
  {
   "cell_type": "code",
   "execution_count": 86,
   "id": "710dee6a",
   "metadata": {},
   "outputs": [],
   "source": [
    "cities = gpd.read_file(\"../data/ne_cities.zip\")"
   ]
  },
  {
   "cell_type": "code",
   "execution_count": 87,
   "id": "54835809",
   "metadata": {
    "collapsed": false,
    "jupyter": {
     "outputs_hidden": false
    }
   },
   "outputs": [
    {
     "name": "stdout",
     "output_type": "stream",
     "text": [
      "POINT (12.453386544971766 41.903282179960115)\n"
     ]
    }
   ],
   "source": [
    "print(cities.geometry[0])"
   ]
  },
  {
   "cell_type": "markdown",
   "id": "7aec41f0",
   "metadata": {},
   "source": [
    "And a dataset of rivers in the world (from http://www.naturalearthdata.com/downloads/50m-physical-vectors/50m-rivers-lake-centerlines/, zip file is available in the `/data` directory) where each river is a `(Multi-)LineString`:"
   ]
  },
  {
   "cell_type": "code",
   "execution_count": 88,
   "id": "041d3b91",
   "metadata": {},
   "outputs": [],
   "source": [
    "rivers = gpd.read_file(\"../data/ne_rivers.zip\")"
   ]
  },
  {
   "cell_type": "code",
   "execution_count": 89,
   "id": "bb04c316",
   "metadata": {
    "collapsed": false,
    "jupyter": {
     "outputs_hidden": false
    }
   },
   "outputs": [
    {
     "name": "stdout",
     "output_type": "stream",
     "text": [
      "LINESTRING (51.9371337598152 55.70106609892139, 51.880866467313695 55.68625891701544, 51.82031249962222 55.697455145538584, 51.747601827462404 55.69366250841807, 51.6628417966117 55.608172918745254, 51.57871093775964 55.59943268477065, 51.51342773400279 55.58312409100404, 51.508544921610905 55.52948639548083, 51.48583984403365 55.49640534033426, 51.36914062543957 55.46796295772435, 51.213062548697735 55.50264985760492, 51.13452148447897 55.48273346527725, 51.079345702742046 55.46759674659262, 50.98022460947817 55.46637604371949, 50.83445217522774 55.45630956063775, 50.6883789060617 55.42011139502489, 50.4118652342932 55.401190496444315, 50.07802734358711 55.381122137576654, 49.822167968676865 55.334662176818085, 49.53222656260584 55.260614325191, 49.38232421848795 55.17182037990665, 49.24808475131027 55.11301870345045)\n"
     ]
    }
   ],
   "source": [
    "print(rivers.geometry[0])"
   ]
  },
  {
   "cell_type": "markdown",
   "id": "c142bf0f",
   "metadata": {},
   "source": [
    "### The `shapely` library\n",
    "\n",
    "The individual geometry objects are provided by the [`shapely`](https://shapely.readthedocs.io/en/stable/) library"
   ]
  },
  {
   "cell_type": "code",
   "execution_count": 90,
   "id": "1c863e1f",
   "metadata": {},
   "outputs": [],
   "source": [
    "from shapely.geometry import Point, Polygon, LineString"
   ]
  },
  {
   "cell_type": "code",
   "execution_count": 91,
   "id": "77cad2d2",
   "metadata": {
    "collapsed": false,
    "jupyter": {
     "outputs_hidden": false
    }
   },
   "outputs": [
    {
     "data": {
      "text/plain": [
       "shapely.geometry.polygon.Polygon"
      ]
     },
     "execution_count": 91,
     "metadata": {},
     "output_type": "execute_result"
    }
   ],
   "source": [
    "type(countries.geometry[0])"
   ]
  },
  {
   "cell_type": "markdown",
   "id": "96f2679e",
   "metadata": {},
   "source": [
    "To construct one ourselves:"
   ]
  },
  {
   "cell_type": "code",
   "execution_count": 92,
   "id": "faa824c3",
   "metadata": {},
   "outputs": [],
   "source": [
    "p = Point(0, 0)"
   ]
  },
  {
   "cell_type": "code",
   "execution_count": 93,
   "id": "19cf78a4",
   "metadata": {
    "collapsed": false,
    "jupyter": {
     "outputs_hidden": false
    }
   },
   "outputs": [
    {
     "name": "stdout",
     "output_type": "stream",
     "text": [
      "POINT (0 0)\n"
     ]
    }
   ],
   "source": [
    "print(p)"
   ]
  },
  {
   "cell_type": "code",
   "execution_count": 94,
   "id": "d2b3b3e0",
   "metadata": {},
   "outputs": [],
   "source": [
    "polygon = Polygon([(1, 1), (2,2), (2, 1)])"
   ]
  },
  {
   "cell_type": "code",
   "execution_count": 95,
   "id": "47fcb84f",
   "metadata": {
    "collapsed": false,
    "jupyter": {
     "outputs_hidden": false
    }
   },
   "outputs": [
    {
     "data": {
      "text/plain": [
       "0.5"
      ]
     },
     "execution_count": 95,
     "metadata": {},
     "output_type": "execute_result"
    }
   ],
   "source": [
    "polygon.area"
   ]
  },
  {
   "cell_type": "code",
   "execution_count": 96,
   "id": "33958aa5",
   "metadata": {
    "collapsed": false,
    "jupyter": {
     "outputs_hidden": false
    }
   },
   "outputs": [
    {
     "data": {
      "text/plain": [
       "1.4142135623730951"
      ]
     },
     "execution_count": 96,
     "metadata": {},
     "output_type": "execute_result"
    }
   ],
   "source": [
    "polygon.distance(p)"
   ]
  },
  {
   "cell_type": "markdown",
   "id": "3bda7af5",
   "metadata": {},
   "source": [
    "<div class=\"alert alert-info\" style=\"font-size:120%\">\n",
    "\n",
    "**Important**: <br>\n",
    "\n",
    "Single geometries are represented by `shapely` objects:\n",
    "\n",
    "* If you access a single geometry of a GeoDataFrame, you get a shapely geometry object\n",
    "* Those objects have similar functionality as geopandas objects (GeoDataFrame/GeoSeries). For example:\n",
    "    * `single_shapely_object.distance(other_point)` -> distance between two points\n",
    "    * `geodataframe.distance(other_point)` ->  distance for each point in the geodataframe to the other point\n",
    "\n",
    "</div>"
   ]
  },
  {
   "cell_type": "markdown",
   "id": "1a44a53c",
   "metadata": {},
   "source": [
    "### Plotting"
   ]
  },
  {
   "cell_type": "code",
   "execution_count": 107,
   "id": "d5798a2e",
   "metadata": {
    "collapsed": false,
    "jupyter": {
     "outputs_hidden": false
    }
   },
   "outputs": [
    {
     "data": {
      "text/plain": [
       "[(-20.0, 60.0), (-40.0, 40.0)]"
      ]
     },
     "execution_count": 107,
     "metadata": {},
     "output_type": "execute_result"
    },
    {
     "data": {
      "image/png": "[encoded data removed]",
      "text/plain": [
       "<Figure size 1500x1000 with 1 Axes>"
      ]
     },
     "metadata": {},
     "output_type": "display_data"
    }
   ],
   "source": [
    "%matplotlib inline\n",
    "import matplotlib\n",
    "import matplotlib.pyplot as plt\n",
    "\n",
    "fig, ax = plt.subplots(1, 1, figsize=(15, 10))\n",
    "countries.plot(ax = ax, edgecolor='k', facecolor='none')\n",
    "rivers.plot(ax=ax)\n",
    "cities.plot(ax=ax, color='red')\n",
    "ax.set(xlim=(-20, 60), ylim=(-40, 40))"
   ]
  },
  {
   "cell_type": "markdown",
   "id": "899f73e0",
   "metadata": {},
   "source": [
    "### Creating GeoDataFrames (withouth specifying the CRS)"
   ]
  },
  {
   "cell_type": "code",
   "execution_count": 108,
   "id": "40d15397",
   "metadata": {},
   "outputs": [
    {
     "data": {
      "text/html": [
       "<div>\n",
       "<style scoped>\n",
       "    .dataframe tbody tr th:only-of-type {\n",
       "        vertical-align: middle;\n",
       "    }\n",
       "\n",
       "    .dataframe tbody tr th {\n",
       "        vertical-align: top;\n",
       "    }\n",
       "\n",
       "    .dataframe thead th {\n",
       "        text-align: right;\n",
       "    }\n",
       "</style>\n",
       "<table border=\"1\" class=\"dataframe\">\n",
       "  <thead>\n",
       "    <tr style=\"text-align: right;\">\n",
       "      <th></th>\n",
       "      <th>geometry</th>\n",
       "      <th>attribute1</th>\n",
       "      <th>attribute2</th>\n",
       "    </tr>\n",
       "  </thead>\n",
       "  <tbody>\n",
       "    <tr>\n",
       "      <th>0</th>\n",
       "      <td>POINT (1.00000 1.00000)</td>\n",
       "      <td>1</td>\n",
       "      <td>0.1</td>\n",
       "    </tr>\n",
       "    <tr>\n",
       "      <th>1</th>\n",
       "      <td>POINT (2.00000 2.00000)</td>\n",
       "      <td>2</td>\n",
       "      <td>0.2</td>\n",
       "    </tr>\n",
       "  </tbody>\n",
       "</table>\n",
       "</div>"
      ],
      "text/plain": [
       "                  geometry  attribute1  attribute2\n",
       "0  POINT (1.00000 1.00000)           1         0.1\n",
       "1  POINT (2.00000 2.00000)           2         0.2"
      ]
     },
     "execution_count": 108,
     "metadata": {},
     "output_type": "execute_result"
    }
   ],
   "source": [
    "gpd.GeoDataFrame({\n",
    "    'geometry': [Point(1, 1), Point(2, 2)],\n",
    "    'attribute1': [1, 2],\n",
    "    'attribute2': [0.1, 0.2]})"
   ]
  },
  {
   "cell_type": "code",
   "execution_count": 109,
   "id": "ba19320f",
   "metadata": {},
   "outputs": [],
   "source": [
    "# Creating a GeoDataFrame from an existing dataframe\n",
    "# For example, if you have lat/lon coordinates in two columns:\n",
    "df = pd.DataFrame(\n",
    "    {'City': ['Buenos Aires', 'Brasilia', 'Santiago', 'Bogota', 'Caracas'],\n",
    "     'Country': ['Argentina', 'Brazil', 'Chile', 'Colombia', 'Venezuela'],\n",
    "     'Latitude': [-34.58, -15.78, -33.45, 4.60, 10.48],\n",
    "     'Longitude': [-58.66, -47.91, -70.66, -74.08, -66.86]})"
   ]
  },
  {
   "cell_type": "code",
   "execution_count": 110,
   "id": "3dfa9174",
   "metadata": {},
   "outputs": [
    {
     "data": {
      "text/html": [
       "<div>\n",
       "<style scoped>\n",
       "    .dataframe tbody tr th:only-of-type {\n",
       "        vertical-align: middle;\n",
       "    }\n",
       "\n",
       "    .dataframe tbody tr th {\n",
       "        vertical-align: top;\n",
       "    }\n",
       "\n",
       "    .dataframe thead th {\n",
       "        text-align: right;\n",
       "    }\n",
       "</style>\n",
       "<table border=\"1\" class=\"dataframe\">\n",
       "  <thead>\n",
       "    <tr style=\"text-align: right;\">\n",
       "      <th></th>\n",
       "      <th>City</th>\n",
       "      <th>Country</th>\n",
       "      <th>Latitude</th>\n",
       "      <th>Longitude</th>\n",
       "      <th>geometry</th>\n",
       "    </tr>\n",
       "  </thead>\n",
       "  <tbody>\n",
       "    <tr>\n",
       "      <th>0</th>\n",
       "      <td>Buenos Aires</td>\n",
       "      <td>Argentina</td>\n",
       "      <td>-34.58</td>\n",
       "      <td>-58.66</td>\n",
       "      <td>POINT (-58.66000 -34.58000)</td>\n",
       "    </tr>\n",
       "    <tr>\n",
       "      <th>1</th>\n",
       "      <td>Brasilia</td>\n",
       "      <td>Brazil</td>\n",
       "      <td>-15.78</td>\n",
       "      <td>-47.91</td>\n",
       "      <td>POINT (-47.91000 -15.78000)</td>\n",
       "    </tr>\n",
       "    <tr>\n",
       "      <th>2</th>\n",
       "      <td>Santiago</td>\n",
       "      <td>Chile</td>\n",
       "      <td>-33.45</td>\n",
       "      <td>-70.66</td>\n",
       "      <td>POINT (-70.66000 -33.45000)</td>\n",
       "    </tr>\n",
       "    <tr>\n",
       "      <th>3</th>\n",
       "      <td>Bogota</td>\n",
       "      <td>Colombia</td>\n",
       "      <td>4.60</td>\n",
       "      <td>-74.08</td>\n",
       "      <td>POINT (-74.08000 4.60000)</td>\n",
       "    </tr>\n",
       "    <tr>\n",
       "      <th>4</th>\n",
       "      <td>Caracas</td>\n",
       "      <td>Venezuela</td>\n",
       "      <td>10.48</td>\n",
       "      <td>-66.86</td>\n",
       "      <td>POINT (-66.86000 10.48000)</td>\n",
       "    </tr>\n",
       "  </tbody>\n",
       "</table>\n",
       "</div>"
      ],
      "text/plain": [
       "           City    Country  Latitude  Longitude                     geometry\n",
       "0  Buenos Aires  Argentina    -34.58     -58.66  POINT (-58.66000 -34.58000)\n",
       "1      Brasilia     Brazil    -15.78     -47.91  POINT (-47.91000 -15.78000)\n",
       "2      Santiago      Chile    -33.45     -70.66  POINT (-70.66000 -33.45000)\n",
       "3        Bogota   Colombia      4.60     -74.08    POINT (-74.08000 4.60000)\n",
       "4       Caracas  Venezuela     10.48     -66.86   POINT (-66.86000 10.48000)"
      ]
     },
     "execution_count": 110,
     "metadata": {},
     "output_type": "execute_result"
    }
   ],
   "source": [
    "gdf = gpd.GeoDataFrame(df, geometry=gpd.points_from_xy(df.Longitude, df.Latitude))\n",
    "gdf"
   ]
  },
  {
   "cell_type": "markdown",
   "id": "00b75087",
   "metadata": {},
   "source": [
    "# Practice\n",
    "\n",
    "Throughout the exercises in this course, we will work with several datasets about the city of Paris.\n",
    "\n",
    "Here, we start with the following datasets:\n",
    "\n",
    "- The administrative districts of Paris (https://opendata.paris.fr/explore/dataset/quartier_paris/): `paris_districts_utm.geojson`\n",
    "- Real-time (at the moment I downloaded them ..) information about the public bicycle sharing system in Paris (vélib, https://opendata.paris.fr/explore/dataset/stations-velib-disponibilites-en-temps-reel/information/): `data/paris_bike_stations_mercator.gpkg`\n",
    "\n",
    "Both datasets are provided as spatial datasets using a GIS file format."
   ]
  },
  {
   "cell_type": "markdown",
   "id": "80a4e76a",
   "metadata": {},
   "source": [
    "<div class=\"alert alert-success\">\n",
    "\n",
    "**Excercise 1**:\n",
    "\n",
    "We will start with exploring the bicycle station dataset (available as a GeoPackage file: `data/paris_bike_stations_mercator.gpkg`)\n",
    "    \n",
    "* Read the stations datasets into a GeoDataFrame called `stations`.\n",
    "* Check the type of the returned object\n",
    "* Check the first rows of the dataframes. What kind of geometries does this datasets contain?\n",
    "* How many features are there in the dataset? \n",
    "    \n",
    "<details><summary>Hints</summary>\n",
    "\n",
    "* Use `type(..)` to check any Python object type\n",
    "* The `gpd.read_file()` function can read different geospatial file formats. You pass the file name as first argument.\n",
    "* Use the `.shape` attribute to get the number of features\n",
    "\n",
    "</details>\n",
    "    \n",
    "</div>"
   ]
  },
  {
   "cell_type": "code",
   "execution_count": null,
   "id": "b32f4421",
   "metadata": {
    "collapsed": false,
    "jupyter": {
     "outputs_hidden": false
    },
    "tags": [
     "nbtutor-solution"
    ]
   },
   "outputs": [],
   "source": []
  },
  {
   "cell_type": "code",
   "execution_count": null,
   "id": "0d6591ff",
   "metadata": {
    "collapsed": false,
    "jupyter": {
     "outputs_hidden": false
    },
    "tags": [
     "nbtutor-solution"
    ]
   },
   "outputs": [],
   "source": []
  },
  {
   "cell_type": "code",
   "execution_count": null,
   "id": "24e33522",
   "metadata": {
    "collapsed": false,
    "jupyter": {
     "outputs_hidden": false
    },
    "tags": [
     "nbtutor-solution"
    ]
   },
   "outputs": [],
   "source": []
  },
  {
   "cell_type": "markdown",
   "id": "d4e0ac97",
   "metadata": {},
   "source": [
    "<div class=\"alert alert-success\">\n",
    "\n",
    "**Exercise 2**:\n",
    "\n",
    "* Make a quick plot of the `stations` dataset.\n",
    "* Make the plot a bit larger by setting the figure size to (12, 6) (hint: the `plot` method accepts a `figsize` keyword).\n",
    " \n",
    "</div>"
   ]
  },
  {
   "cell_type": "code",
   "execution_count": null,
   "id": "a01bbf49",
   "metadata": {
    "collapsed": false,
    "jupyter": {
     "outputs_hidden": false
    },
    "tags": [
     "nbtutor-solution"
    ]
   },
   "outputs": [],
   "source": []
  },
  {
   "cell_type": "code",
   "execution_count": null,
   "id": "cbba049a",
   "metadata": {
    "tags": [
     "nbtutor-solution"
    ]
   },
   "outputs": [],
   "source": []
  },
  {
   "cell_type": "markdown",
   "id": "6cf598e1",
   "metadata": {},
   "source": [
    "<div class=\"alert alert-success\">\n",
    "\n",
    "**Exercise 3**:\n",
    "\n",
    "Next, we will explore the dataset on the administrative districts of Paris (available as a GeoJSON file: \"../data/paris_districts_utm.geojson\")\n",
    "\n",
    "* Read the dataset into a GeoDataFrame called `districts`.\n",
    "* Check the first rows of the dataframe. What kind of geometries does this dataset contain?\n",
    "* How many features are there in the dataset? (hint: use the `.shape` attribute)\n",
    "* Make a quick plot of the `districts` dataset (set the figure size to (12, 6)).\n",
    "    \n",
    "</div>"
   ]
  },
  {
   "cell_type": "code",
   "execution_count": null,
   "id": "88bc530e",
   "metadata": {
    "tags": [
     "nbtutor-solution"
    ]
   },
   "outputs": [],
   "source": []
  },
  {
   "cell_type": "code",
   "execution_count": null,
   "id": "2e9f42af",
   "metadata": {
    "collapsed": false,
    "jupyter": {
     "outputs_hidden": false
    },
    "tags": [
     "nbtutor-solution"
    ]
   },
   "outputs": [],
   "source": []
  },
  {
   "cell_type": "markdown",
   "id": "5a82e800",
   "metadata": {},
   "source": [
    "<div class=\"alert alert-success\">\n",
    "\n",
    "**Exercise 4**:\n",
    "    \n",
    "What are the largest districts (biggest area)?\n",
    "\n",
    "* Calculate the area of each district.\n",
    "* Add this area as a new column to the `districts` dataframe.\n",
    "* Sort the dataframe by this area column for largest to smallest values (descending).\n",
    "\n",
    "<details><summary>Hints</summary>\n",
    "\n",
    "* Adding a column can be done by assigning values to a column using the same square brackets syntax: `df['new_col'] = values`\n",
    "* To sort the rows of a DataFrame, use the `sort_values()` method, specifying the colum to sort on with the `by='col_name'` keyword. Check the help of this method to see how to sort ascending or descending.\n",
    "\n",
    "</details>\n",
    "\n",
    "</div>"
   ]
  },
  {
   "cell_type": "code",
   "execution_count": null,
   "id": "bfd49976",
   "metadata": {
    "collapsed": false,
    "jupyter": {
     "outputs_hidden": false
    },
    "tags": [
     "nbtutor-solution"
    ]
   },
   "outputs": [],
   "source": []
  },
  {
   "cell_type": "code",
   "execution_count": null,
   "id": "c1ce7256",
   "metadata": {
    "tags": [
     "nbtutor-solution"
    ]
   },
   "outputs": [],
   "source": []
  },
  {
   "cell_type": "code",
   "execution_count": null,
   "id": "7d9465c0",
   "metadata": {
    "collapsed": false,
    "jupyter": {
     "outputs_hidden": false
    },
    "tags": [
     "nbtutor-solution"
    ]
   },
   "outputs": [],
   "source": []
  },
  {
   "cell_type": "markdown",
   "id": "6e1e0855",
   "metadata": {},
   "source": [
    "## Part IV: Coordinate reference systems & Projections"
   ]
  },
  {
   "cell_type": "markdown",
   "id": "326ed7aa",
   "metadata": {},
   "source": [
    "*Gabriele Filomena has prepared this notebook by readapting material shared on this [repository](https://github.com/jorisvandenbossche/geopandas-tutorial).\n",
    "Copyright (c) 2018, Joris Van den Bossche.*"
   ]
  },
  {
   "cell_type": "code",
   "execution_count": 3,
   "id": "363ef29e",
   "metadata": {},
   "outputs": [],
   "source": [
    "countries = gpd.read_file(\"../data/ne_countries.zip\")\n",
    "cities = gpd.read_file(\"../data/ne_cities.zip\")\n",
    "rivers = gpd.read_file(\"../data/ne_rivers.zip\")"
   ]
  },
  {
   "cell_type": "markdown",
   "id": "a460b644",
   "metadata": {},
   "source": [
    "### Coordinate reference systems\n",
    "\n",
    "Up to now, we have used the geometry data with certain coordinates without further wondering what those coordinates mean or how they are expressed.\n",
    "\n",
    "> The **Coordinate Reference System (CRS)** relates the coordinates to a specific location on earth.\n",
    "\n",
    "For an in-depth explanation, see https://docs.qgis.org/2.8/en/docs/gentle_gis_introduction/coordinate_reference_systems.html"
   ]
  },
  {
   "cell_type": "markdown",
   "id": "08013d75",
   "metadata": {},
   "source": [
    "#### Geographic coordinates\n",
    "\n",
    "> Degrees of latitude and longitude.\n",
    ">\n",
    "> E.g. 48°51′N, 2°17′E\n",
    "\n",
    "The most known type of coordinates are geographic coordinates: we define a position on the globe in degrees of latitude and longitude, relative to the equator and the prime meridian. \n",
    "With this system, we can easily specify any location on earth. It is used widely, for example in GPS. If you inspect the coordinates of a location in Google Maps, you will also see latitude and longitude.\n",
    "\n",
    "**Attention!**\n",
    "\n",
    "in Python we use (lon, lat) and not (lat, lon)\n",
    "\n",
    "- Longitude: [-180, 180]{{1}}\n",
    "- Latitude: [-90, 90]{{1}}"
   ]
  },
  {
   "cell_type": "markdown",
   "id": "106bef5e",
   "metadata": {},
   "source": [
    "### Projected coordinates\n",
    "\n",
    "> `(x, y)` coordinates are usually in meters or feet\n",
    "\n",
    "Although the earth is a globe, in practice we usually represent it on a flat surface: think about a physical map, or the figures we have made with Python on our computer screen.\n",
    "Going from the globe to a flat map is what we call a *projection*.\n",
    "\n",
    "<img src=\"../img/projection.png\" width = 70%>\n",
    "\n",
    "We project the surface of the earth onto a 2D plane so we can express locations in cartesian x and y coordinates, on a flat surface. In this plane, we then typically work with a length unit such as meters instead of degrees, which makes the analysis more convenient and effective.\n",
    "\n",
    "However, there is an important remark: the 3 dimensional earth can never be represented perfectly on a 2 dimensional map, so projections inevitably introduce distortions. To minimize such errors, there are different approaches to project, each with specific advantages and disadvantages.\n",
    "\n",
    "Some projection systems will try to preserve the area size of geometries, such as the Albers Equal Area projection. Other projection systems try to preserve angles, such as the Mercator projection, but will see big distortions in the area. Every projection system will always have some distortion of area, angle or distance.\n",
    "\n",
    "<table><tr>\n",
    "<td> <img src=\"../img/projections-AlbersEqualArea.png\"> </td>\n",
    "<td> <img src=\"../img/projections-Mercator.png\"> </td>\n",
    "</tr>\n",
    "<tr>\n",
    "<td> <img src=\"../img/projections-Robinson.png\"> </td>\n",
    "</tr></table>"
   ]
  },
  {
   "cell_type": "markdown",
   "id": "d072dfa2",
   "metadata": {},
   "source": [
    "**Projected size vs actual size (Mercator projection)**:\n",
    "<img src=\"../img/mercator_projection_area.gif\">"
   ]
  },
  {
   "cell_type": "markdown",
   "id": "3c9124bc",
   "metadata": {},
   "source": [
    "### Coordinate Reference Systems in Python / GeoPandas"
   ]
  },
  {
   "cell_type": "markdown",
   "id": "231ca5d1",
   "metadata": {},
   "source": [
    "A GeoDataFrame or GeoSeries has a `.crs` attribute which holds (optionally) a description of the coordinate reference system of the geometries:"
   ]
  },
  {
   "cell_type": "code",
   "execution_count": 112,
   "id": "0cea18d0",
   "metadata": {
    "collapsed": false,
    "jupyter": {
     "outputs_hidden": false
    }
   },
   "outputs": [
    {
     "data": {
      "text/plain": [
       "<Geographic 2D CRS: EPSG:4326>\n",
       "Name: WGS 84\n",
       "Axis Info [ellipsoidal]:\n",
       "- Lat[north]: Geodetic latitude (degree)\n",
       "- Lon[east]: Geodetic longitude (degree)\n",
       "Area of Use:\n",
       "- name: World.\n",
       "- bounds: (-180.0, -90.0, 180.0, 90.0)\n",
       "Datum: World Geodetic System 1984 ensemble\n",
       "- Ellipsoid: WGS 84\n",
       "- Prime Meridian: Greenwich"
      ]
     },
     "execution_count": 112,
     "metadata": {},
     "output_type": "execute_result"
    }
   ],
   "source": [
    "countries.crs"
   ]
  },
  {
   "cell_type": "markdown",
   "id": "70799851",
   "metadata": {},
   "source": [
    "For the `countries` dataframe, it indicates that it uses the EPSG 4326 / WGS84 lon/lat reference system, which is one of the most used for geographic coordinates.\n",
    "\n",
    "\n",
    "It uses coordinates as latitude and longitude in degrees, as can you be seen from the x/y labels on the plot:"
   ]
  },
  {
   "cell_type": "code",
   "execution_count": 113,
   "id": "55e15c97",
   "metadata": {
    "collapsed": false,
    "jupyter": {
     "outputs_hidden": false
    }
   },
   "outputs": [
    {
     "data": {
      "text/plain": [
       "<Axes: >"
      ]
     },
     "execution_count": 113,
     "metadata": {},
     "output_type": "execute_result"
    },
    {
     "data": {
      "image/png": "[encoded data removed]",
      "text/plain": [
       "<Figure size 640x480 with 1 Axes>"
      ]
     },
     "metadata": {},
     "output_type": "display_data"
    }
   ],
   "source": [
    "countries.plot()"
   ]
  },
  {
   "cell_type": "markdown",
   "id": "4f35f7f7",
   "metadata": {},
   "source": [
    "The `.crs` attribute returns a `pyproj.CRS` object. To specify a CRS, we typically use some string representation:\n",
    "\n",
    "- **EPSG code**\n",
    "  Example: `EPSG:4326` = WGS84 geographic CRS (longitude, latitude)\n",
    "  \n",
    "For more information, see also http://geopandas.readthedocs.io/en/latest/projections.html."
   ]
  },
  {
   "cell_type": "markdown",
   "id": "1e8ba3db",
   "metadata": {},
   "source": [
    "#### Transforming to another CRS\n",
    "\n",
    "We can convert a GeoDataFrame to another reference system using the `to_crs` function. \n",
    "\n",
    "For example, let's convert the countries to the World Mercator projection (http://epsg.io/3395):"
   ]
  },
  {
   "cell_type": "code",
   "execution_count": 116,
   "id": "08c37a78",
   "metadata": {},
   "outputs": [
    {
     "data": {
      "text/plain": [
       "<Axes: >"
      ]
     },
     "execution_count": 116,
     "metadata": {},
     "output_type": "execute_result"
    },
    {
     "data": {
      "image/png": "[encoded data removed]",
      "text/plain": [
       "<Figure size 640x480 with 1 Axes>"
      ]
     },
     "metadata": {},
     "output_type": "display_data"
    }
   ],
   "source": [
    "# remove Antartica, as the Mercator projection cannot deal with the poles\n",
    "countries = countries[(countries['name'] != \"Antarctica\")]\n",
    "countries_mercator = countries.to_crs(epsg=3395)  # or .to_crs(\"EPSG:3395\")\n",
    "countries_mercator.plot()"
   ]
  },
  {
   "cell_type": "markdown",
   "id": "575fcd97",
   "metadata": {},
   "source": [
    "Note the different scale of x and y."
   ]
  },
  {
   "cell_type": "markdown",
   "id": "a148bcd7",
   "metadata": {},
   "source": [
    "#### Why using a different CRS?\n",
    "\n",
    "There are sometimes good reasons you want to change the coordinate references system of your dataset, for example:\n",
    "\n",
    "- Different sources with different CRS -> need to convert to the same crs.   \n",
    "- Different countries/geographical areas with different CRS.\n",
    "- Mapping (distortion of shape and distances).\n",
    "- Distance / area based calculations -> ensure you use an appropriate projected coordinate system expressed in a meaningful unit such as meters or feet (**not degrees!**)."
   ]
  },
  {
   "cell_type": "markdown",
   "id": "7ecf91a0-1b1f-4a2e-bc8e-8d73e885e42b",
   "metadata": {},
   "source": [
    "<div class=\"alert alert-info\" style=\"font-size:120%\">\n",
    "\n",
    "**Important:**\n",
    "\n",
    "All the calculations (e.g. distance, spatial operations, etc.) that happen in `GeoPandas` and `Shapely` assume that your data is in a 2D cartesian plane, and thus the result of those calculations will only be correct if your data is properly projected.\n",
    "\n",
    "</div>"
   ]
  },
  {
   "cell_type": "markdown",
   "id": "d7a852af",
   "metadata": {},
   "source": [
    "## Practice\n",
    "\n",
    "Again, we will go back to the Paris datasets. Up to now, we provided the datasets in an appropriate projected CRS for the exercises. But the original data were actually using geographic coordinates. In the following exercises, we will start from there."
   ]
  },
  {
   "cell_type": "markdown",
   "id": "11950380",
   "metadata": {},
   "source": [
    "Going back to the Paris districts dataset, this is now provided as a GeoJSON file (`\"../data/paris_districts.geojson\"`) in geographic coordinates.\n",
    "\n",
    "For converting to projected coordinates, we will use the standard projected CRS for France is the RGF93 / Lambert-93 reference system, referenced by the `EPSG:2154` number.\n",
    "\n",
    "<div class=\"alert alert-success\">\n",
    "\n",
    "**Exercise: Projecting a GeoDataFrame**\n",
    "\n",
    "* Read the districts datasets (`../data/paris_districts.geojson\"`) into a GeoDataFrame called `districts`.\n",
    "* Look at the CRS attribute of the GeoDataFrame. Do you recognize the EPSG number?\n",
    "* Make a plot of the `districts` dataset.\n",
    "* Calculate the area of all districts.\n",
    "* Convert the `districts` to a projected CRS (using the `EPSG:2154` for France). Call the new dataset `districts_RGF93`.\n",
    "* Make a similar plot of `districts_RGF93`.\n",
    "* Calculate the area of all districts again with `districts_RGF93` (the result will now be expressed in m²).\n",
    "    \n",
    "    \n",
    "<details><summary>Hints</summary>\n",
    "\n",
    "* The CRS information is stored in the `.crs` attribute of a GeoDataFrame.\n",
    "* Making a simple plot of a GeoDataFrame can be done with the `.plot()` method.\n",
    "* Converting to a different CRS can be done with the `.to_crs()` method, and the CRS can be specified as an EPSG number using the `epsg` keyword.\n",
    "\n",
    "</details>\n",
    "\n",
    "</div>"
   ]
  }
 ],
 "metadata": {
  "kernelspec": {
   "display_name": "Python 3 (ipykernel)",
   "language": "python",
   "name": "python3"
  },
  "language_info": {
   "codemirror_mode": {
    "name": "ipython",
    "version": 3
   },
   "file_extension": ".py",
   "mimetype": "text/x-python",
   "name": "python",
   "nbconvert_exporter": "python",
   "pygments_lexer": "ipython3",
   "version": "3.11.5"
  }
 },
 "nbformat": 4,
 "nbformat_minor": 5
}
