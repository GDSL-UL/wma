{
 "cells": [
  {
   "cell_type": "raw",
   "id": "ce96ddaf-e966-4bf3-9144-0b7bd3e9b79d",
   "metadata": {},
   "source": [
    "---\n",
    "title: \"Data Architectures and Tiles\"\n",
    "author: \"Elisabetta Pietrostefani\"\n",
    "date: \"January 10th, 2024\"\n",
    "format: \n",
    "  html: \n",
    "    code-fold: true\n",
    "---"
   ]
  },
  {
   "cell_type": "markdown",
   "id": "22ce2a5a-384d-4580-ba4a-80f9387b4b6f",
   "metadata": {},
   "source": [
    "# Data architectures\n",
    "\n",
    "In this lab, we will explore and familiarise with some of the most common data formats for web mapping: GeoJSON and Mbtiles. "
   ]
  },
  {
   "cell_type": "markdown",
   "id": "f815e84e-5cc9-4d60-861a-47bbc67bd04a",
   "metadata": {},
   "source": [
    "## 3.1 GeoJSON\n",
    "\n",
    "To get familiar with the format, we will start by creating a GeoJSON file from scratch. Head over to the following website:\n",
    "\n",
    "<https://geojson.io/>\n",
    "\n",
    "In there, we will create together a small example to better understand the building blocks of this file format.\n",
    "\n",
    "<img src=img/geojson.png/ width=\"80%\">\n",
    "\n",
    "We will pay special attention to the following aspects:\n",
    "\n",
    "-   Readability.\n",
    "-   Coordinate system.\n",
    "-   Ability to add non-spatial information attached to each record.\n",
    "-   How to save it as a file."
   ]
  },
  {
   "cell_type": "markdown",
   "id": "4f844a94-3ecf-4b66-b7c1-5338a16d8860",
   "metadata": {},
   "source": [
    "<div class=\"alert alert-success\">\n",
    "\n",
    "**Excercise**:\n",
    "\n",
    "Create a GeoJSON file for the following data and save them to separate files:\n",
    "\n",
    "1.  Your five favourite spots in Liverpool\n",
    "2.  A polygon of what you consider to be the boundary of the neighbourhood where you live and the city centre of Liverpool. Name each.\n",
    "3.  A route that captures one of your favorite walks around the Liverpool region\n",
    "\n",
    "If you are comfortable, upload the files to Microsoft Teams to share them with peers.\n",
    "\n",
    "</div>"
   ]
  },
  {
   "cell_type": "markdown",
   "id": "bcbd4816-0ffa-4b63-90f0-478f0ae21fb6",
   "metadata": {},
   "source": [
    "### 3.1.1 GeoJSON in Python\n",
    "\n",
    "With the files from the exercise at hand, we will learn how to open them in a Python environment. Then, let's begin by importing the necessary libraries; `geojson`is used for handling GeoJSON files."
   ]
  },
  {
   "cell_type": "code",
   "execution_count": 2,
   "id": "2a9a4cda-c8bf-4872-9dd3-8d055b280428",
   "metadata": {},
   "outputs": [],
   "source": [
    "import geopandas as gpd\n",
    "import geojson"
   ]
  },
  {
   "cell_type": "markdown",
   "id": "261e1e9c-54fe-49d8-948e-3e5f21a47466",
   "metadata": {},
   "source": [
    "Now, place the .geojson files you have created in the data folder used in these sessions. As always, the data folder should be stored in the directory where the notebook is running from. For this example, we will assume that the file is called `map.geojson`. We can read the file as:"
   ]
  },
  {
   "cell_type": "code",
   "execution_count": 36,
   "id": "152216fe-ddfa-4b47-8121-0b23456a7d72",
   "metadata": {},
   "outputs": [
    {
     "data": {
      "text/html": [
       "<div>\n",
       "<style scoped>\n",
       "    .dataframe tbody tr th:only-of-type {\n",
       "        vertical-align: middle;\n",
       "    }\n",
       "\n",
       "    .dataframe tbody tr th {\n",
       "        vertical-align: top;\n",
       "    }\n",
       "\n",
       "    .dataframe thead th {\n",
       "        text-align: right;\n",
       "    }\n",
       "</style>\n",
       "<table border=\"1\" class=\"dataframe\">\n",
       "  <thead>\n",
       "    <tr style=\"text-align: right;\">\n",
       "      <th></th>\n",
       "      <th>geometry</th>\n",
       "    </tr>\n",
       "  </thead>\n",
       "  <tbody>\n",
       "    <tr>\n",
       "      <th>0</th>\n",
       "      <td>POINT (-2.95623 53.39041)</td>\n",
       "    </tr>\n",
       "    <tr>\n",
       "      <th>1</th>\n",
       "      <td>LINESTRING (-2.95561 53.39037, -2.95555 53.389...</td>\n",
       "    </tr>\n",
       "    <tr>\n",
       "      <th>2</th>\n",
       "      <td>POLYGON ((-2.96760 53.40312, -2.96760 53.40017...</td>\n",
       "    </tr>\n",
       "  </tbody>\n",
       "</table>\n",
       "</div>"
      ],
      "text/plain": [
       "                                            geometry\n",
       "0                          POINT (-2.95623 53.39041)\n",
       "1  LINESTRING (-2.95561 53.39037, -2.95555 53.389...\n",
       "2  POLYGON ((-2.96760 53.40312, -2.96760 53.40017..."
      ]
     },
     "execution_count": 36,
     "metadata": {},
     "output_type": "execute_result"
    }
   ],
   "source": [
    "liverpool = gpd.read_file(\"data/map.geojson\")\n",
    "liverpool.head()"
   ]
  },
  {
   "cell_type": "markdown",
   "id": "1553d7be-8a8d-4b24-b019-3f077867344f",
   "metadata": {},
   "source": [
    "We can also plot and explore the content of the GeoDataFrame with `Folium`. Folium, which we will see more in detail later on, helps create interactive maps from data stored in `geopandas.GeoDataFrame`."
   ]
  },
  {
   "cell_type": "code",
   "execution_count": 37,
   "id": "f611c608-3600-41ca-8bf6-4c958b9d818b",
   "metadata": {},
   "outputs": [
    {
     "data": {
      "text/html": [
       "<div style=\"width:100%;\"><div style=\"position:relative;width:100%;height:0;padding-bottom:60%;\"><span style=\"color:#565656\">Make this Notebook Trusted to load map: File -> Trust Notebook</span><iframe srcdoc=\"&lt;!DOCTYPE html&gt;\n",
       "&lt;html&gt;\n",
       "&lt;head&gt;\n",
       "    \n",
       "    &lt;meta http-equiv=&quot;content-type&quot; content=&quot;text/html; charset=UTF-8&quot; /&gt;\n",
       "    \n",
       "        &lt;script&gt;\n",
       "            L_NO_TOUCH = false;\n",
       "            L_DISABLE_3D = false;\n",
       "        &lt;/script&gt;\n",
       "    \n",
       "    &lt;style&gt;html, body {width: 100%;height: 100%;margin: 0;padding: 0;}&lt;/style&gt;\n",
       "    &lt;style&gt;#map {position:absolute;top:0;bottom:0;right:0;left:0;}&lt;/style&gt;\n",
       "    &lt;script src=&quot;https://cdn.jsdelivr.net/npm/leaflet@1.9.3/dist/leaflet.js&quot;&gt;&lt;/script&gt;\n",
       "    &lt;script src=&quot;https://code.jquery.com/jquery-3.7.1.min.js&quot;&gt;&lt;/script&gt;\n",
       "    &lt;script src=&quot;https://cdn.jsdelivr.net/npm/bootstrap@5.2.2/dist/js/bootstrap.bundle.min.js&quot;&gt;&lt;/script&gt;\n",
       "    &lt;script src=&quot;https://cdnjs.cloudflare.com/ajax/libs/Leaflet.awesome-markers/2.0.2/leaflet.awesome-markers.js&quot;&gt;&lt;/script&gt;\n",
       "    &lt;link rel=&quot;stylesheet&quot; href=&quot;https://cdn.jsdelivr.net/npm/leaflet@1.9.3/dist/leaflet.css&quot;/&gt;\n",
       "    &lt;link rel=&quot;stylesheet&quot; href=&quot;https://cdn.jsdelivr.net/npm/bootstrap@5.2.2/dist/css/bootstrap.min.css&quot;/&gt;\n",
       "    &lt;link rel=&quot;stylesheet&quot; href=&quot;https://netdna.bootstrapcdn.com/bootstrap/3.0.0/css/bootstrap.min.css&quot;/&gt;\n",
       "    &lt;link rel=&quot;stylesheet&quot; href=&quot;https://cdn.jsdelivr.net/npm/@fortawesome/fontawesome-free@6.2.0/css/all.min.css&quot;/&gt;\n",
       "    &lt;link rel=&quot;stylesheet&quot; href=&quot;https://cdnjs.cloudflare.com/ajax/libs/Leaflet.awesome-markers/2.0.2/leaflet.awesome-markers.css&quot;/&gt;\n",
       "    &lt;link rel=&quot;stylesheet&quot; href=&quot;https://cdn.jsdelivr.net/gh/python-visualization/folium/folium/templates/leaflet.awesome.rotate.min.css&quot;/&gt;\n",
       "    \n",
       "            &lt;meta name=&quot;viewport&quot; content=&quot;width=device-width,\n",
       "                initial-scale=1.0, maximum-scale=1.0, user-scalable=no&quot; /&gt;\n",
       "            &lt;style&gt;\n",
       "                #map_ac23909d18a14a7a966252af7601a1f3 {\n",
       "                    position: relative;\n",
       "                    width: 100.0%;\n",
       "                    height: 100.0%;\n",
       "                    left: 0.0%;\n",
       "                    top: 0.0%;\n",
       "                }\n",
       "                .leaflet-container { font-size: 1rem; }\n",
       "            &lt;/style&gt;\n",
       "        \n",
       "&lt;/head&gt;\n",
       "&lt;body&gt;\n",
       "    \n",
       "    \n",
       "            &lt;div class=&quot;folium-map&quot; id=&quot;map_ac23909d18a14a7a966252af7601a1f3&quot; &gt;&lt;/div&gt;\n",
       "        \n",
       "&lt;/body&gt;\n",
       "&lt;script&gt;\n",
       "    \n",
       "    \n",
       "            var map_ac23909d18a14a7a966252af7601a1f3 = L.map(\n",
       "                &quot;map_ac23909d18a14a7a966252af7601a1f3&quot;,\n",
       "                {\n",
       "                    center: [53.41058, -2.97794],\n",
       "                    crs: L.CRS.EPSG3857,\n",
       "                    zoom: 13,\n",
       "                    zoomControl: true,\n",
       "                    preferCanvas: false,\n",
       "                }\n",
       "            );\n",
       "\n",
       "            \n",
       "\n",
       "        \n",
       "    \n",
       "            var tile_layer_b94bc6588862273dcbf3479f33ec7c08 = L.tileLayer(\n",
       "                &quot;https://{s}.basemaps.cartocdn.com/dark_nolabels/{z}/{x}/{y}{r}.png&quot;,\n",
       "                {&quot;attribution&quot;: &quot;\\u0026copy; \\u003ca href=\\&quot;https://www.openstreetmap.org/copyright\\&quot;\\u003eOpenStreetMap\\u003c/a\\u003e contributors \\u0026copy; \\u003ca href=\\&quot;https://carto.com/attributions\\&quot;\\u003eCARTO\\u003c/a\\u003e&quot;, &quot;detectRetina&quot;: false, &quot;maxNativeZoom&quot;: 20, &quot;maxZoom&quot;: 20, &quot;minZoom&quot;: 0, &quot;noWrap&quot;: false, &quot;opacity&quot;: 1, &quot;subdomains&quot;: &quot;abcd&quot;, &quot;tms&quot;: false}\n",
       "            );\n",
       "        \n",
       "    \n",
       "            tile_layer_b94bc6588862273dcbf3479f33ec7c08.addTo(map_ac23909d18a14a7a966252af7601a1f3);\n",
       "        \n",
       "    \n",
       "\n",
       "        function geo_json_a559b48144ede5cb06f448cfb96f686f_onEachFeature(feature, layer) {\n",
       "            layer.on({\n",
       "            });\n",
       "        };\n",
       "        var geo_json_a559b48144ede5cb06f448cfb96f686f = L.geoJson(null, {\n",
       "                onEachFeature: geo_json_a559b48144ede5cb06f448cfb96f686f_onEachFeature,\n",
       "            \n",
       "        });\n",
       "\n",
       "        function geo_json_a559b48144ede5cb06f448cfb96f686f_add (data) {\n",
       "            geo_json_a559b48144ede5cb06f448cfb96f686f\n",
       "                .addData(data);\n",
       "        }\n",
       "            geo_json_a559b48144ede5cb06f448cfb96f686f_add({&quot;bbox&quot;: [-2.9676030774210744, 53.38207657604343, -2.9430664487443323, 53.40312143883355], &quot;features&quot;: [{&quot;bbox&quot;: [-2.956230937178475, 53.39040731058759, -2.956230937178475, 53.39040731058759], &quot;geometry&quot;: {&quot;coordinates&quot;: [-2.956230937178475, 53.39040731058759], &quot;type&quot;: &quot;Point&quot;}, &quot;id&quot;: &quot;0&quot;, &quot;properties&quot;: {}, &quot;type&quot;: &quot;Feature&quot;}, {&quot;bbox&quot;: [-2.9556128860781996, 53.38207657604343, -2.9430664487443323, 53.39037045252101], &quot;geometry&quot;: {&quot;coordinates&quot;: [[-2.9556128860781996, 53.39037045252101], [-2.9555510809678367, 53.38915411841484], [-2.950853892607313, 53.385099420376235], [-2.9430664487443323, 53.38207657604343], [-2.9447351867151497, 53.3852837332106], [-2.946712950235508, 53.388564368155585]], &quot;type&quot;: &quot;LineString&quot;}, &quot;id&quot;: &quot;1&quot;, &quot;properties&quot;: {}, &quot;type&quot;: &quot;Feature&quot;}, {&quot;bbox&quot;: [-2.9676030774210744, 53.40017357345624, -2.963029499280111, 53.40312143883355], &quot;geometry&quot;: {&quot;coordinates&quot;: [[[-2.9676030774210744, 53.40312143883355], [-2.9676030774210744, 53.40017357345624], [-2.963029499280111, 53.40017357345624], [-2.963029499280111, 53.40312143883355], [-2.9676030774210744, 53.40312143883355]]], &quot;type&quot;: &quot;Polygon&quot;}, &quot;id&quot;: &quot;2&quot;, &quot;properties&quot;: {}, &quot;type&quot;: &quot;Feature&quot;}], &quot;type&quot;: &quot;FeatureCollection&quot;});\n",
       "\n",
       "        \n",
       "    \n",
       "            geo_json_a559b48144ede5cb06f448cfb96f686f.addTo(map_ac23909d18a14a7a966252af7601a1f3);\n",
       "        \n",
       "&lt;/script&gt;\n",
       "&lt;/html&gt;\" style=\"position:absolute;width:100%;height:100%;left:0;top:0;border:none !important;\" allowfullscreen webkitallowfullscreen mozallowfullscreen></iframe></div></div>"
      ],
      "text/plain": [
       "<folium.folium.Map at 0x24c91ac9310>"
      ]
     },
     "execution_count": 37,
     "metadata": {},
     "output_type": "execute_result"
    }
   ],
   "source": [
    "import folium \n",
    "\n",
    "liverpool_centroid = (53.41058,\t-2.97794)\n",
    "# Create a Folium map centered around this point\n",
    "map = folium.Map(location=liverpool_centroid, zoom_start=13, tiles=\"CartoDB.DarkMatterNoLabels\")\n",
    "\n",
    "# Add the liverpool data to the map, this will plot each geometry in the GeoDataFrame\n",
    "folium.GeoJson(liverpool).add_to(map)\n",
    "map"
   ]
  },
  {
   "cell_type": "markdown",
   "id": "4735548c-580c-4abf-99ed-824586133fdb",
   "metadata": {},
   "source": [
    "Once read, the geojson behaves exactly like any GeoDataFrame we have seen so far. We can therefore operate on it and tap into the functionality from `pandas` and `geopandas`. For example, we can and reproject the layer to the to British National Grid."
   ]
  },
  {
   "cell_type": "code",
   "execution_count": 10,
   "id": "fa2f07d3-7203-4710-a2ff-bec60eaf7909",
   "metadata": {},
   "outputs": [],
   "source": [
    "liverpool_bng.to_crs(crs = \"EPSG: 27700\", inplace = True)"
   ]
  },
  {
   "cell_type": "markdown",
   "id": "52009c51-d30e-47b3-9b02-1484a327195c",
   "metadata": {},
   "source": [
    "When we inspected our geojson, we noted that the spatial data is stored in the following format `POINT (-2.977367 53.40753)`. This is called \"well known text\" (`wkt`) and is a representation that spatial databases like PostGIS use as well. Another way to store spatial data as text for storage or transfer, less (human) readable but more efficient is the \"well known blurb\" (`wkb`). We can use the `shapely` library to handle the WKT representation of the geometry and then convert it to WKB format."
   ]
  },
  {
   "cell_type": "code",
   "execution_count": 30,
   "id": "7b901c3e-1ba9-4cab-b782-3ba37078f590",
   "metadata": {},
   "outputs": [
    {
     "data": {
      "text/plain": [
       "'01010000005e8429caa5d107c0c7116bf129b44a40'"
      ]
     },
     "execution_count": 30,
     "metadata": {},
     "output_type": "execute_result"
    }
   ],
   "source": [
    "from shapely import wkt\n",
    "from shapely.geometry import Point\n",
    "import shapely.wkb\n",
    "\n",
    "# Load the WKT representation of the point\n",
    "wkt_string = \"POINT (-2.977367 53.40753)\"\n",
    "\n",
    "# Convert the WKT representation into a Shapely Point object\n",
    "point = wkt.loads(wkt_string)\n",
    "\n",
    "# Convert the Point object into WKB format\n",
    "wkb_data = shapely.wkb.dumps(point)\n",
    "wkb_data.hex()"
   ]
  },
  {
   "cell_type": "markdown",
   "id": "bd2ea8ec-a694-4737-bbac-d318a411af21",
   "metadata": {},
   "source": [
    "<div class=\"alert alert-success\">\n",
    "    \n",
    "**Excercise**:\n",
    "-   Read the `GeoJSON` created for your favorite walks in Liverpool and calculate their length\n",
    "\n",
    "</div>"
   ]
  },
  {
   "cell_type": "markdown",
   "id": "83127e52-4ceb-4266-9966-94b40a4ea540",
   "metadata": {},
   "source": [
    "Once you are happy with the data as we will hypothetically need it, you can write it out to any other file format supported in `geopandas`. For\n",
    "example, we can create a Geopackge file with the same information. For this, we can use the function `to_file`. See an example below:"
   ]
  },
  {
   "cell_type": "code",
   "execution_count": null,
   "id": "a9447416-1e46-4d8b-ab02-af974f99c486",
   "metadata": {},
   "outputs": [],
   "source": [
    "# Write 'liverpool_bng' to a GeoPackage file\n",
    "liverpool_bng.to_file(\"data/liverpool_bng.gpkg\", layer=\"liverpool_bng\", driver=\"GPKG\")"
   ]
  },
  {
   "cell_type": "markdown",
   "id": "dcfebdca-da33-43d4-848c-0812c0357e4e",
   "metadata": {},
   "source": [
    "## 3.2 Tilesets and `Mbtiles`\n",
    "In this section we will dive into the concept of tiles to understand why they have been so transformative in the world of web mapping. We have\n",
    "already seen the usage of tilesets above with `folium` and with `contextily` (although within a static context). We will see that `folium`, integrates different tileset options already."
   ]
  },
  {
   "cell_type": "markdown",
   "id": "25dc1afc-8c82-4dca-aa89-a0fa1c01a901",
   "metadata": {},
   "source": [
    "For this section, let's start by getting the building footprints from OpenStreetMap with `osmnx`"
   ]
  },
  {
   "cell_type": "code",
   "execution_count": 38,
   "id": "658daecc-2cea-457e-8c76-2ad0c4cb9951",
   "metadata": {},
   "outputs": [],
   "source": [
    "import osmnx as ox\n",
    "tags = {\"building\": True} #OSM tags\n",
    "buildings = ox.features_from_place(\"Liverpool, UK\", tags = tags) \n",
    "buildings = buildings.reset_index()\n",
    " # sometimes building footprints are represented by Points, let's disregard them\n",
    "buildings = buildings[(buildings.geometry.geom_type == 'Polygon') | (buildings.geometry.geom_type == 'MultiPolygon')]"
   ]
  },
  {
   "cell_type": "code",
   "execution_count": 35,
   "id": "d18ca3e3-62c8-41b6-8f02-4519f3d5162f",
   "metadata": {},
   "outputs": [
    {
     "data": {
      "text/plain": [
       "<Axes: >"
      ]
     },
     "execution_count": 35,
     "metadata": {},
     "output_type": "execute_result"
    },
    {
     "data": {
      "image/png": "[encoded data removed]",
      "text/plain": [
       "<Figure size 640x480 with 1 Axes>"
      ]
     },
     "metadata": {},
     "output_type": "display_data"
    }
   ],
   "source": [
    "buildings.plot()"
   ]
  },
  {
   "cell_type": "markdown",
   "id": "cf9e8013-fde1-4305-98d2-d678d0f77dc2",
   "metadata": {},
   "source": [
    "Let's save the GeoDataFrame a geojson and call it `buildings_liverpool.geojson`."
   ]
  },
  {
   "cell_type": "code",
   "execution_count": null,
   "id": "e43f68ad-fe7c-4cd9-824d-a126ec807436",
   "metadata": {},
   "outputs": [],
   "source": [
    "buildings.to_file('data\\buildings_liverpool.geojson',  driver='GeoJSON')"
   ]
  },
  {
   "cell_type": "markdown",
   "id": "70844b63-6e78-4dad-a033-fba0760ca362",
   "metadata": {},
   "source": [
    "Then, register for a MapBox account [here](https://account.mapbox.com/auth/signup/?route-to=%22https%3A%2F%2Faccount.mapbox.com%2Faccess-tokens%2F%22)."
   ]
  },
  {
   "cell_type": "markdown",
   "id": "7c7c0ea7-e068-474f-8aa8-422b20aac6d9",
   "metadata": {},
   "source": [
    "### 3.2.1 Generating .mbtiles in Python"
   ]
  },
  {
   "cell_type": "markdown",
   "id": "b69239b2-e3e9-4d39-97a7-4106a846c6c6",
   "metadata": {},
   "source": [
    "In Python, you can use `togeojsontiles` to make a dynamic `.mbtiles` files. This is useful to visualize large data appropriately at any zoom level.\n"
   ]
  },
  {
   "cell_type": "code",
   "execution_count": 43,
   "id": "7ae9ed8b-b23a-4c1f-906a-cb57435765e8",
   "metadata": {},
   "outputs": [
    {
     "ename": "NameError",
     "evalue": "name 'buildings_liverpool' is not defined",
     "output_type": "error",
     "traceback": [
      "\u001b[1;31m---------------------------------------------------------------------------\u001b[0m",
      "\u001b[1;31mNameError\u001b[0m                                 Traceback (most recent call last)",
      "Cell \u001b[1;32mIn[43], line 4\u001b[0m\n\u001b[0;32m      1\u001b[0m \u001b[38;5;28;01mfrom\u001b[39;00m \u001b[38;5;21;01mtogeojsontiles\u001b[39;00m \u001b[38;5;28;01mimport\u001b[39;00m geojson_to_mbtiles\n\u001b[0;32m      3\u001b[0m \u001b[38;5;66;03m# Convert GeoJSON to .mbtiles\u001b[39;00m\n\u001b[1;32m----> 4\u001b[0m \u001b[43mbuildings_liverpool\u001b[49m\u001b[38;5;241m.\u001b[39mgeojson_to_mbtiles(\n\u001b[0;32m      5\u001b[0m            output_mbtiles\u001b[38;5;241m=\u001b[39m\u001b[38;5;124m'\u001b[39m\u001b[38;5;124mdata/buildings_liverpool.mbtiles\u001b[39m\u001b[38;5;124m'\u001b[39m,\n\u001b[0;32m      6\u001b[0m            layer_name\u001b[38;5;241m=\u001b[39m\u001b[38;5;124m'\u001b[39m\u001b[38;5;124mbuildings_liverpool\u001b[39m\u001b[38;5;124m'\u001b[39m)\n",
      "\u001b[1;31mNameError\u001b[0m: name 'buildings_liverpool' is not defined"
     ]
    }
   ],
   "source": [
    "from togeojsontiles import geojson_to_mbtiles\n",
    "\n",
    "# Convert GeoJSON to .mbtiles\n",
    "buildings_liverpool.geojson_to_mbtiles(\n",
    "           output_mbtiles='data/buildings_liverpool.mbtiles',\n",
    "           layer_name='buildings_liverpool')\n",
    "    filepaths=['./data/test1.geojson', './data/test2.geojson'],\n",
    "    tippecanoe_dir=TIPPECANOE_DIR,\n",
    "    mbtiles_file='out.mbtiles',\n",
    "    maxzoom=14"
   ]
  },
  {
   "cell_type": "markdown",
   "id": "bc12abb8-196b-499a-8cc4-298e0e4a37e8",
   "metadata": {},
   "source": [
    "Uploading to **Mapbox Studio**: After creating the `.mbtiles` file, you can upload it *manually* to Mapbox Studio:\n",
    "\n",
    "- Navigate to Mapbox Studio.\n",
    "- Start a New Style and chose a template (Monochrome, blank etc.)\n",
    "  \n",
    "<img src=img/mapboxstyles.png/ width=\"80%\">\n",
    "\n",
    "- Upload the .mbtiles file and style it according to your requirements\n",
    "  \n",
    "<img src=img/mapbox_upload.png/ width=\"80%\">\n",
    "\n",
    "- It should look like a nicer version of this:\n",
    "  \n",
    "<img src=img/mapbox_building_studio.png/ width=\"80%\">"
   ]
  },
  {
   "cell_type": "markdown",
   "id": "59fe40c5-34f1-4453-bafd-02d41d388261",
   "metadata": {},
   "source": [
    "Or through *scripting* with Mapbox's Uploads API."
   ]
  },
  {
   "cell_type": "code",
   "execution_count": null,
   "id": "283d840d-8fad-4d02-98a8-0bac2bf92009",
   "metadata": {},
   "outputs": [],
   "source": [
    "import requests\n",
    "import os\n",
    "\n",
    "# Define your Mapbox token\n",
    "mapbox_token = \"pk.eyJ1IjoicGlldHJvc3RlZmFuaWUiLCJhIjoiY2xkeGJtb3hkMGN4azNxb2E4cGRnbDhxayJ9.VaEiB7qvRk8BbFlihawZ1w\"\n",
    "\n",
    "# Endpoint for Mapbox Tiling Service uploads\n",
    "url = 'https://api.mapbox.com/uploads/v1/mapbox'\n",
    "\n",
    "# Path to your .mbtiles file\n",
    "mbtiles_file_path = \"data/file.mbtiles'\n",
    "\n",
    "# Prepare the headers\n",
    "headers = {\n",
    "    'Authorization': f'Bearer {MAPBOX_ACCESS_TOKEN}',\n",
    "    'Content-Type': 'application/json'\n",
    "}\n",
    "\n",
    "# Prepare the data for the POST request\n",
    "with open(mbtiles_file_path, 'rb') as file:\n",
    "    files = {'file': file}\n",
    "    response = requests.post(url, headers=headers, files=files)\n",
    "\n",
    "# Check the response\n",
    "if response.status_code == 200:\n",
    "    print(\"Upload initiated successfully.\")\n",
    "    print(response.json())\n",
    "else:\n",
    "    print(\"Failed to initiate upload.\")\n",
    "    print(response.text)"
   ]
  },
  {
   "cell_type": "markdown",
   "id": "fc07ef73-d963-4778-89b0-0f762c1f6fbd",
   "metadata": {},
   "source": [
    "### Visualizing in Python\n",
    "#### Visualizing with Folium:"
   ]
  },
  {
   "cell_type": "code",
   "execution_count": null,
   "id": "876908b4-4df3-41c8-834a-05fa00db963c",
   "metadata": {},
   "outputs": [],
   "source": [
    "# Create a Folium map centered at a specific location\n",
    "m = folium.Map(location=[53.406872, -2.973286], zoom_start=10,\n",
    "               tiles='https://api.mapbox.com/styles/v1/pietrostefanie/cle4dgs2o002d01tft37b5ndg/tiles/256/{z}/{x}/{y}?access_token=pk.eyJ1IjoicGlldHJvc3RlZmFuaWUiLCJhIjoiY2xkeGJtb3hkMGN4azNxb2E4cGRnbDhxayJ9.VaEiB7qvRk8BbFlihawZ1w',\n",
    "               attr='Mapbox')\n",
    "\n",
    "# Display the map\n",
    "m\n"
   ]
  },
  {
   "cell_type": "code",
   "execution_count": null,
   "id": "66b353c0-5d88-4c0e-ae9d-905ba5e056f6",
   "metadata": {},
   "outputs": [],
   "source": [
    "Visualizing with Pydeck:"
   ]
  },
  {
   "cell_type": "code",
   "execution_count": null,
   "id": "9334c211-06dc-422a-9d75-cee19e521e6a",
   "metadata": {},
   "outputs": [],
   "source": [
    "import pydeck as pdk\n",
    "\n",
    "\n",
    "# Define your Mapbox token\n",
    "mapbox_token = \"pk.eyJ1IjoicGlldHJvc3RlZmFuaWUiLCJhIjoiY2xkeGJtb3hkMGN4azNxb2E4cGRnbDhxayJ9.VaEiB7qvRk8BbFlihawZ1w\"\n",
    "\n",
    "# Create a Pydeck map using the Mapbox layer\n",
    "layer = pdk.Layer(\n",
    "    'MapboxLayer',\n",
    "    id='mapbox',\n",
    "    data='mapbox://styles/username/cle4dgs2o002d01tft37b5ndg'  # Replace with your styled layer\n",
    ")\n",
    "\n",
    "view_state = pdk.ViewState(latitude=liverpool_centroid[0], longitude=liverpool_centroid[1], zoom=10)\n",
    "r = pdk.Deck(layers=[layer], initial_view_state=view_state, mapbox_key=mapbox_token)\n",
    "r.show()"
   ]
  },
  {
   "cell_type": "code",
   "execution_count": null,
   "id": "28859061-55b4-4dea-8c41-b8818ecbf98c",
   "metadata": {},
   "outputs": [],
   "source": []
  },
  {
   "cell_type": "code",
   "execution_count": null,
   "id": "9d9d4e24-129a-42b0-a1da-4506ed2f1365",
   "metadata": {},
   "outputs": [],
   "source": []
  },
  {
   "cell_type": "code",
   "execution_count": null,
   "id": "96704af9-0943-497f-b226-09b14999f728",
   "metadata": {},
   "outputs": [],
   "source": []
  },
  {
   "cell_type": "code",
   "execution_count": null,
   "id": "c07ba2ea-7859-4553-8554-9576c6a5c17b",
   "metadata": {},
   "outputs": [],
   "source": []
  },
  {
   "cell_type": "code",
   "execution_count": null,
   "id": "f3660bb7-37ad-46ce-813f-946c944918f8",
   "metadata": {},
   "outputs": [],
   "source": []
  },
  {
   "cell_type": "code",
   "execution_count": null,
   "id": "004585fd-ff83-4800-b5e5-d25c06feafe9",
   "metadata": {},
   "outputs": [],
   "source": []
  },
  {
   "cell_type": "code",
   "execution_count": null,
   "id": "424af072-d7fe-4c02-ab2b-595f4398a7ac",
   "metadata": {},
   "outputs": [],
   "source": []
  }
 ],
 "metadata": {
  "kernelspec": {
   "display_name": "Python 3 (ipykernel)",
   "language": "python",
   "name": "python3"
  },
  "language_info": {
   "codemirror_mode": {
    "name": "ipython",
    "version": 3
   },
   "file_extension": ".py",
   "mimetype": "text/x-python",
   "name": "python",
   "nbconvert_exporter": "python",
   "pygments_lexer": "ipython3",
   "version": "3.11.5"
  }
 },
 "nbformat": 4,
 "nbformat_minor": 5
}
