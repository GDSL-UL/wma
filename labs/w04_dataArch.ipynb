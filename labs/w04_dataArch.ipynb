{
 "cells": [
  {
   "cell_type": "raw",
   "id": "01c54fc2",
   "metadata": {},
   "source": [
    "---\n",
    "title: Data Architectures and Tiles\n",
    "author: Elisabetta Pietrostefani, Gabriele Filomena and Matt Howard\n",
    "date: today\n",
    "format:\n",
    "  html:\n",
    "    code-fold: false\n",
    "---"
   ]
  },
  {
   "cell_type": "markdown",
   "id": "dbd99480-eafa-45a2-877d-7e6eab63185f",
   "metadata": {},
   "source": [
    "## Intro\n",
    "\n",
    "The **Lecture slides** can be found [here](https://github.com/GDSL-UL/wma/raw/main/lectures/w04.pdf).\n",
    "\n",
    "This **lab**'s notebook can be downloaded from [here](https://github.com/GDSL-UL/wma/blob/main/labs/w04_dataArch.ipynb)."
   ]
  },
  {
   "cell_type": "markdown",
   "id": "c17a12bb",
   "metadata": {},
   "source": [
    "In this lab, we will explore and familiarise with some of the most common data formats for web mapping: GeoJSON and Mbtiles. \n",
    "\n",
    "## GeoJSONs\n",
    "\n",
    "To get familiar with the format, we will start by creating a GeoJSON file from scratch. Head over to the following website:\n",
    "\n",
    "<https://geojson.io/>\n",
    "\n",
    "In there, we will create together a small example to better understand the building blocks of this file format.\n",
    "\n",
    "<img src=\"../labs_img/geojson.png\" width=\"80%\">\n",
    "\n",
    "We will pay special attention to the following aspects:\n",
    "\n",
    "-   Readability.\n",
    "-   Coordinate system.\n",
    "-   Ability to add non-spatial information attached to each record.\n",
    "-   How to save it as a file.\n",
    "\n",
    "<div class=\"alert alert-success\">\n",
    "\n",
    "**Excercise**:\n",
    "\n",
    "Create a GeoJSON file for the following data and save them to separate files:\n",
    "\n",
    "1.  Your five favourite spots in Liverpool\n",
    "2.  A polygon of what you consider to be the boundary of the neighbourhood where you live and the city centre of Liverpool. Name each.\n",
    "3.  A route that captures one of your favourite walks around the Liverpool region\n",
    "\n",
    "If you are comfortable, upload the files to Microsoft Teams to share them with peers.\n",
    "\n",
    "</div>\n",
    "\n",
    "### GeoJSON in Python\n",
    "\n",
    "With the files from the exercise at hand, we will learn how to open them in a Python environment. Then, let's begin by importing the necessary libraries; `geojson` is used for handling GeoJSON files.\n"
   ]
  },
  {
   "cell_type": "code",
   "execution_count": 2,
   "id": "9a74b752",
   "metadata": {},
   "outputs": [],
   "source": [
    "import geopandas as gpd"
   ]
  },
  {
   "cell_type": "markdown",
   "id": "b5dede5f",
   "metadata": {},
   "source": [
    "Now, place the geojson files you have created in the data folder used in these sessions. As always, the data folder should be stored in the directory where the notebook is running from. For this example, we will assume that the file is called `map.geojson`. We can read the file as:\n"
   ]
  },
  {
   "cell_type": "code",
   "execution_count": 3,
   "id": "a76fbf57",
   "metadata": {},
   "outputs": [
    {
     "data": {
      "text/html": [
       "<div>\n",
       "<style scoped>\n",
       "    .dataframe tbody tr th:only-of-type {\n",
       "        vertical-align: middle;\n",
       "    }\n",
       "\n",
       "    .dataframe tbody tr th {\n",
       "        vertical-align: top;\n",
       "    }\n",
       "\n",
       "    .dataframe thead th {\n",
       "        text-align: right;\n",
       "    }\n",
       "</style>\n",
       "<table border=\"1\" class=\"dataframe\">\n",
       "  <thead>\n",
       "    <tr style=\"text-align: right;\">\n",
       "      <th></th>\n",
       "      <th>geometry</th>\n",
       "    </tr>\n",
       "  </thead>\n",
       "  <tbody>\n",
       "    <tr>\n",
       "      <th>0</th>\n",
       "      <td>POINT (-2.96320 53.40471)</td>\n",
       "    </tr>\n",
       "    <tr>\n",
       "      <th>1</th>\n",
       "      <td>POINT (-2.96206 53.40471)</td>\n",
       "    </tr>\n",
       "    <tr>\n",
       "      <th>2</th>\n",
       "      <td>POINT (-2.96513 53.40163)</td>\n",
       "    </tr>\n",
       "    <tr>\n",
       "      <th>3</th>\n",
       "      <td>LINESTRING (-2.96510 53.40163, -2.96505 53.402...</td>\n",
       "    </tr>\n",
       "    <tr>\n",
       "      <th>4</th>\n",
       "      <td>POLYGON ((-2.97048 53.40888, -2.96968 53.40573...</td>\n",
       "    </tr>\n",
       "  </tbody>\n",
       "</table>\n",
       "</div>"
      ],
      "text/plain": [
       "                                            geometry\n",
       "0                          POINT (-2.96320 53.40471)\n",
       "1                          POINT (-2.96206 53.40471)\n",
       "2                          POINT (-2.96513 53.40163)\n",
       "3  LINESTRING (-2.96510 53.40163, -2.96505 53.402...\n",
       "4  POLYGON ((-2.97048 53.40888, -2.96968 53.40573..."
      ]
     },
     "execution_count": 3,
     "metadata": {},
     "output_type": "execute_result"
    }
   ],
   "source": [
    "liverpool = gpd.read_file(\"../data/map.geojson\")\n",
    "liverpool.head()"
   ]
  },
  {
   "cell_type": "markdown",
   "id": "be2c7672",
   "metadata": {},
   "source": [
    "We can also plot and explore the content of the GeoDataFrame with `Folium`. Folium, which we will see more in detail later on, helps create interactive maps from data stored in `geopandas.GeoDataFrame`.\n"
   ]
  },
  {
   "cell_type": "code",
   "execution_count": 4,
   "id": "dce09f74",
   "metadata": {},
   "outputs": [
    {
     "data": {
      "text/html": [
       "<div style=\"width:100%;\"><div style=\"position:relative;width:100%;height:0;padding-bottom:60%;\"><span style=\"color:#565656\">Make this Notebook Trusted to load map: File -> Trust Notebook</span><iframe srcdoc=\"&lt;!DOCTYPE html&gt;\n",
       "&lt;html&gt;\n",
       "&lt;head&gt;\n",
       "    \n",
       "    &lt;meta http-equiv=&quot;content-type&quot; content=&quot;text/html; charset=UTF-8&quot; /&gt;\n",
       "    \n",
       "        &lt;script&gt;\n",
       "            L_NO_TOUCH = false;\n",
       "            L_DISABLE_3D = false;\n",
       "        &lt;/script&gt;\n",
       "    \n",
       "    &lt;style&gt;html, body {width: 100%;height: 100%;margin: 0;padding: 0;}&lt;/style&gt;\n",
       "    &lt;style&gt;#map {position:absolute;top:0;bottom:0;right:0;left:0;}&lt;/style&gt;\n",
       "    &lt;script src=&quot;https://cdn.jsdelivr.net/npm/leaflet@1.9.3/dist/leaflet.js&quot;&gt;&lt;/script&gt;\n",
       "    &lt;script src=&quot;https://code.jquery.com/jquery-3.7.1.min.js&quot;&gt;&lt;/script&gt;\n",
       "    &lt;script src=&quot;https://cdn.jsdelivr.net/npm/bootstrap@5.2.2/dist/js/bootstrap.bundle.min.js&quot;&gt;&lt;/script&gt;\n",
       "    &lt;script src=&quot;https://cdnjs.cloudflare.com/ajax/libs/Leaflet.awesome-markers/2.0.2/leaflet.awesome-markers.js&quot;&gt;&lt;/script&gt;\n",
       "    &lt;link rel=&quot;stylesheet&quot; href=&quot;https://cdn.jsdelivr.net/npm/leaflet@1.9.3/dist/leaflet.css&quot;/&gt;\n",
       "    &lt;link rel=&quot;stylesheet&quot; href=&quot;https://cdn.jsdelivr.net/npm/bootstrap@5.2.2/dist/css/bootstrap.min.css&quot;/&gt;\n",
       "    &lt;link rel=&quot;stylesheet&quot; href=&quot;https://netdna.bootstrapcdn.com/bootstrap/3.0.0/css/bootstrap.min.css&quot;/&gt;\n",
       "    &lt;link rel=&quot;stylesheet&quot; href=&quot;https://cdn.jsdelivr.net/npm/@fortawesome/fontawesome-free@6.2.0/css/all.min.css&quot;/&gt;\n",
       "    &lt;link rel=&quot;stylesheet&quot; href=&quot;https://cdnjs.cloudflare.com/ajax/libs/Leaflet.awesome-markers/2.0.2/leaflet.awesome-markers.css&quot;/&gt;\n",
       "    &lt;link rel=&quot;stylesheet&quot; href=&quot;https://cdn.jsdelivr.net/gh/python-visualization/folium/folium/templates/leaflet.awesome.rotate.min.css&quot;/&gt;\n",
       "    \n",
       "            &lt;meta name=&quot;viewport&quot; content=&quot;width=device-width,\n",
       "                initial-scale=1.0, maximum-scale=1.0, user-scalable=no&quot; /&gt;\n",
       "            &lt;style&gt;\n",
       "                #map_07e9f2a9cd94a92da99d6582d036f0fc {\n",
       "                    position: relative;\n",
       "                    width: 100.0%;\n",
       "                    height: 100.0%;\n",
       "                    left: 0.0%;\n",
       "                    top: 0.0%;\n",
       "                }\n",
       "                .leaflet-container { font-size: 1rem; }\n",
       "            &lt;/style&gt;\n",
       "        \n",
       "&lt;/head&gt;\n",
       "&lt;body&gt;\n",
       "    \n",
       "    \n",
       "            &lt;div class=&quot;folium-map&quot; id=&quot;map_07e9f2a9cd94a92da99d6582d036f0fc&quot; &gt;&lt;/div&gt;\n",
       "        \n",
       "&lt;/body&gt;\n",
       "&lt;script&gt;\n",
       "    \n",
       "    \n",
       "            var map_07e9f2a9cd94a92da99d6582d036f0fc = L.map(\n",
       "                &quot;map_07e9f2a9cd94a92da99d6582d036f0fc&quot;,\n",
       "                {\n",
       "                    center: [53.41058, -2.97794],\n",
       "                    crs: L.CRS.EPSG3857,\n",
       "                    zoom: 13,\n",
       "                    zoomControl: true,\n",
       "                    preferCanvas: false,\n",
       "                }\n",
       "            );\n",
       "\n",
       "            \n",
       "\n",
       "        \n",
       "    \n",
       "            var tile_layer_cd48afbe91ca2b773e7a34e1e195bc6a = L.tileLayer(\n",
       "                &quot;https://{s}.basemaps.cartocdn.com/dark_nolabels/{z}/{x}/{y}{r}.png&quot;,\n",
       "                {&quot;attribution&quot;: &quot;\\u0026copy; \\u003ca href=\\&quot;https://www.openstreetmap.org/copyright\\&quot;\\u003eOpenStreetMap\\u003c/a\\u003e contributors \\u0026copy; \\u003ca href=\\&quot;https://carto.com/attributions\\&quot;\\u003eCARTO\\u003c/a\\u003e&quot;, &quot;detectRetina&quot;: false, &quot;maxNativeZoom&quot;: 20, &quot;maxZoom&quot;: 20, &quot;minZoom&quot;: 0, &quot;noWrap&quot;: false, &quot;opacity&quot;: 1, &quot;subdomains&quot;: &quot;abcd&quot;, &quot;tms&quot;: false}\n",
       "            );\n",
       "        \n",
       "    \n",
       "            tile_layer_cd48afbe91ca2b773e7a34e1e195bc6a.addTo(map_07e9f2a9cd94a92da99d6582d036f0fc);\n",
       "        \n",
       "    \n",
       "\n",
       "        function geo_json_ac59b727a4e974a16e6b6c8b53c7bd12_onEachFeature(feature, layer) {\n",
       "            layer.on({\n",
       "            });\n",
       "        };\n",
       "        var geo_json_ac59b727a4e974a16e6b6c8b53c7bd12 = L.geoJson(null, {\n",
       "                onEachFeature: geo_json_ac59b727a4e974a16e6b6c8b53c7bd12_onEachFeature,\n",
       "            \n",
       "        });\n",
       "\n",
       "        function geo_json_ac59b727a4e974a16e6b6c8b53c7bd12_add (data) {\n",
       "            geo_json_ac59b727a4e974a16e6b6c8b53c7bd12\n",
       "                .addData(data);\n",
       "        }\n",
       "            geo_json_ac59b727a4e974a16e6b6c8b53c7bd12_add({&quot;bbox&quot;: [-2.9704833609569903, 53.400742879363634, -2.961506627150129, 53.40888125752454], &quot;features&quot;: [{&quot;bbox&quot;: [-2.9632019061334915, 53.404705582550264, -2.9632019061334915, 53.404705582550264], &quot;geometry&quot;: {&quot;coordinates&quot;: [-2.9632019061334915, 53.404705582550264], &quot;type&quot;: &quot;Point&quot;}, &quot;id&quot;: &quot;0&quot;, &quot;properties&quot;: {}, &quot;type&quot;: &quot;Feature&quot;}, {&quot;bbox&quot;: [-2.9620625964173257, 53.40471181383134, -2.9620625964173257, 53.40471181383134], &quot;geometry&quot;: {&quot;coordinates&quot;: [-2.9620625964173257, 53.40471181383134], &quot;type&quot;: &quot;Point&quot;}, &quot;id&quot;: &quot;1&quot;, &quot;properties&quot;: {}, &quot;type&quot;: &quot;Feature&quot;}, {&quot;bbox&quot;: [-2.9651251445550884, 53.40162721817714, -2.9651251445550884, 53.40162721817714], &quot;geometry&quot;: {&quot;coordinates&quot;: [-2.9651251445550884, 53.40162721817714], &quot;type&quot;: &quot;Point&quot;}, &quot;id&quot;: &quot;2&quot;, &quot;properties&quot;: {}, &quot;type&quot;: &quot;Feature&quot;}, {&quot;bbox&quot;: [-2.9651042397891274, 53.40162721817714, -2.9620416916514216, 53.4047367389461], &quot;geometry&quot;: {&quot;coordinates&quot;: [[-2.9651042397891274, 53.40162721817714], [-2.9650519778758166, 53.402088363865715], [-2.964132168195732, 53.40201981549882], [-2.963860406245601, 53.40411360669927], [-2.9633168823437472, 53.40410114396141], [-2.9633273347267846, 53.4042444652284], [-2.962731548910881, 53.40436909202418], [-2.962658382232462, 53.4047367389461], [-2.9620416916514216, 53.40471181383134]], &quot;type&quot;: &quot;LineString&quot;}, &quot;id&quot;: &quot;3&quot;, &quot;properties&quot;: {}, &quot;type&quot;: &quot;Feature&quot;}, {&quot;bbox&quot;: [-2.9704833609569903, 53.400742879363634, -2.961506627150129, 53.40888125752454], &quot;geometry&quot;: {&quot;coordinates&quot;: [[[-2.9704833609569903, 53.40888125752454], [-2.969679330723409, 53.40573034245341], [-2.9662474468507867, 53.40598877091978], [-2.966675373337324, 53.405280814347236], [-2.968555060293397, 53.40364086084526], [-2.968469287089789, 53.40339263448422], [-2.9669134205020953, 53.40330600759637], [-2.9671643466434148, 53.40094419038189], [-2.9623402922737796, 53.400742879363634], [-2.961506627150129, 53.40749710107053], [-2.9655757136168575, 53.40848830143628], [-2.9704833609569903, 53.40888125752454]]], &quot;type&quot;: &quot;Polygon&quot;}, &quot;id&quot;: &quot;4&quot;, &quot;properties&quot;: {}, &quot;type&quot;: &quot;Feature&quot;}], &quot;type&quot;: &quot;FeatureCollection&quot;});\n",
       "\n",
       "        \n",
       "    \n",
       "            geo_json_ac59b727a4e974a16e6b6c8b53c7bd12.addTo(map_07e9f2a9cd94a92da99d6582d036f0fc);\n",
       "        \n",
       "&lt;/script&gt;\n",
       "&lt;/html&gt;\" style=\"position:absolute;width:100%;height:100%;left:0;top:0;border:none !important;\" allowfullscreen webkitallowfullscreen mozallowfullscreen></iframe></div></div>"
      ],
      "text/plain": [
       "<folium.folium.Map at 0x2684e976cd0>"
      ]
     },
     "execution_count": 4,
     "metadata": {},
     "output_type": "execute_result"
    }
   ],
   "source": [
    "import folium \n",
    "\n",
    "liverpool_centroid = (53.41058,\t-2.97794)\n",
    "# Create a Folium map centered around this point\n",
    "map = folium.Map(location=liverpool_centroid, zoom_start=13, tiles=\"CartoDB.DarkMatterNoLabels\")\n",
    "\n",
    "# Add the liverpool data to the map, this will plot each geometry in the GeoDataFrame\n",
    "folium.GeoJson(liverpool).add_to(map)\n",
    "map"
   ]
  },
  {
   "cell_type": "markdown",
   "id": "a3b19bbf",
   "metadata": {},
   "source": [
    "Once read, the geojson behaves exactly like any GeoDataFrame we have seen so far. We can therefore operate on it and tap into the functionality from `pandas` and `geopandas`. For example, we can and reproject the layer to the to British National Grid.\n"
   ]
  },
  {
   "cell_type": "code",
   "execution_count": 5,
   "id": "3405b69d",
   "metadata": {},
   "outputs": [],
   "source": [
    "liverpool_bng = liverpool.to_crs(crs = \"EPSG: 27700\")"
   ]
  },
  {
   "cell_type": "markdown",
   "id": "1da1030f",
   "metadata": {},
   "source": [
    "When we inspected our geojson, we noted that the spatial data is stored in the following format `POINT (-2.977367 53.40753)`. This is called \"well known text\" (`wkt`) and is a representation that spatial databases like PostGIS use as well. Another way to store spatial data as text for storage or transfer, less (human) readable but more efficient is the \"well known blurb\" (`wkb`). We can use the `shapely` library to handle the WKT representation of the geometry and then convert it to WKB format.\n"
   ]
  },
  {
   "cell_type": "code",
   "execution_count": 6,
   "id": "83e8ae7c",
   "metadata": {},
   "outputs": [
    {
     "data": {
      "text/plain": [
       "'01010000005e8429caa5d107c0c7116bf129b44a40'"
      ]
     },
     "execution_count": 6,
     "metadata": {},
     "output_type": "execute_result"
    }
   ],
   "source": [
    "from shapely import wkt\n",
    "from shapely.geometry import Point\n",
    "import shapely.wkb\n",
    "\n",
    "# Load the WKT representation of the point\n",
    "wkt_string = \"POINT (-2.977367 53.40753)\"\n",
    "\n",
    "# Convert the WKT representation into a Shapely Point object\n",
    "point = wkt.loads(wkt_string)\n",
    "\n",
    "# Convert the Point object into WKB format\n",
    "wkb_data = shapely.wkb.dumps(point)\n",
    "wkb_data.hex()"
   ]
  },
  {
   "cell_type": "markdown",
   "id": "bfac1391",
   "metadata": {},
   "source": [
    "<div class=\"alert alert-success\">\n",
    "    \n",
    "**Excercise**:\n",
    "-   Read the `GeoJSON` created for your favorite walks in Liverpool and calculate their length\n",
    "\n",
    "</div>\n",
    "\n",
    "Once you are happy with the data as we will hypothetically need it, you can write it out to any other file format supported in `geopandas`. For\n",
    "example, we can create a Geopackge file with the same information. For this, we can use the function `to_file`. See an example below:\n"
   ]
  },
  {
   "cell_type": "code",
   "execution_count": 6,
   "id": "5c4299f8",
   "metadata": {},
   "outputs": [],
   "source": [
    "# Write 'liverpool_bng' to a GeoPackage file\n",
    "liverpool_bng.to_file(\"../data/liverpool_bng.gpkg\", layer=\"liverpool_bng\", driver=\"GPKG\")"
   ]
  },
  {
   "cell_type": "markdown",
   "id": "1985fd44",
   "metadata": {},
   "source": [
    "## Tilesets\n",
    "In this section we will dive into the concept of tiles to understand why they have been so transformative in the world of web mapping. We have\n",
    "already seen the usage of tilesets above with `folium` and with `contextily` (although within a static context). We will see that `folium`, integrates different tileset options already.\n",
    "\n",
    "For this section, let's start by getting the building footprints from OpenStreetMap with `osmnx`\n"
   ]
  },
  {
   "cell_type": "code",
   "execution_count": 7,
   "id": "557e1563",
   "metadata": {},
   "outputs": [],
   "source": [
    "import osmnx as ox\n",
    "tags = {\"building\": True} #OSM tags\n",
    "buildings = ox.features_from_place(\"Liverpool, UK\", tags = tags) \n",
    "buildings = buildings.reset_index()\n",
    " # sometimes building footprints are represented by Points, let's disregard them\n",
    "buildings = buildings[(buildings.geometry.geom_type == 'Polygon') | (buildings.geometry.geom_type == 'MultiPolygon')]"
   ]
  },
  {
   "cell_type": "code",
   "execution_count": 8,
   "id": "1723c02d",
   "metadata": {},
   "outputs": [
    {
     "data": {
      "text/plain": [
       "<Axes: >"
      ]
     },
     "execution_count": 8,
     "metadata": {},
     "output_type": "execute_result"
    },
    {
     "data": {
      "image/png": "[encoded data removed]",
      "text/plain": [
       "<Figure size 640x480 with 1 Axes>"
      ]
     },
     "metadata": {},
     "output_type": "display_data"
    }
   ],
   "source": [
    "buildings.plot()"
   ]
  },
  {
   "cell_type": "markdown",
   "id": "cda88c87",
   "metadata": {},
   "source": [
    "Let's save the GeoDataFrame a geojson and call it `buildings_liverpool.geojson`.\n"
   ]
  },
  {
   "cell_type": "code",
   "execution_count": 9,
   "id": "20e0f389",
   "metadata": {},
   "outputs": [],
   "source": [
    "buildings[['osmid','geometry']].to_file('../data/buildings_liverpool.geojson',  driver='GeoJSON')"
   ]
  },
  {
   "cell_type": "markdown",
   "id": "9cd35ee1",
   "metadata": {},
   "source": [
    "## Mapbox\n",
    "[Register for a MapBox account here.](https://account.mapbox.com/auth/signup/?route-to=%22https%3A%2F%2Faccount.mapbox.com%2Faccess-tokens%2F%22)\n",
    "\n",
    "Once your account is created and verified, Save both your username and public token as variables below:"
   ]
  },
  {
   "cell_type": "code",
   "execution_count": 10,
   "id": "6440379c-bc26-4102-99a3-a61fa625b981",
   "metadata": {},
   "outputs": [],
   "source": [
    "mapbox_user = '' #Add your username here\n",
    "mapbox_token = '' #Add your public token here (find this on the right hand side of the Mapbox console home page)"
   ]
  },
  {
   "cell_type": "markdown",
   "id": "590dccf3-fcf4-4e99-8075-60ec5264d8e9",
   "metadata": {},
   "source": [
    "## Optional: Generating .mbtiles\n",
    "\n",
    "**Note that this section is optional for those who are interested in trying out more advanced data formats. It is not required for this lab or the assignment** \n",
    "<div class=\"alert alert-block alert-warning\">\n",
    "IMPORTANT: This step cannot be ran on University Machines as the installation requires admin rights. Please skip to the next section - 'Mapbox Studio'\n",
    "</div>\n",
    "\n",
    ".mbtiles is a tile based data format, designed to assist the user in \"making a scale-independent view of your data, so that at any level from the entire world to a single building, you can see the density and texture of the data rather than a simplification from dropping supposedly unimportant features or clustering or aggregating them. [[Source](https://github.com/mapbox/tippecanoe)]\"\n",
    "\n",
    "The following steps require the installation of `tippecanoe` on your machine. This cannot be installed directly onto Windows devices, and will require the installation of a local linux environment onto your device if you intend to use it.\n",
    "\n",
    "### MAC or Linux Devices (Python)\n",
    "In Python, the `togeojsontiles` package allows for us to convert our geojsons into .mbtiles files within our python code. Ensure you have installed **all** the [requirements](https://github.com/bartromgens/togeojsontiles) (ensuring that `togeojsontiles` is installed within the envs456 environment, not *base* and that 'tippecanoe' is properly set up from [here](https://github.com/mapbox/tippecanoe)), before trying the code below:"
   ]
  },
  {
   "cell_type": "code",
   "execution_count": null,
   "id": "da5e2d99-db77-437c-b116-51a617c56a10",
   "metadata": {},
   "outputs": [],
   "source": [
    "from togeojsontiles import geojson_to_mbtiles\n",
    "\n",
    "TIPPECANOE_DIR = '/usr/local/bin/'\n",
    "\n",
    "# Convert GeoJSON to .mbtiles\n",
    "geojson_to_mbtiles(\n",
    "    filepaths=['../data/buildings_liverpool.geojson'],\n",
    "    tippecanoe_dir=TIPPECANOE_DIR,\n",
    "    mbtiles_file='../data/liverpool.mbtiles',\n",
    "    maxzoom=14)"
   ]
  },
  {
   "cell_type": "markdown",
   "id": "88372f0f-bd55-4dec-add5-093baa3bb27d",
   "metadata": {},
   "source": [
    "### Windows Devices (Linux Terminal)\n",
    "\n",
    "Accessing `Tippecanoe` on windows machines is more complicated, **and cannot be done at all on University machines.** The above code is unlikely to work out of the box and in this case, the easiest way to access the functionality is through a Linux shell installed locally on your device. The steps to do this are outlined [here](https://gist.github.com/ryanbaumann/e5c7d76f6eeb8598e66c5785b677726e), and are briefly covered below:\n",
    "\n",
    "1. Install a Linux Bash Shell (i.e. Ubuntu) - This can be done from the Microsoft Store.\n",
    "2. Run the installed shell, completing set up by creating a username and password (remember these!)\n",
    "3. Install Tippecanoe, using the commands listed in the above link.\n",
    "4. Direct the bash terminal to your data directory. This requires a more extended filepath than python due to crossing over the different OS environments, (i.e. if your data filepath was C:\\envs456\\data, you would use the command: `$ cd ../../mnt/c/envs456/data`).\n",
    "5. run the tippecanoe command: `$ tippecanoe -zg -o liverpool.mbtiles --drop-densest-as-needed buildings_liverpool.geojson` (for an explanation of the arguments we've used here see the command overview [here](https://github.com/mapbox/tippecanoe?tab=readme-ov-file#try-this-first))\n",
    "\n",
    "This should build a .mbtile version of your 'buildings_liverpool' geojson directly into your data directory!"
   ]
  },
  {
   "cell_type": "markdown",
   "id": "749ddeeb-d93c-4ee5-9122-623954882ff7",
   "metadata": {},
   "source": [
    "### Uploading Tiles\n",
    "Once the .mbtile is created and saved in your directory, you can also try **uploading** it directly to Mapbox. This part of the code has not been tested so it should serve as guidance."
   ]
  },
  {
   "cell_type": "code",
   "execution_count": null,
   "id": "8cf70aa2",
   "metadata": {},
   "outputs": [],
   "source": [
    "import requests\n",
    "import os\n",
    "\n",
    "# Endpoint for Mapbox Tiling Service uploads\n",
    "url = 'https://api.mapbox.com/uploads/v1/mapbox'\n",
    "\n",
    "# Path to your .mbtiles file\n",
    "mbtiles_file_path = \"../data/liverpool.mbtiles'\n",
    "\n",
    "# Prepare the headers\n",
    "headers = {\n",
    "    'Authorization': f'Bearer {mapbox_token}',\n",
    "    'Content-Type': 'application/json'\n",
    "}\n",
    "\n",
    "# Prepare the data for the POST request\n",
    "with open(mbtiles_file_path, 'rb') as file:\n",
    "    files = {'file': file}\n",
    "    response = requests.post(url, headers=headers, files=files)\n",
    "\n",
    "# Check the response\n",
    "if response.status_code == 200:\n",
    "    print(\"Upload initiated successfully.\")\n",
    "    print(response.json())\n",
    "else:\n",
    "    print(\"Failed to initiate upload.\")\n",
    "    print(response.text)"
   ]
  },
  {
   "cell_type": "markdown",
   "id": "4e404bd1-5b59-46d6-9ec6-4a85e23c649a",
   "metadata": {},
   "source": [
    "\\\n",
    "***The optional steps end here***"
   ]
  },
  {
   "cell_type": "markdown",
   "id": "7db1fb30",
   "metadata": {},
   "source": [
    "## Mapbox Studio: \n",
    "\n",
    "After creating the `.mbtiles` file, you can upload it *manually* to Mapbox Studio (unless you managed to make the optional cell above work):\n",
    "\n",
    "- Navigate to the Mapbox Studio Console.\n",
    "- Start a New Style and chose a template (Monochrome, blank etc.)\n",
    "  \n",
    "<img src=\"../labs_img/mapboxstyles.png\" width=\"80%\">\n",
    "\n",
    "- Upload the `liverpool.mbtiles` (if you created it) or the `buildings_liverpool.geojson`. Press the **+** symbol, `Custom Layer` or `Data Visualisation`, `Upload Data`, and choose your file\n",
    "  \n",
    "<img src=\"../labs_img/mapbox_upload.png\" width=\"80%\">\n",
    "\n",
    "- Once uploaded, you should see your layer in the existing sources. Select this as the data to use for your layer and it will load in. If you skipped the optional step and are using a `.geoJSON` file, the Liverpool buildings may only render at a high level of zoom.\n",
    "\n",
    "<img src=\"../labs_img/mapbox_select.png\" width=\"80%\">\n",
    "\n",
    "- Style it according to your requirements: It should look like a nicer version of this:\n",
    "  \n",
    "<img src=\"../labs_img/mapbox_building_studio.png\" width=\"80%\">\n",
    "\n",
    "Once you're happy with your styling, remember to publish your map so that we can reference it directly through the API."
   ]
  },
  {
   "cell_type": "markdown",
   "id": "eff83c4d",
   "metadata": {},
   "source": [
    "### Visualizing the Tiles with `Folium`:"
   ]
  },
  {
   "cell_type": "markdown",
   "id": "8140ccb0-0a96-4f88-b810-138b68bdfdb6",
   "metadata": {},
   "source": [
    "First, we need to get the `id` of your Mapbox style by copying its url:\n",
    "\n",
    "<img src=\"../labs_img/mapbox_styleid.png\" width=\"80%\">"
   ]
  },
  {
   "cell_type": "markdown",
   "id": "dbf7f154-86bb-4621-8357-b2ca23066066",
   "metadata": {},
   "source": [
    "*url example*:  [mapbox://styles/gabrif/clrpby9lc00a501pecacz8b7h](mapbox://styles/gabrif/clrpby9lc00a501pecacz8b7h)\n",
    "\n",
    "the `style_id` is the last section of the URL, in this case `clrpby9lc00a501pecacz8b7h`\n",
    "\n",
    "Then, we can use `folium`, which we will more in detail later on, and use our tileset. Folium essentially allows us to create interactive maps, usually starting from data stored in a `GeoDataFrame`. While folium provides a series of built-in tilesets, here it is demonstrated how to employ one's own."
   ]
  },
  {
   "cell_type": "code",
   "execution_count": 11,
   "id": "945526c5",
   "metadata": {},
   "outputs": [
    {
     "data": {
      "text/html": [
       "<div style=\"width:100%;\"><div style=\"position:relative;width:100%;height:0;padding-bottom:60%;\"><span style=\"color:#565656\">Make this Notebook Trusted to load map: File -> Trust Notebook</span><iframe srcdoc=\"&lt;!DOCTYPE html&gt;\n",
       "&lt;html&gt;\n",
       "&lt;head&gt;\n",
       "    \n",
       "    &lt;meta http-equiv=&quot;content-type&quot; content=&quot;text/html; charset=UTF-8&quot; /&gt;\n",
       "    \n",
       "        &lt;script&gt;\n",
       "            L_NO_TOUCH = false;\n",
       "            L_DISABLE_3D = false;\n",
       "        &lt;/script&gt;\n",
       "    \n",
       "    &lt;style&gt;html, body {width: 100%;height: 100%;margin: 0;padding: 0;}&lt;/style&gt;\n",
       "    &lt;style&gt;#map {position:absolute;top:0;bottom:0;right:0;left:0;}&lt;/style&gt;\n",
       "    &lt;script src=&quot;https://cdn.jsdelivr.net/npm/leaflet@1.9.3/dist/leaflet.js&quot;&gt;&lt;/script&gt;\n",
       "    &lt;script src=&quot;https://code.jquery.com/jquery-3.7.1.min.js&quot;&gt;&lt;/script&gt;\n",
       "    &lt;script src=&quot;https://cdn.jsdelivr.net/npm/bootstrap@5.2.2/dist/js/bootstrap.bundle.min.js&quot;&gt;&lt;/script&gt;\n",
       "    &lt;script src=&quot;https://cdnjs.cloudflare.com/ajax/libs/Leaflet.awesome-markers/2.0.2/leaflet.awesome-markers.js&quot;&gt;&lt;/script&gt;\n",
       "    &lt;link rel=&quot;stylesheet&quot; href=&quot;https://cdn.jsdelivr.net/npm/leaflet@1.9.3/dist/leaflet.css&quot;/&gt;\n",
       "    &lt;link rel=&quot;stylesheet&quot; href=&quot;https://cdn.jsdelivr.net/npm/bootstrap@5.2.2/dist/css/bootstrap.min.css&quot;/&gt;\n",
       "    &lt;link rel=&quot;stylesheet&quot; href=&quot;https://netdna.bootstrapcdn.com/bootstrap/3.0.0/css/bootstrap.min.css&quot;/&gt;\n",
       "    &lt;link rel=&quot;stylesheet&quot; href=&quot;https://cdn.jsdelivr.net/npm/@fortawesome/fontawesome-free@6.2.0/css/all.min.css&quot;/&gt;\n",
       "    &lt;link rel=&quot;stylesheet&quot; href=&quot;https://cdnjs.cloudflare.com/ajax/libs/Leaflet.awesome-markers/2.0.2/leaflet.awesome-markers.css&quot;/&gt;\n",
       "    &lt;link rel=&quot;stylesheet&quot; href=&quot;https://cdn.jsdelivr.net/gh/python-visualization/folium/folium/templates/leaflet.awesome.rotate.min.css&quot;/&gt;\n",
       "    \n",
       "            &lt;meta name=&quot;viewport&quot; content=&quot;width=device-width,\n",
       "                initial-scale=1.0, maximum-scale=1.0, user-scalable=no&quot; /&gt;\n",
       "            &lt;style&gt;\n",
       "                #map_b7f6f3fd32fc2dd0b884396b40036611 {\n",
       "                    position: relative;\n",
       "                    width: 100.0%;\n",
       "                    height: 100.0%;\n",
       "                    left: 0.0%;\n",
       "                    top: 0.0%;\n",
       "                }\n",
       "                .leaflet-container { font-size: 1rem; }\n",
       "            &lt;/style&gt;\n",
       "        \n",
       "&lt;/head&gt;\n",
       "&lt;body&gt;\n",
       "    \n",
       "    \n",
       "            &lt;div class=&quot;folium-map&quot; id=&quot;map_b7f6f3fd32fc2dd0b884396b40036611&quot; &gt;&lt;/div&gt;\n",
       "        \n",
       "&lt;/body&gt;\n",
       "&lt;script&gt;\n",
       "    \n",
       "    \n",
       "            var map_b7f6f3fd32fc2dd0b884396b40036611 = L.map(\n",
       "                &quot;map_b7f6f3fd32fc2dd0b884396b40036611&quot;,\n",
       "                {\n",
       "                    center: [53.406872, -2.973286],\n",
       "                    crs: L.CRS.EPSG3857,\n",
       "                    zoom: 14,\n",
       "                    zoomControl: true,\n",
       "                    preferCanvas: false,\n",
       "                }\n",
       "            );\n",
       "\n",
       "            \n",
       "\n",
       "        \n",
       "    \n",
       "            var tile_layer_b88622e8c49c38fed9b1eba5a13f0a01 = L.tileLayer(\n",
       "                &quot;https://api.mapbox.com/styles/v1/staffmh/cm7apa5lt000o01s2dpzwev1e/tiles/256/{z}/{x}/{y}?access_token=pk.eyJ1Ijoic3RhZmZtaCIsImEiOiJjbTc5NHU4M3YwMW9iMmpxeW1nbzJxODhmIn0.vbLrOO4950wmHqg3lRjOiw&quot;,\n",
       "                {&quot;attribution&quot;: &quot;Mapbox&quot;, &quot;detectRetina&quot;: false, &quot;maxNativeZoom&quot;: 18, &quot;maxZoom&quot;: 18, &quot;minZoom&quot;: 0, &quot;noWrap&quot;: false, &quot;opacity&quot;: 1, &quot;subdomains&quot;: &quot;abc&quot;, &quot;tms&quot;: false}\n",
       "            );\n",
       "        \n",
       "    \n",
       "            tile_layer_b88622e8c49c38fed9b1eba5a13f0a01.addTo(map_b7f6f3fd32fc2dd0b884396b40036611);\n",
       "        \n",
       "&lt;/script&gt;\n",
       "&lt;/html&gt;\" style=\"position:absolute;width:100%;height:100%;left:0;top:0;border:none !important;\" allowfullscreen webkitallowfullscreen mozallowfullscreen></iframe></div></div>"
      ],
      "text/plain": [
       "<folium.folium.Map at 0x2686a954390>"
      ]
     },
     "execution_count": 11,
     "metadata": {},
     "output_type": "execute_result"
    }
   ],
   "source": [
    "# Create a Folium map centered at a specific location, using a custom Mapbox styling\n",
    "import folium\n",
    "\n",
    "# save your style's ID\n",
    "style_id = '' \n",
    "\n",
    "# Specify the API endpoint for your custom style\n",
    "tiles = \"https://api.mapbox.com/styles/v1/\"+mapbox_user+\"/\"+style_id+\"/tiles/256/{z}/{x}/{y}?access_token=\"+mapbox_token\n",
    "\n",
    "# Create your map\n",
    "map = folium.Map(location=[53.406872, -2.973286], zoom_start=14,\n",
    "               tiles=tiles,\n",
    "               attr='Mapbox')\n",
    "\n",
    "# Display the map\n",
    "map"
   ]
  },
  {
   "cell_type": "code",
   "execution_count": null,
   "id": "f2149a70-a825-4810-a0d6-ce22b67a9f78",
   "metadata": {},
   "outputs": [],
   "source": []
  }
 ],
 "metadata": {
  "kernelspec": {
   "display_name": "Python 3 (ipykernel)",
   "language": "python",
   "name": "python3"
  },
  "language_info": {
   "codemirror_mode": {
    "name": "ipython",
    "version": 3
   },
   "file_extension": ".py",
   "mimetype": "text/x-python",
   "name": "python",
   "nbconvert_exporter": "python",
   "pygments_lexer": "ipython3",
   "version": "3.11.5"
  },
  "widgets": {
   "application/vnd.jupyter.widget-state+json": {
    "state": {},
    "version_major": 2,
    "version_minor": 0
   }
  }
 },
 "nbformat": 4,
 "nbformat_minor": 5
}
