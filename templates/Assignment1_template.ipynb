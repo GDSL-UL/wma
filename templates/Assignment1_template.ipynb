{
 "cells": [
  {
   "cell_type": "markdown",
   "id": "97452479-dc4b-44cd-aab3-7016c3cdd980",
   "metadata": {},
   "source": [
    "# Assignment 1: Add your title"
   ]
  },
  {
   "cell_type": "code",
   "execution_count": null,
   "id": "5d1464a2-d73e-4614-a26c-ab509fb40bec",
   "metadata": {},
   "outputs": [],
   "source": [
    "# necessary libraries (replace with relevant library imports)"
   ]
  },
  {
   "cell_type": "markdown",
   "id": "dcb870dc-d870-40f2-a07d-6d1b97c8d440",
   "metadata": {},
   "source": [
    "## How to sumbit (remove when submitting)\n",
    "\n",
    "You will submit through Canvas a `.html` file obtained from a Python `.ipynb` Jupyter Notebook file. To do so, in your `.ipynb` file, follow these steps: `File –> Save and Export as.. –> HTML.` \n",
    "\n",
    "**Important:** Prior to this step, the notebook needs to be rendered (i.e. all the cells should be executed). Other file formats will not be accepted"
   ]
  },
  {
   "cell_type": "markdown",
   "id": "f898a88e-4f3c-4c2c-bcf5-448b2fe95007",
   "metadata": {},
   "source": [
    "## Introduction, Context and Short literature review on the problem (250 words)\n",
    "\n",
    "Add your text here"
   ]
  },
  {
   "cell_type": "code",
   "execution_count": null,
   "id": "87f0e679-b390-4db8-b8b4-1b67bb8b4b46",
   "metadata": {},
   "outputs": [],
   "source": [
    "# Introductory Static Maps (replace with code and comments)"
   ]
  },
  {
   "cell_type": "markdown",
   "id": "c2f41eff-0a31-4fa3-a9c0-824cf0a38582",
   "metadata": {},
   "source": [
    "## Data Sources Presentation (200 words)\n",
    "\n",
    "Add your text here"
   ]
  },
  {
   "cell_type": "markdown",
   "id": "0504292b-8ee0-4188-a423-2a486c38918e",
   "metadata": {},
   "source": [
    "## API Functioning (200 words)\n",
    "\n",
    "Add your text here"
   ]
  },
  {
   "cell_type": "code",
   "execution_count": null,
   "id": "a08f7e73-dbb8-4f59-a123-044c873e6dca",
   "metadata": {},
   "outputs": [],
   "source": [
    "# Api call code (replace with code and comments)"
   ]
  },
  {
   "cell_type": "markdown",
   "id": "fed05faa-1739-488b-ade1-9d621316b392",
   "metadata": {},
   "source": [
    "## Interactive Map Functioning and Design Choices (200 words)\n",
    "\n",
    "Add your text here"
   ]
  },
  {
   "cell_type": "code",
   "execution_count": null,
   "id": "7d8eec7c-0559-4c14-9a8f-6002d9f6ed7c",
   "metadata": {},
   "outputs": [],
   "source": [
    "# Final Interactive map (one) code (replace with code and comments)"
   ]
  },
  {
   "cell_type": "markdown",
   "id": "5c08590f-1ade-4b8f-a751-66c6ff41320a",
   "metadata": {},
   "source": [
    "## Conlcusion (100 words)\n",
    "\n",
    "Add your text here"
   ]
  },
  {
   "cell_type": "markdown",
   "id": "af9d7122-f277-4054-9a80-9a26df13fee2",
   "metadata": {},
   "source": [
    "## References\n",
    "\n",
    "Add your text here"
   ]
  }
 ],
 "metadata": {
  "kernelspec": {
   "display_name": "Python 3 (ipykernel)",
   "language": "python",
   "name": "python3"
  },
  "language_info": {
   "codemirror_mode": {
    "name": "ipython",
    "version": 3
   },
   "file_extension": ".py",
   "mimetype": "text/x-python",
   "name": "python",
   "nbconvert_exporter": "python",
   "pygments_lexer": "ipython3",
   "version": "3.11.5"
  }
 },
 "nbformat": 4,
 "nbformat_minor": 5
}
