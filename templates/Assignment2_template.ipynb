{
 "cells": [
  {
   "cell_type": "markdown",
   "id": "07ad9a27-496a-4826-87b0-797d8dd00e24",
   "metadata": {},
   "source": [
    "# Assignment 2: Add your title"
   ]
  },
  {
   "cell_type": "code",
   "execution_count": null,
   "id": "5d1464a2-d73e-4614-a26c-ab509fb40bec",
   "metadata": {},
   "outputs": [],
   "source": [
    "# necessary libraries (replace with relevant library imports)"
   ]
  },
  {
   "cell_type": "markdown",
   "id": "558f5e1e-9620-46af-9343-5c4752a3db2c",
   "metadata": {},
   "source": [
    "## How to sumbit (remove when submitting)\n",
    "\n",
    "You will submit through Canvas a `.html` file obtained from a Python `.ipynb` Jupyter Notebook file. To do so, in your `.ipynb` file, follow these steps: `File –> Save and Export as.. –> HTML.` \n",
    "\n",
    "**Important:** Prior to this step, the notebook needs to be rendered (i.e. all the cells should be executed). Other file formats will not be accepted."
   ]
  },
  {
   "cell_type": "markdown",
   "id": "f898a88e-4f3c-4c2c-bcf5-448b2fe95007",
   "metadata": {},
   "source": [
    "## Introduction, Context and Short literature review on the problem (250 words)\n",
    "\n",
    "Add your text here"
   ]
  },
  {
   "cell_type": "code",
   "execution_count": null,
   "id": "87f0e679-b390-4db8-b8b4-1b67bb8b4b46",
   "metadata": {},
   "outputs": [],
   "source": [
    "# Introductory Static Maps (replace with code and comments)"
   ]
  },
  {
   "cell_type": "markdown",
   "id": "c2f41eff-0a31-4fa3-a9c0-824cf0a38582",
   "metadata": {},
   "source": [
    "## Data sources Presentation (200 words)\n",
    "\n",
    "Add your text here. You can use an API, or not."
   ]
  },
  {
   "cell_type": "code",
   "execution_count": null,
   "id": "07de2958-32b1-4686-bd96-fdfe88deba77",
   "metadata": {},
   "outputs": [],
   "source": [
    "## API Code or loading data sources (replace with code and comments)"
   ]
  },
  {
   "cell_type": "markdown",
   "id": "fed05faa-1739-488b-ade1-9d621316b392",
   "metadata": {},
   "source": [
    "## Dashboard Rationale (200 words)\n",
    "\n",
    "Add your text here. "
   ]
  },
  {
   "cell_type": "markdown",
   "id": "80fc2208-8cac-4db8-9bcb-b92f4684bea5",
   "metadata": {},
   "source": [
    "## Dashboard's Interactivity and design choices (200 words)\n",
    "\n",
    "Add your text here. "
   ]
  },
  {
   "cell_type": "code",
   "execution_count": null,
   "id": "7d8eec7c-0559-4c14-9a8f-6002d9f6ed7c",
   "metadata": {},
   "outputs": [],
   "source": [
    "# Final Dashboard (one) code (replace with code and comments)\n",
    "pn.extension() # do not remove\n",
    "\n",
    "dashboard = pn.Column(..) # your dashboard code"
   ]
  },
  {
   "cell_type": "code",
   "execution_count": null,
   "id": "60209e33-dea4-46ab-9bb0-bff4786628ea",
   "metadata": {},
   "outputs": [],
   "source": [
    "# Save and reload the dashboard - Necessary to upload on Canvas a self-contained html file\n",
    "## do not remove, just replace with relevant file paths\n",
    "from bokeh.resources import INLINE\n",
    "from IPython.display import HTML\n",
    "\n",
    "dashboard.save('ENVS456/dashboard.html', embed=True, resources=INLINE)\n",
    "\n",
    "# Assuming 'example.html' is your HTML file\n",
    "with open('ENVS456/dashboard.html', 'r') as file:\n",
    "    html_dashboard = file.read()\n",
    "\n",
    "# Display the HTML content in the notebook\n",
    "HTML(html_dashboard)"
   ]
  },
  {
   "cell_type": "markdown",
   "id": "5c08590f-1ade-4b8f-a751-66c6ff41320a",
   "metadata": {},
   "source": [
    "## Conlcusion (100 words)\n",
    "\n",
    "Add your text here"
   ]
  },
  {
   "cell_type": "markdown",
   "id": "af9d7122-f277-4054-9a80-9a26df13fee2",
   "metadata": {},
   "source": [
    "## References\n",
    "\n",
    "Add your text here"
   ]
  }
 ],
 "metadata": {
  "kernelspec": {
   "display_name": "Python 3 (ipykernel)",
   "language": "python",
   "name": "python3"
  },
  "language_info": {
   "codemirror_mode": {
    "name": "ipython",
    "version": 3
   },
   "file_extension": ".py",
   "mimetype": "text/x-python",
   "name": "python",
   "nbconvert_exporter": "python",
   "pygments_lexer": "ipython3",
   "version": "3.11.5"
  }
 },
 "nbformat": 4,
 "nbformat_minor": 5
}
